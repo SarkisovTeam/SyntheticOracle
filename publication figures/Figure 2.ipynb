{
 "cells": [
  {
   "attachments": {},
   "cell_type": "markdown",
   "metadata": {
    "collapsed": true,
    "pycharm": {
     "name": "#%% md\n"
    }
   },
   "source": [
    "# Analysing chemical data from bills of materials\n",
    "Use this notebook to explain what SnyOracle is and does in a specific ordered fashion"
   ]
  },
  {
   "cell_type": "code",
   "execution_count": 1,
   "metadata": {},
   "outputs": [],
   "source": [
    "%colors nocolor"
   ]
  },
  {
   "cell_type": "code",
   "execution_count": 2,
   "metadata": {},
   "outputs": [],
   "source": [
    "import os\n",
    "import sys\n",
    "import matplotlib.pyplot as plt\n",
    "import numpy as np\n",
    "import pandas as pd\n",
    "import json\n",
    "import seaborn as sns\n",
    "\n",
    "try:\n",
    "    from synoracle import ingredients\n",
    "except ModuleNotFoundError:\n",
    "    module_path = os.path.abspath(os.path.join('..'))\n",
    "    if module_path not in sys.path:\n",
    "        sys.path.append(module_path)\n",
    "    from synoracle import ingredients\n",
    "\n",
    "from tqdm.notebook import tqdm, trange\n",
    "\n",
    "def li_iterate(li):\n",
    "    l = iter(li)\n",
    "    for _ in trange(len(li)):\n",
    "        yield next(l)"
   ]
  },
  {
   "cell_type": "code",
   "execution_count": 3,
   "metadata": {},
   "outputs": [],
   "source": [
    "with open('./processed_boms.json', 'r', encoding='utf-8') as f:\n",
    "    rawdata = json.loads(f.read())"
   ]
  },
  {
   "cell_type": "code",
   "execution_count": 4,
   "metadata": {},
   "outputs": [
    {
     "name": "stdout",
     "output_type": "stream",
     "text": [
      "Empty DataFrame\n",
      "Columns: [pubchem_id, name, moles, synthesis_number]\n",
      "Index: []\n"
     ]
    },
    {
     "data": {
      "text/html": [
       "<div>\n",
       "<style scoped>\n",
       "    .dataframe tbody tr th:only-of-type {\n",
       "        vertical-align: middle;\n",
       "    }\n",
       "\n",
       "    .dataframe tbody tr th {\n",
       "        vertical-align: top;\n",
       "    }\n",
       "\n",
       "    .dataframe thead th {\n",
       "        text-align: right;\n",
       "    }\n",
       "</style>\n",
       "<table border=\"1\" class=\"dataframe\">\n",
       "  <thead>\n",
       "    <tr style=\"text-align: right;\">\n",
       "      <th></th>\n",
       "      <th>pubchem_id</th>\n",
       "      <th>name</th>\n",
       "      <th>moles</th>\n",
       "      <th>synthesis_number</th>\n",
       "    </tr>\n",
       "  </thead>\n",
       "  <tbody>\n",
       "    <tr>\n",
       "      <th>0</th>\n",
       "      <td>702</td>\n",
       "      <td>[ethanol]</td>\n",
       "      <td>0.000000</td>\n",
       "      <td>0</td>\n",
       "    </tr>\n",
       "    <tr>\n",
       "      <th>1</th>\n",
       "      <td>947</td>\n",
       "      <td>[nitrogen]</td>\n",
       "      <td>0.000000</td>\n",
       "      <td>0</td>\n",
       "    </tr>\n",
       "    <tr>\n",
       "      <th>2</th>\n",
       "      <td>962</td>\n",
       "      <td>[H2O]</td>\n",
       "      <td>1.101671</td>\n",
       "      <td>0</td>\n",
       "    </tr>\n",
       "    <tr>\n",
       "      <th>3</th>\n",
       "      <td>12749</td>\n",
       "      <td>[2-methylimidazole]</td>\n",
       "      <td>0.002000</td>\n",
       "      <td>0</td>\n",
       "    </tr>\n",
       "    <tr>\n",
       "      <th>4</th>\n",
       "      <td>24821</td>\n",
       "      <td>[Co(NO3)2·6H2O]</td>\n",
       "      <td>0.000500</td>\n",
       "      <td>0</td>\n",
       "    </tr>\n",
       "  </tbody>\n",
       "</table>\n",
       "</div>"
      ],
      "text/plain": [
       "   pubchem_id                 name     moles synthesis_number\n",
       "0         702            [ethanol]  0.000000                0\n",
       "1         947           [nitrogen]  0.000000                0\n",
       "2         962                [H2O]  1.101671                0\n",
       "3       12749  [2-methylimidazole]  0.002000                0\n",
       "4       24821      [Co(NO3)2·6H2O]  0.000500                0"
      ]
     },
     "metadata": {},
     "output_type": "display_data"
    }
   ],
   "source": [
    "alldata = pd.DataFrame(columns=['pubchem_id','name', 'moles', 'synthesis_number'])\n",
    "print(alldata)\n",
    "for k,v in rawdata.items():\n",
    "    placeholder = pd.DataFrame(eval(v)).reset_index().rename(columns={'index': 'pubchem_id'})\n",
    "    placeholder['synthesis_number']=int(k)\n",
    "    alldata = alldata.append(placeholder)\n",
    "\n",
    "alldata['pubchem_id'] = alldata['pubchem_id'].astype(int)\n",
    "display(alldata.head())"
   ]
  },
  {
   "cell_type": "code",
   "execution_count": 5,
   "metadata": {},
   "outputs": [],
   "source": [
    "def contains_element(pubchem_id: int, element_symbol: str) -> bool:\n",
    "    entity = ingredients.ChemicalSpecies(alias=int(pubchem_id), property_cache_location='./cached_molecule_info.json')\n",
    "    return element_symbol in entity.mol_formula\n",
    "\n",
    "def substructure_compare(query_id, compare_id):\n",
    "    from rdkit import Chem\n",
    "    compare = ingredients.ChemicalSpecies(alias=int(compare_id), property_cache_location='./cached_molecule_info.json')\n",
    "    query = ingredients.ChemicalSpecies(alias=int(query_id), property_cache_location='./cached_molecule_info.json')\n",
    "\n",
    "    compare_chem = Chem.MolFromSmiles(compare.smiles)\n",
    "    query_chem = Chem.MolFromSmiles(query.smiles)\n",
    "    return query_chem.HasSubstructMatch(compare_chem)    \n",
    "\n",
    "def contains_imidazole(pubchem_id: int) -> bool:\n",
    "    return substructure_compare(pubchem_id, 795)\n",
    "\n",
    "useful_ions = {\n",
    "    'nitrate': 943,\n",
    "    'sulfate': 1117,\n",
    "    'acetate': 175,\n",
    "    'chloride': 312,\n",
    "    'oxide': 190217\n",
    "}\n"
   ]
  },
  {
   "cell_type": "code",
   "execution_count": 6,
   "metadata": {},
   "outputs": [],
   "source": [
    "with open('./chemical_typing_crossreference.json', 'r') as f:\n",
    "    crossref = pd.DataFrame(json.load(f))\n",
    "crossref.index = crossref.index.astype(int)"
   ]
  },
  {
   "cell_type": "code",
   "execution_count": 7,
   "metadata": {},
   "outputs": [
    {
     "data": {
      "application/vnd.jupyter.widget-view+json": {
       "model_id": "daa707532eb546f8a83fbc017862f3ab",
       "version_major": 2,
       "version_minor": 0
      },
      "text/plain": [
       "  0%|          | 0/407 [00:00<?, ?it/s]"
      ]
     },
     "metadata": {},
     "output_type": "display_data"
    }
   ],
   "source": [
    "indices = list(alldata['pubchem_id'].unique())\n",
    "for x in li_iterate(indices):\n",
    "    try:\n",
    "        if np.isnan(crossref.loc[x, 'contains_zinc']):\n",
    "            print(x)\n",
    "            for k,v in useful_ions.items():\n",
    "                crossref.loc[x, f'contains_{k}'] = substructure_compare(x, v)\n",
    "            crossref.loc[x, 'contains_imidazole'] = contains_imidazole(x)\n",
    "            crossref.loc[x, 'contains_zinc'] = contains_element(x, 'Zn')\n",
    "            crossref.loc[x, 'contains_cobalt'] = contains_element(x, 'Co')\n",
    "    except KeyError:\n",
    "        print(x)\n",
    "        for k,v in useful_ions.items():\n",
    "            crossref.loc[x, f'contains_{k}'] = substructure_compare(x, v)\n",
    "        crossref.loc[x, 'contains_imidazole'] = contains_imidazole(x)\n",
    "        crossref.loc[x, 'contains_zinc'] = contains_element(x, 'Zn')\n",
    "        crossref.loc[x, 'contains_cobalt'] = contains_element(x, 'Co')\n",
    "\n",
    "acids = [311, 313,612,944,  176, 243, 1004,1118, 1133,1152, 14917, 284, \n",
    "        1004, 6209, 6347, 7470, 7489, 8496, 11138, 25516, 25517, \n",
    "        71370, 517327, 3720192, 6097028]\n",
    "bases = [1049,1146,129760994, 14797, 14798, 168937, 20586,\n",
    "         222, 223,23675242, 24243, 243, 24436, 24540, 24654,3301, 5962,\n",
    "        6115, 6224, 6341, 6503, 7497, 7504, 7618, 7852, 8007, 8102, \n",
    "        8111, 8471, 9033, 9237, 9321, 10005, 11107, 14923, 20586,\n",
    "        24540, 168937, 517045, 2723810,23675242, 129760994 ]\n",
    "amphoteric = [23663617, 283,943,961,1176, 14013]\n",
    "surfactants = [5974, 8154, 14253, 2735067, 3423265, 5356789,\n",
    "              5364713]\n",
    "solvent_maps = [887, 962, 702, 6228, 6212, 1140, 174, 8028, 679, 8007, 6344, 8058, 3776, 5125, 12051]\n",
    "\n",
    "crossref['contains_acid'] = crossref.index.isin([x for x in acids])\n",
    "crossref['contains_base'] = crossref.index.isin([x for x in bases])\n",
    "crossref['contains_amphoteric'] = crossref.index.isin([x for x in amphoteric])\n",
    "crossref['contains_surfactant'] = crossref.index.isin([x for x in surfactants])\n",
    "crossref['contains_solvent'] = crossref.index.isin([x for x in solvent_maps])\n"
   ]
  },
  {
   "cell_type": "code",
   "execution_count": 8,
   "metadata": {},
   "outputs": [
    {
     "data": {
      "text/html": [
       "<div>\n",
       "<style scoped>\n",
       "    .dataframe tbody tr th:only-of-type {\n",
       "        vertical-align: middle;\n",
       "    }\n",
       "\n",
       "    .dataframe tbody tr th {\n",
       "        vertical-align: top;\n",
       "    }\n",
       "\n",
       "    .dataframe thead th {\n",
       "        text-align: right;\n",
       "    }\n",
       "</style>\n",
       "<table border=\"1\" class=\"dataframe\">\n",
       "  <thead>\n",
       "    <tr style=\"text-align: right;\">\n",
       "      <th></th>\n",
       "      <th>contains_imidazole</th>\n",
       "      <th>contains_nitrate</th>\n",
       "      <th>contains_sulfate</th>\n",
       "      <th>contains_acetate</th>\n",
       "      <th>contains_chloride</th>\n",
       "      <th>contains_oxide</th>\n",
       "      <th>contains_zinc</th>\n",
       "      <th>contains_cobalt</th>\n",
       "      <th>contains_acid</th>\n",
       "      <th>contains_base</th>\n",
       "      <th>contains_amphoteric</th>\n",
       "      <th>contains_surfactant</th>\n",
       "      <th>contains_solvent</th>\n",
       "    </tr>\n",
       "  </thead>\n",
       "  <tbody>\n",
       "    <tr>\n",
       "      <th>702</th>\n",
       "      <td>False</td>\n",
       "      <td>False</td>\n",
       "      <td>False</td>\n",
       "      <td>False</td>\n",
       "      <td>False</td>\n",
       "      <td>False</td>\n",
       "      <td>False</td>\n",
       "      <td>False</td>\n",
       "      <td>False</td>\n",
       "      <td>False</td>\n",
       "      <td>False</td>\n",
       "      <td>False</td>\n",
       "      <td>True</td>\n",
       "    </tr>\n",
       "    <tr>\n",
       "      <th>947</th>\n",
       "      <td>False</td>\n",
       "      <td>False</td>\n",
       "      <td>False</td>\n",
       "      <td>False</td>\n",
       "      <td>False</td>\n",
       "      <td>False</td>\n",
       "      <td>False</td>\n",
       "      <td>False</td>\n",
       "      <td>False</td>\n",
       "      <td>False</td>\n",
       "      <td>False</td>\n",
       "      <td>False</td>\n",
       "      <td>False</td>\n",
       "    </tr>\n",
       "    <tr>\n",
       "      <th>962</th>\n",
       "      <td>False</td>\n",
       "      <td>False</td>\n",
       "      <td>False</td>\n",
       "      <td>False</td>\n",
       "      <td>False</td>\n",
       "      <td>False</td>\n",
       "      <td>False</td>\n",
       "      <td>False</td>\n",
       "      <td>False</td>\n",
       "      <td>False</td>\n",
       "      <td>False</td>\n",
       "      <td>False</td>\n",
       "      <td>True</td>\n",
       "    </tr>\n",
       "    <tr>\n",
       "      <th>12749</th>\n",
       "      <td>True</td>\n",
       "      <td>False</td>\n",
       "      <td>False</td>\n",
       "      <td>False</td>\n",
       "      <td>False</td>\n",
       "      <td>False</td>\n",
       "      <td>False</td>\n",
       "      <td>False</td>\n",
       "      <td>False</td>\n",
       "      <td>False</td>\n",
       "      <td>False</td>\n",
       "      <td>False</td>\n",
       "      <td>False</td>\n",
       "    </tr>\n",
       "    <tr>\n",
       "      <th>24821</th>\n",
       "      <td>False</td>\n",
       "      <td>True</td>\n",
       "      <td>False</td>\n",
       "      <td>False</td>\n",
       "      <td>False</td>\n",
       "      <td>False</td>\n",
       "      <td>False</td>\n",
       "      <td>True</td>\n",
       "      <td>False</td>\n",
       "      <td>False</td>\n",
       "      <td>False</td>\n",
       "      <td>False</td>\n",
       "      <td>False</td>\n",
       "    </tr>\n",
       "  </tbody>\n",
       "</table>\n",
       "</div>"
      ],
      "text/plain": [
       "       contains_imidazole  contains_nitrate  contains_sulfate  \\\n",
       "702                 False             False             False   \n",
       "947                 False             False             False   \n",
       "962                 False             False             False   \n",
       "12749                True             False             False   \n",
       "24821               False              True             False   \n",
       "\n",
       "       contains_acetate  contains_chloride  contains_oxide  contains_zinc  \\\n",
       "702               False              False           False          False   \n",
       "947               False              False           False          False   \n",
       "962               False              False           False          False   \n",
       "12749             False              False           False          False   \n",
       "24821             False              False           False          False   \n",
       "\n",
       "       contains_cobalt  contains_acid  contains_base  contains_amphoteric  \\\n",
       "702              False          False          False                False   \n",
       "947              False          False          False                False   \n",
       "962              False          False          False                False   \n",
       "12749            False          False          False                False   \n",
       "24821             True          False          False                False   \n",
       "\n",
       "       contains_surfactant  contains_solvent  \n",
       "702                  False              True  \n",
       "947                  False             False  \n",
       "962                  False              True  \n",
       "12749                False             False  \n",
       "24821                False             False  "
      ]
     },
     "execution_count": 8,
     "metadata": {},
     "output_type": "execute_result"
    }
   ],
   "source": [
    "crossref.head()"
   ]
  },
  {
   "cell_type": "code",
   "execution_count": 9,
   "metadata": {},
   "outputs": [],
   "source": [
    "crossref.to_json('./chemical_typing_crossreference.json')"
   ]
  },
  {
   "cell_type": "code",
   "execution_count": 10,
   "metadata": {},
   "outputs": [],
   "source": [
    "\n",
    "alldata = pd.merge(alldata, crossref, left_on='pubchem_id', right_index=True)"
   ]
  },
  {
   "cell_type": "code",
   "execution_count": 11,
   "metadata": {},
   "outputs": [],
   "source": [
    "by_chemicals = alldata.groupby('pubchem_id').aggregate({\n",
    "    'name': sum, \n",
    "    'moles': max,\n",
    "    'synthesis_number': lambda x: len(list(x)),\n",
    "    'contains_imidazole': np.all,\n",
    "    'contains_zinc': np.all,\n",
    "    'contains_nitrate': np.all,\n",
    "    'contains_sulfate': np.all,\n",
    "    'contains_acetate': np.all,\n",
    "    'contains_chloride': np.all,\n",
    "    'contains_oxide': np.all,\n",
    "    'contains_cobalt': np.all\n",
    "\n",
    "}).sort_values(by='synthesis_number', ascending=False)"
   ]
  },
  {
   "attachments": {},
   "cell_type": "markdown",
   "metadata": {},
   "source": [
    "## Imidazole statistics"
   ]
  },
  {
   "cell_type": "code",
   "execution_count": 16,
   "metadata": {},
   "outputs": [
    {
     "name": "stderr",
     "output_type": "stream",
     "text": [
      "c:\\Users\\d23895jm\\Anaconda3\\envs\\SynOracle\\lib\\site-packages\\ipykernel_launcher.py:20: UserWarning: FixedFormatter should only be used together with FixedLocator\n"
     ]
    },
    {
     "data": {
      "image/png": "[encoded data removed]",
      "text/plain": [
       "<Figure size 432x288 with 1 Axes>"
      ]
     },
     "metadata": {
      "needs_background": "light"
     },
     "output_type": "display_data"
    }
   ],
   "source": [
    "import matplotlib.pyplot as plt\n",
    "fig, ax = plt.subplots()\n",
    "data = by_chemicals[\n",
    "    (by_chemicals['contains_imidazole']) & (~by_chemicals['contains_zinc']) & (~by_chemicals['contains_cobalt'])\n",
    "    ].head(4).rename(index={12749: 'MeIM', 5798: 'bIM', 795: 'IM', 24955: 'IM-CHO'}, )#.plot.bar(y='synthesis_number', ax=ax,)\n",
    "\n",
    "sns.barplot(\n",
    "    data=data.reset_index(), \n",
    "    y='synthesis_number', \n",
    "    x='pubchem_id', \n",
    "    color='steelblue', \n",
    "    edgecolor='k',\n",
    "    linewidth=1,\n",
    "    alpha=1\n",
    ")\n",
    "\n",
    "\n",
    "xticklabels = ['MeIM', 'bIM', 'IM', 'IM-CHO']\n",
    "ax.set_xticklabels(xticklabels, rotation=0, fontsize=20)\n",
    "ax.set_yticklabels(labels =[int(x) for x in  ax.get_yticks()], fontsize=16)\n",
    "\n",
    "ax.set_xlabel('')\n",
    "ax.set_ylabel('Frequency (# papers)', fontsize=20)\n",
    "ax.annotate('A', (0.5, 1050), fontsize=24)\n",
    "plt.tight_layout()\n",
    "plt.savefig('Fig 2a.png', dpi=900)"
   ]
  },
  {
   "attachments": {},
   "cell_type": "markdown",
   "metadata": {},
   "source": [
    "## Metal salt statistics"
   ]
  },
  {
   "cell_type": "code",
   "execution_count": 13,
   "metadata": {},
   "outputs": [],
   "source": [
    "by_chemicals[\n",
    "    (by_chemicals['contains_zinc']) & (~by_chemicals['contains_imidazole'])\n",
    "].groupby('contains_acetate').aggregate(sum)\n",
    "\n",
    "acetate_mask = {x: 'acetate' for x in np.where(by_chemicals['contains_acetate'])[0]}\n",
    "chloride_mask = {x: 'chloride' for x in np.where(by_chemicals['contains_chloride'])[0]}\n",
    "nitrate_mask = {x: 'nitrate' for x in np.where(by_chemicals['contains_nitrate'])[0]}\n",
    "sulfate_mask = {x: 'sulfate' for x in np.where(by_chemicals['contains_sulfate'])[0]}\n",
    "oxide_mask = {x: 'oxide' for x in np.where(by_chemicals['contains_oxide'])[0]}\n",
    "unclear_mask = {x: 'unclear' for x in np.where(\n",
    "    (~by_chemicals['contains_oxide']) & (~by_chemicals['contains_acetate']) & (~by_chemicals['contains_chloride']) & (~by_chemicals['contains_nitrate']) & (~by_chemicals['contains_sulfate'])\n",
    "    )[0]}\n",
    "unclear_mask\n",
    "\n",
    "anion_mask = pd.DataFrame({**acetate_mask, **chloride_mask, **nitrate_mask, **sulfate_mask, **oxide_mask, **unclear_mask}, index = ['anion']).T.sort_index()\n",
    "\n",
    "by_salt_type = by_chemicals.reset_index().join(anion_mask)\n"
   ]
  },
  {
   "cell_type": "code",
   "execution_count": 14,
   "metadata": {},
   "outputs": [],
   "source": [
    "zinc_salts = by_salt_type[by_salt_type['contains_zinc']].groupby('anion').aggregate('sum')\n",
    "cobalt_salts = by_salt_type[by_salt_type['contains_cobalt']].groupby('anion').aggregate('sum')"
   ]
  },
  {
   "cell_type": "code",
   "execution_count": 17,
   "metadata": {},
   "outputs": [
    {
     "name": "stderr",
     "output_type": "stream",
     "text": [
      "c:\\Users\\d23895jm\\Anaconda3\\envs\\SynOracle\\lib\\site-packages\\ipykernel_launcher.py:15: UserWarning: FixedFormatter should only be used together with FixedLocator\n",
      "  from ipykernel import kernelapp as app\n"
     ]
    },
    {
     "data": {
      "image/png": "[encoded data removed]",
      "text/plain": [
       "<Figure size 432x288 with 1 Axes>"
      ]
     },
     "metadata": {
      "needs_background": "light"
     },
     "output_type": "display_data"
    }
   ],
   "source": [
    "import seaborn as sns\n",
    "fig, ax = plt.subplots()\n",
    "sns.barplot(data = pd.concat({'$\\mathrm{Zn^{2+}}$': zinc_salts, '$\\mathrm{Co^{2+}}$': cobalt_salts}).reset_index().sort_values(by='synthesis_number', ascending=False),\n",
    "            x='anion',\n",
    "            y = 'synthesis_number',\n",
    "            hue = 'level_0',\n",
    "            ax=ax, \n",
    "            order=['nitrate', 'unclear', 'acetate','chloride','sulfate','oxide'],\n",
    "            edgecolor='k',\n",
    "        linewidth=1,\n",
    "        alpha=1\n",
    "            )\n",
    "ax.legend(fontsize=16, title ='Metal', title_fontsize=18)\n",
    "ax.set_ylabel('Frequency (# papers)', fontsize=20)\n",
    "ax.set_yticklabels([int(x) for x in ax.get_yticks()], fontsize=16)\n",
    "\n",
    "ax.set_xticklabels(['$\\mathrm{NO_3^-}$', 'N/A', '$\\mathrm{OAc^-}$', '$\\mathrm{Cl^-}$', '$\\mathrm{SO_4^{2-}}$', '$\\mathrm{O^{2-}}$'], fontsize=16)\n",
    "ax.set_xlabel('')\n",
    "ax.annotate('B', (0.225, 825), fontsize=24)\n",
    "plt.tight_layout()\n",
    "plt.savefig('Fig 2b.png', dpi=900)"
   ]
  }
 ],
 "metadata": {
  "kernelspec": {
   "display_name": "Python 3",
   "language": "python",
   "name": "python3"
  },
  "language_info": {
   "codemirror_mode": {
    "name": "ipython",
    "version": 3
   },
   "file_extension": ".py",
   "mimetype": "text/x-python",
   "name": "python",
   "nbconvert_exporter": "python",
   "pygments_lexer": "ipython3",
   "version": "3.7.10"
  },
  "toc": {
   "base_numbering": 1,
   "nav_menu": {},
   "number_sections": true,
   "sideBar": true,
   "skip_h1_title": true,
   "title_cell": "Table of Contents",
   "title_sidebar": "Contents",
   "toc_cell": false,
   "toc_position": {},
   "toc_section_display": true,
   "toc_window_display": false
  },
  "vscode": {
   "interpreter": {
    "hash": "b267987cce06007f6e03e8695abe5dfedc27fae1ae9ceb4e211c82b4ab32ec14"
   }
  }
 },
 "nbformat": 4,
 "nbformat_minor": 1
}
