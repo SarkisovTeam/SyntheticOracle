{
 "cells": [
  {
   "attachments": {},
   "cell_type": "markdown",
   "metadata": {
    "collapsed": true,
    "pycharm": {
     "name": "#%% md\n"
    }
   },
   "source": [
    "# In this notebook, we're going to take our json data tables and do some linear fittings"
   ]
  },
  {
   "cell_type": "code",
   "execution_count": 1,
   "metadata": {},
   "outputs": [],
   "source": [
    "# helps with debugging in VSCode\n",
    "%colors nocolor"
   ]
  },
  {
   "cell_type": "code",
   "execution_count": 2,
   "metadata": {},
   "outputs": [],
   "source": [
    "import os\n",
    "import sys\n",
    "import matplotlib.pyplot as plt\n",
    "import numpy as np\n",
    "import pandas as pd\n",
    "import json\n",
    "import seaborn as sns\n",
    "\n",
    "try:\n",
    "    from synoracle import ingredients\n",
    "except ModuleNotFoundError:\n",
    "    module_path = os.path.abspath(os.path.join('..'))\n",
    "    if module_path not in sys.path:\n",
    "        sys.path.append(module_path)\n",
    "    from synoracle import ingredients\n",
    "\n",
    "from tqdm.notebook import tqdm, trange\n",
    "\n",
    "def li_iterate(li):\n",
    "    l = iter(li)\n",
    "    for _ in trange(len(li)):\n",
    "        yield next(l)"
   ]
  },
  {
   "cell_type": "code",
   "execution_count": 3,
   "metadata": {},
   "outputs": [],
   "source": [
    "with open(\"./broken_down_boms.json\", 'r', encoding='utf-8') as f:\n",
    "    rawdata = json.loads(f.read())"
   ]
  },
  {
   "cell_type": "code",
   "execution_count": 4,
   "metadata": {},
   "outputs": [],
   "source": [
    "boms = pd.DataFrame(rawdata)"
   ]
  },
  {
   "cell_type": "code",
   "execution_count": 5,
   "metadata": {},
   "outputs": [],
   "source": [
    "with open('./chemical_typing_crossreference.json', 'r', encoding='utf-8') as f:\n",
    "    crossref = json.loads(f.read())"
   ]
  },
  {
   "cell_type": "code",
   "execution_count": 6,
   "metadata": {},
   "outputs": [],
   "source": [
    "xref = pd.DataFrame(crossref)\n",
    "\n",
    "xref.index = xref.index.astype(int)"
   ]
  },
  {
   "cell_type": "code",
   "execution_count": 7,
   "metadata": {},
   "outputs": [],
   "source": [
    "boms_xrefed = pd.merge(boms, xref, left_on='level_0', right_index=True)\n",
    "boms_xrefed['level_0'] = boms_xrefed['level_0'].astype(int)"
   ]
  },
  {
   "cell_type": "code",
   "execution_count": 8,
   "metadata": {},
   "outputs": [
    {
     "data": {
      "text/html": [
       "<div>\n",
       "<style scoped>\n",
       "    .dataframe tbody tr th:only-of-type {\n",
       "        vertical-align: middle;\n",
       "    }\n",
       "\n",
       "    .dataframe tbody tr th {\n",
       "        vertical-align: top;\n",
       "    }\n",
       "\n",
       "    .dataframe thead th {\n",
       "        text-align: right;\n",
       "    }\n",
       "</style>\n",
       "<table border=\"1\" class=\"dataframe\">\n",
       "  <thead>\n",
       "    <tr style=\"text-align: right;\">\n",
       "      <th></th>\n",
       "      <th>level_0</th>\n",
       "      <th>step type</th>\n",
       "      <th>name</th>\n",
       "      <th>moles</th>\n",
       "      <th>synthesis_number</th>\n",
       "      <th>index</th>\n",
       "      <th>contains_imidazole</th>\n",
       "      <th>contains_nitrate</th>\n",
       "      <th>contains_sulfate</th>\n",
       "      <th>contains_acetate</th>\n",
       "      <th>contains_chloride</th>\n",
       "      <th>contains_oxide</th>\n",
       "      <th>contains_zinc</th>\n",
       "      <th>contains_cobalt</th>\n",
       "      <th>contains_acid</th>\n",
       "      <th>contains_base</th>\n",
       "      <th>contains_amphoteric</th>\n",
       "      <th>contains_surfactant</th>\n",
       "      <th>contains_solvent</th>\n",
       "    </tr>\n",
       "  </thead>\n",
       "  <tbody>\n",
       "    <tr>\n",
       "      <th>0</th>\n",
       "      <td>962</td>\n",
       "      <td>add</td>\n",
       "      <td>[H2O]</td>\n",
       "      <td>1.101671</td>\n",
       "      <td>0</td>\n",
       "      <td>0.0</td>\n",
       "      <td>False</td>\n",
       "      <td>False</td>\n",
       "      <td>False</td>\n",
       "      <td>False</td>\n",
       "      <td>False</td>\n",
       "      <td>False</td>\n",
       "      <td>False</td>\n",
       "      <td>False</td>\n",
       "      <td>False</td>\n",
       "      <td>False</td>\n",
       "      <td>False</td>\n",
       "      <td>False</td>\n",
       "      <td>True</td>\n",
       "    </tr>\n",
       "    <tr>\n",
       "      <th>24</th>\n",
       "      <td>962</td>\n",
       "      <td>add</td>\n",
       "      <td>[water]</td>\n",
       "      <td>0.242368</td>\n",
       "      <td>4</td>\n",
       "      <td>0.0</td>\n",
       "      <td>False</td>\n",
       "      <td>False</td>\n",
       "      <td>False</td>\n",
       "      <td>False</td>\n",
       "      <td>False</td>\n",
       "      <td>False</td>\n",
       "      <td>False</td>\n",
       "      <td>False</td>\n",
       "      <td>False</td>\n",
       "      <td>False</td>\n",
       "      <td>False</td>\n",
       "      <td>False</td>\n",
       "      <td>True</td>\n",
       "    </tr>\n",
       "    <tr>\n",
       "      <th>26</th>\n",
       "      <td>962</td>\n",
       "      <td>remove</td>\n",
       "      <td>[water]</td>\n",
       "      <td>0.000000</td>\n",
       "      <td>4</td>\n",
       "      <td>2.0</td>\n",
       "      <td>False</td>\n",
       "      <td>False</td>\n",
       "      <td>False</td>\n",
       "      <td>False</td>\n",
       "      <td>False</td>\n",
       "      <td>False</td>\n",
       "      <td>False</td>\n",
       "      <td>False</td>\n",
       "      <td>False</td>\n",
       "      <td>False</td>\n",
       "      <td>False</td>\n",
       "      <td>False</td>\n",
       "      <td>True</td>\n",
       "    </tr>\n",
       "    <tr>\n",
       "      <th>27</th>\n",
       "      <td>962</td>\n",
       "      <td>other</td>\n",
       "      <td>[water]</td>\n",
       "      <td>0.000000</td>\n",
       "      <td>4</td>\n",
       "      <td>3.0</td>\n",
       "      <td>False</td>\n",
       "      <td>False</td>\n",
       "      <td>False</td>\n",
       "      <td>False</td>\n",
       "      <td>False</td>\n",
       "      <td>False</td>\n",
       "      <td>False</td>\n",
       "      <td>False</td>\n",
       "      <td>False</td>\n",
       "      <td>False</td>\n",
       "      <td>False</td>\n",
       "      <td>False</td>\n",
       "      <td>True</td>\n",
       "    </tr>\n",
       "    <tr>\n",
       "      <th>48</th>\n",
       "      <td>962</td>\n",
       "      <td>add</td>\n",
       "      <td>[water]</td>\n",
       "      <td>0.550835</td>\n",
       "      <td>9</td>\n",
       "      <td>0.0</td>\n",
       "      <td>False</td>\n",
       "      <td>False</td>\n",
       "      <td>False</td>\n",
       "      <td>False</td>\n",
       "      <td>False</td>\n",
       "      <td>False</td>\n",
       "      <td>False</td>\n",
       "      <td>False</td>\n",
       "      <td>False</td>\n",
       "      <td>False</td>\n",
       "      <td>False</td>\n",
       "      <td>False</td>\n",
       "      <td>True</td>\n",
       "    </tr>\n",
       "  </tbody>\n",
       "</table>\n",
       "</div>"
      ],
      "text/plain": [
       "    level_0 step type     name     moles  synthesis_number  index  \\\n",
       "0       962       add    [H2O]  1.101671                 0    0.0   \n",
       "24      962       add  [water]  0.242368                 4    0.0   \n",
       "26      962    remove  [water]  0.000000                 4    2.0   \n",
       "27      962     other  [water]  0.000000                 4    3.0   \n",
       "48      962       add  [water]  0.550835                 9    0.0   \n",
       "\n",
       "    contains_imidazole  contains_nitrate  contains_sulfate  contains_acetate  \\\n",
       "0                False             False             False             False   \n",
       "24               False             False             False             False   \n",
       "26               False             False             False             False   \n",
       "27               False             False             False             False   \n",
       "48               False             False             False             False   \n",
       "\n",
       "    contains_chloride  contains_oxide  contains_zinc  contains_cobalt  \\\n",
       "0               False           False          False            False   \n",
       "24              False           False          False            False   \n",
       "26              False           False          False            False   \n",
       "27              False           False          False            False   \n",
       "48              False           False          False            False   \n",
       "\n",
       "    contains_acid  contains_base  contains_amphoteric  contains_surfactant  \\\n",
       "0           False          False                False                False   \n",
       "24          False          False                False                False   \n",
       "26          False          False                False                False   \n",
       "27          False          False                False                False   \n",
       "48          False          False                False                False   \n",
       "\n",
       "    contains_solvent  \n",
       "0               True  \n",
       "24              True  \n",
       "26              True  \n",
       "27              True  \n",
       "48              True  "
      ]
     },
     "execution_count": 8,
     "metadata": {},
     "output_type": "execute_result"
    }
   ],
   "source": [
    "boms_xrefed.head()"
   ]
  },
  {
   "cell_type": "code",
   "execution_count": 9,
   "metadata": {},
   "outputs": [
    {
     "data": {
      "text/plain": [
       "Text(0, 0.5, 'Frequency (# papers)')"
      ]
     },
     "execution_count": 9,
     "metadata": {},
     "output_type": "execute_result"
    },
    {
     "data": {
      "image/png": "[encoded data removed]",
      "text/plain": [
       "<Figure size 432x288 with 1 Axes>"
      ]
     },
     "metadata": {
      "needs_background": "light"
     },
     "output_type": "display_data"
    }
   ],
   "source": [
    "import seaborn as sns\n",
    "import matplotlib.pyplot as plt\n",
    "solvent_table = boms_xrefed[boms_xrefed['contains_solvent']].groupby(\n",
    "    ['level_0', 'step type'] \n",
    ").aggregate('count')\n",
    "\n",
    "fig, ax = plt.subplots()\n",
    "sns.set_context(rc = {'patch.linewidth': 0.6})\n",
    "\n",
    "sns.barplot(\n",
    "    data = solvent_table[(solvent_table['synthesis_number']>15) & (solvent_table.index.get_level_values('step type').isin(['add', 'remove']))].reset_index(),\n",
    "    x = 'level_0',\n",
    "    y = 'synthesis_number',\n",
    "    hue='step type',\n",
    "    order = [887, 962, 702, 6228],\n",
    "    ax=ax,\n",
    "\n",
    "    )\n",
    "\n",
    "xticklabels = ['MeOH', 'H2O', 'EtOH', 'DMF']\n",
    "ax.set_xticklabels(xticklabels, rotation=0)\n",
    "ax.set_xlabel('')\n",
    "ax.set_ylabel('Frequency (# papers)')"
   ]
  },
  {
   "cell_type": "code",
   "execution_count": 12,
   "metadata": {},
   "outputs": [
    {
     "data": {
      "text/html": [
       "<div>\n",
       "<style scoped>\n",
       "    .dataframe tbody tr th:only-of-type {\n",
       "        vertical-align: middle;\n",
       "    }\n",
       "\n",
       "    .dataframe tbody tr th {\n",
       "        vertical-align: top;\n",
       "    }\n",
       "\n",
       "    .dataframe thead th {\n",
       "        text-align: right;\n",
       "    }\n",
       "</style>\n",
       "<table border=\"1\" class=\"dataframe\">\n",
       "  <thead>\n",
       "    <tr style=\"text-align: right;\">\n",
       "      <th></th>\n",
       "      <th>step type</th>\n",
       "      <th>chemical</th>\n",
       "      <th>Count</th>\n",
       "      <th>Reaction stage</th>\n",
       "    </tr>\n",
       "  </thead>\n",
       "  <tbody>\n",
       "    <tr>\n",
       "      <th>0</th>\n",
       "      <td>add</td>\n",
       "      <td>887</td>\n",
       "      <td>730</td>\n",
       "      <td>Addition</td>\n",
       "    </tr>\n",
       "    <tr>\n",
       "      <th>1</th>\n",
       "      <td>add</td>\n",
       "      <td>962</td>\n",
       "      <td>283</td>\n",
       "      <td>Addition</td>\n",
       "    </tr>\n",
       "    <tr>\n",
       "      <th>2</th>\n",
       "      <td>add</td>\n",
       "      <td>6228</td>\n",
       "      <td>117</td>\n",
       "      <td>Addition</td>\n",
       "    </tr>\n",
       "    <tr>\n",
       "      <th>3</th>\n",
       "      <td>add</td>\n",
       "      <td>887 962</td>\n",
       "      <td>56</td>\n",
       "      <td>Addition</td>\n",
       "    </tr>\n",
       "    <tr>\n",
       "      <th>4</th>\n",
       "      <td>add</td>\n",
       "      <td>702</td>\n",
       "      <td>53</td>\n",
       "      <td>Addition</td>\n",
       "    </tr>\n",
       "  </tbody>\n",
       "</table>\n",
       "</div>"
      ],
      "text/plain": [
       "  step type chemical  Count Reaction stage\n",
       "0       add      887    730       Addition\n",
       "1       add      962    283       Addition\n",
       "2       add     6228    117       Addition\n",
       "3       add  887 962     56       Addition\n",
       "4       add      702     53       Addition"
      ]
     },
     "metadata": {},
     "output_type": "display_data"
    },
    {
     "name": "stderr",
     "output_type": "stream",
     "text": [
      "c:\\Users\\d23895jm\\Anaconda3\\envs\\SynOracle\\lib\\site-packages\\ipykernel_launcher.py:55: UserWarning: FixedFormatter should only be used together with FixedLocator\n"
     ]
    },
    {
     "data": {
      "image/png": "[encoded data removed]",
      "text/plain": [
       "<Figure size 432x288 with 1 Axes>"
      ]
     },
     "metadata": {
      "needs_background": "light"
     },
     "output_type": "display_data"
    }
   ],
   "source": [
    "solvent_mixes = boms_xrefed[(boms_xrefed['contains_solvent'])].groupby(['synthesis_number', 'step type']).aggregate({'level_0':lambda x: ' '.join([str(x) for x in sorted(list(set(x)))])})\n",
    "\n",
    "\n",
    "solvent_mixes_combined = pd.DataFrame(pd.concat({\n",
    "    'add':solvent_mixes.xs('add', level=1).value_counts()[solvent_mixes.xs('add', level=1).value_counts()>10], \n",
    "    'remove': solvent_mixes.xs('remove', level=1).value_counts()[solvent_mixes.xs('remove', level=1).value_counts()>10]\n",
    "    }), columns=['Count'])\n",
    "\n",
    "\n",
    "solvent_mixes_combined.index = solvent_mixes_combined.index.rename('chemical', level=1).rename('step type', level=0)\n",
    "solvent_mixes_combined = solvent_mixes_combined.reset_index()\n",
    "\n",
    "solvent_mixes_combined['Reaction stage'] = solvent_mixes_combined['step type'].map({'add': 'Addition', 'remove': 'Washing'})\n",
    "\n",
    "display(solvent_mixes_combined.head())\n",
    "fig, ax = plt.subplots()\n",
    "\n",
    "#sns.set_context(rc = {'patch.linewidth': 1, 'patch.edgecolor': 'k', 'alpha':1})\n",
    "\n",
    "sns.barplot(\n",
    "    data=solvent_mixes_combined,\n",
    "    x='chemical',\n",
    "    y='Count', \n",
    "    hue='Reaction stage', \n",
    "    ax=ax, \n",
    "    order=[\n",
    "    \"887\", \"962\", \"6228\", \"702\",\n",
    "    \"887 962\", \"702 962\",# \"702 887\",\n",
    "    \"887 6228\",# \"962 6228\", \"702 6228\"\n",
    "    ],\n",
    "    edgecolor='k',\n",
    "    linewidth=1,\n",
    "    alpha=1\n",
    ")\n",
    "\n",
    "\n",
    "label_map = {\n",
    "    \"887\": 'MeOH',\n",
    "    \"962\": \"H$_2$O\",\n",
    "    \"6228\": \"DMF\",\n",
    "    \"702\": \"EtOH\",\n",
    "    \"887 962\": \"MeOH\\nH$_2$O\",\n",
    "    \"702 887\": \"MeOH\\nEtOH\",\n",
    "    \"887 6228\": \"MeOH\\nDMF\",\n",
    "    \"702 962\": \"EtOH\\nH$_2$O\",\n",
    "    \"962 6228\": \"DMF\\nH$_2$O\",\n",
    "    \"702 6228\": \"DMF\\nEtOH\"\n",
    "}\n",
    "\n",
    "ax.legend(fontsize=16, title = 'Reaction stage', title_fontsize=18)\n",
    "\n",
    "\n",
    "xticklabels = [label_map[x.get_text()] for x in ax.get_xticklabels()]\n",
    "ax.set_xticklabels(xticklabels, rotation=0, fontsize=16)\n",
    "ax.set_yticklabels([int(x) for x in ax.get_yticks()], fontsize=16)\n",
    "ax.set_ylabel('Frequency (# papers)', fontsize=20)\n",
    "ax.annotate('B', (0.5, 675), fontsize=24)\n",
    "ax.set_xlabel('')\n",
    "#xticklabels\n",
    "\n",
    "plt.tight_layout()\n",
    "plt.savefig('Fig 4b.png', dpi=900)"
   ]
  },
  {
   "cell_type": "code",
   "execution_count": 13,
   "metadata": {},
   "outputs": [
    {
     "name": "stderr",
     "output_type": "stream",
     "text": [
      "c:\\Users\\d23895jm\\Anaconda3\\envs\\SynOracle\\lib\\site-packages\\ipykernel_launcher.py:49: UserWarning: FixedFormatter should only be used together with FixedLocator\n"
     ]
    },
    {
     "data": {
      "image/png": "[encoded data removed]",
      "text/plain": [
       "<Figure size 432x288 with 1 Axes>"
      ]
     },
     "metadata": {
      "needs_background": "light"
     },
     "output_type": "display_data"
    }
   ],
   "source": [
    "data = boms_xrefed[\n",
    "    (boms_xrefed['contains_solvent']) &\\\n",
    "    (boms_xrefed['moles']>0) &\\\n",
    "    (boms_xrefed['level_0'].isin([887, 962, 702, 6228])) &\\\n",
    "    (boms_xrefed['step type'].isin(['add', 'remove']))\n",
    "    ].rename({\n",
    "    962: 'H2O',\n",
    "    887: 'MeOH',\n",
    "    702: 'EtOH',\n",
    "    6228:'DMF',\n",
    "    'level_0': 'Solvent'\n",
    "    }, axis=1).replace({\n",
    "    962: 'H2O',\n",
    "    887: 'MeOH',\n",
    "    702: 'EtOH',\n",
    "    6228:'DMF',\n",
    "    'level_0': 'Solvent'\n",
    "    }).sort_values(by='Solvent', ascending=False)\n",
    "\n",
    "data['logmoles'] = data['moles'].apply(np.log10)\n",
    "\n",
    "fig, ax = plt.subplots()\n",
    "\n",
    "sns.histplot(\n",
    "    data = data,\n",
    "    x = 'logmoles',\n",
    "    hue='Solvent',\n",
    "    multiple='stack',\n",
    "    hue_order = ['MeOH', 'H2O', 'EtOH', 'DMF'],\n",
    "    bins=30,\n",
    "    ax=ax,\n",
    "    edgecolor='k',\n",
    "    linewidth=1,\n",
    "    alpha=1\n",
    "    )\n",
    "\n",
    "\n",
    "legend = ax.get_legend()\n",
    "handles = legend.legendHandles\n",
    "\n",
    "legend.remove()\n",
    "ax.legend(handles, ['MeOH', 'H$_2$O', 'EtOH', 'DMF'], fontsize=16, title = 'Solvent', title_fontsize=18, loc=(0.65,0.3))\n",
    "\n",
    "\n",
    "ax.set_xlim([-2,2.5])\n",
    "\n",
    "ax.set_xticks([-2,-1,0,1,2])\n",
    "ax.set_xticklabels([ '$10^{-2}$', '$10^{-1}$', '$10^{0}$', '$10^{1}$', '$10^{2}$'], fontsize=16)\n",
    "ax.set_yticklabels([int(x) for x in ax.get_yticks()], fontsize=16)\n",
    "\n",
    "ax.set_ylabel('Frequency (# papers)', fontsize=20)\n",
    "ax.set_xlabel('Moles', fontsize=20)\n",
    "ax.annotate('C', (-1.75, 260), fontsize=24)\n",
    "\n",
    "plt.tight_layout()\n",
    "plt.savefig('Fig 4c.png', dpi=900)"
   ]
  }
 ],
 "metadata": {
  "kernelspec": {
   "display_name": "Python 3",
   "language": "python",
   "name": "python3"
  },
  "language_info": {
   "codemirror_mode": {
    "name": "ipython",
    "version": 3
   },
   "file_extension": ".py",
   "mimetype": "text/x-python",
   "name": "python",
   "nbconvert_exporter": "python",
   "pygments_lexer": "ipython3",
   "version": "3.7.10"
  },
  "toc": {
   "base_numbering": 1,
   "nav_menu": {},
   "number_sections": true,
   "sideBar": true,
   "skip_h1_title": true,
   "title_cell": "Table of Contents",
   "title_sidebar": "Contents",
   "toc_cell": false,
   "toc_position": {},
   "toc_section_display": true,
   "toc_window_display": false
  },
  "vscode": {
   "interpreter": {
    "hash": "b267987cce06007f6e03e8695abe5dfedc27fae1ae9ceb4e211c82b4ab32ec14"
   }
  }
 },
 "nbformat": 4,
 "nbformat_minor": 1
}
