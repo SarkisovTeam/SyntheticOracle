{
 "cells": [
  {
   "attachments": {},
   "cell_type": "markdown",
   "metadata": {
    "collapsed": true,
    "pycharm": {
     "name": "#%% md\n"
    }
   },
   "source": [
    "# In this notebook, we're going to take our json data tables and do some linear fittings"
   ]
  },
  {
   "cell_type": "code",
   "execution_count": 2,
   "metadata": {},
   "outputs": [],
   "source": [
    "# helps with debugging in VSCode\n",
    "%colors nocolor"
   ]
  },
  {
   "cell_type": "code",
   "execution_count": 1,
   "metadata": {},
   "outputs": [],
   "source": [
    "import os\n",
    "import sys\n",
    "import matplotlib.pyplot as plt\n",
    "import numpy as np\n",
    "import pandas as pd\n",
    "import json\n",
    "import seaborn as sns\n",
    "\n",
    "try:\n",
    "    from synoracle import sequence, ingredients\n",
    "except ModuleNotFoundError:\n",
    "    module_path = os.path.abspath(os.path.join('..'))\n",
    "    if module_path not in sys.path:\n",
    "        sys.path.append(module_path)\n",
    "    from synoracle import ingredients\n",
    "\n",
    "from tqdm.notebook import tqdm, trange\n",
    "\n",
    "def li_iterate(li):\n",
    "    l = iter(li)\n",
    "    for _ in trange(len(li)):\n",
    "        yield next(l)"
   ]
  },
  {
   "cell_type": "code",
   "execution_count": 2,
   "metadata": {},
   "outputs": [
    {
     "data": {
      "text/html": [
       "<div>\n",
       "<style scoped>\n",
       "    .dataframe tbody tr th:only-of-type {\n",
       "        vertical-align: middle;\n",
       "    }\n",
       "\n",
       "    .dataframe tbody tr th {\n",
       "        vertical-align: top;\n",
       "    }\n",
       "\n",
       "    .dataframe thead th {\n",
       "        text-align: right;\n",
       "    }\n",
       "</style>\n",
       "<table border=\"1\" class=\"dataframe\">\n",
       "  <thead>\n",
       "    <tr style=\"text-align: right;\">\n",
       "      <th></th>\n",
       "      <th>step number</th>\n",
       "      <th>step type</th>\n",
       "      <th>synthesis_number</th>\n",
       "      <th>T (K)</th>\n",
       "    </tr>\n",
       "  </thead>\n",
       "  <tbody>\n",
       "    <tr>\n",
       "      <th>0</th>\n",
       "      <td>11</td>\n",
       "      <td>remove</td>\n",
       "      <td>0</td>\n",
       "      <td>353.15</td>\n",
       "    </tr>\n",
       "    <tr>\n",
       "      <th>1</th>\n",
       "      <td>0</td>\n",
       "      <td>other</td>\n",
       "      <td>0</td>\n",
       "      <td>1073.15</td>\n",
       "    </tr>\n",
       "    <tr>\n",
       "      <th>2</th>\n",
       "      <td>7</td>\n",
       "      <td>other</td>\n",
       "      <td>0</td>\n",
       "      <td>298.15</td>\n",
       "    </tr>\n",
       "    <tr>\n",
       "      <th>3</th>\n",
       "      <td>11</td>\n",
       "      <td>remove</td>\n",
       "      <td>1</td>\n",
       "      <td>973.15</td>\n",
       "    </tr>\n",
       "    <tr>\n",
       "      <th>4</th>\n",
       "      <td>20</td>\n",
       "      <td>remove</td>\n",
       "      <td>2</td>\n",
       "      <td>313.15</td>\n",
       "    </tr>\n",
       "  </tbody>\n",
       "</table>\n",
       "</div>"
      ],
      "text/plain": [
       "   step number step type  synthesis_number    T (K)\n",
       "0           11    remove                 0   353.15\n",
       "1            0     other                 0  1073.15\n",
       "2            7     other                 0   298.15\n",
       "3           11    remove                 1   973.15\n",
       "4           20    remove                 2   313.15"
      ]
     },
     "execution_count": 2,
     "metadata": {},
     "output_type": "execute_result"
    }
   ],
   "source": [
    "all_filtered_temps = pd.read_json('all_filtered_temps.json')\n",
    "all_filtered_temps.head()"
   ]
  },
  {
   "cell_type": "code",
   "execution_count": 3,
   "metadata": {},
   "outputs": [
    {
     "data": {
      "text/html": [
       "<div>\n",
       "<style scoped>\n",
       "    .dataframe tbody tr th:only-of-type {\n",
       "        vertical-align: middle;\n",
       "    }\n",
       "\n",
       "    .dataframe tbody tr th {\n",
       "        vertical-align: top;\n",
       "    }\n",
       "\n",
       "    .dataframe thead th {\n",
       "        text-align: right;\n",
       "    }\n",
       "</style>\n",
       "<table border=\"1\" class=\"dataframe\">\n",
       "  <thead>\n",
       "    <tr style=\"text-align: right;\">\n",
       "      <th></th>\n",
       "      <th>step number</th>\n",
       "      <th>step type</th>\n",
       "      <th>synthesis_number</th>\n",
       "      <th>Time (min)</th>\n",
       "    </tr>\n",
       "  </thead>\n",
       "  <tbody>\n",
       "    <tr>\n",
       "      <th>0</th>\n",
       "      <td>0</td>\n",
       "      <td>other</td>\n",
       "      <td>0</td>\n",
       "      <td>120.0</td>\n",
       "    </tr>\n",
       "    <tr>\n",
       "      <th>1</th>\n",
       "      <td>7</td>\n",
       "      <td>other</td>\n",
       "      <td>0</td>\n",
       "      <td>1440.0</td>\n",
       "    </tr>\n",
       "    <tr>\n",
       "      <th>2</th>\n",
       "      <td>4</td>\n",
       "      <td>add</td>\n",
       "      <td>1</td>\n",
       "      <td>10.0</td>\n",
       "    </tr>\n",
       "    <tr>\n",
       "      <th>3</th>\n",
       "      <td>11</td>\n",
       "      <td>remove</td>\n",
       "      <td>1</td>\n",
       "      <td>120.0</td>\n",
       "    </tr>\n",
       "    <tr>\n",
       "      <th>4</th>\n",
       "      <td>5</td>\n",
       "      <td>other</td>\n",
       "      <td>1</td>\n",
       "      <td>1440.0</td>\n",
       "    </tr>\n",
       "  </tbody>\n",
       "</table>\n",
       "</div>"
      ],
      "text/plain": [
       "   step number step type  synthesis_number  Time (min)\n",
       "0            0     other                 0       120.0\n",
       "1            7     other                 0      1440.0\n",
       "2            4       add                 1        10.0\n",
       "3           11    remove                 1       120.0\n",
       "4            5     other                 1      1440.0"
      ]
     },
     "execution_count": 3,
     "metadata": {},
     "output_type": "execute_result"
    }
   ],
   "source": [
    "all_filtered_times = pd.read_json('all_filtered_times.json')\n",
    "all_filtered_times.head()"
   ]
  },
  {
   "cell_type": "code",
   "execution_count": 4,
   "metadata": {},
   "outputs": [
    {
     "name": "stderr",
     "output_type": "stream",
     "text": [
      "c:\\Users\\d23895jm\\Anaconda3\\envs\\SynOracle\\lib\\site-packages\\ipykernel_launcher.py:42: UserWarning: FixedFormatter should only be used together with FixedLocator\n"
     ]
    },
    {
     "data": {
      "image/png": "[encoded data removed]",
      "text/plain": [
       "<Figure size 432x288 with 1 Axes>"
      ]
     },
     "metadata": {
      "needs_background": "light"
     },
     "output_type": "display_data"
    }
   ],
   "source": [
    "import seaborn as sns\n",
    "\n",
    "fig, ax = plt.subplots()\n",
    "bins = np.linspace(0,48,29)\n",
    "grouped_times = all_filtered_times.groupby(['step type', 'synthesis_number']).aggregate({'Time (min)': sum}).reset_index()\n",
    "\n",
    "data1=grouped_times[\n",
    "    (grouped_times['Time (min)']>0) & \n",
    "    (grouped_times['step type']=='other') & \n",
    "    (grouped_times['Time (min)']<5000)\n",
    "    ]['Time (min)']/60\n",
    "# data1.plot.hist(bins=bins, ax=ax)\n",
    "data2=grouped_times[\n",
    "    (grouped_times['Time (min)']>0) & \n",
    "    (grouped_times['step type']=='remove') & \n",
    "    (grouped_times['Time (min)']<5000)\n",
    "    ]['Time (min)']/60\n",
    "# data2.plot.hist(bins=bins, ax=ax)\n",
    "\n",
    "data3 = pd.concat({'react': data1, 'remove': data2}).reset_index().rename({'level_0': 'Stage'}, axis=1)\n",
    "sns.histplot(\n",
    "    data=data3,\n",
    "    x = 'Time (min)',\n",
    "    bins=bins,\n",
    "    hue = 'Stage',\n",
    "    ax=ax,\n",
    "    multiple='stack',\n",
    "    hue_order = ['react', 'remove'],\n",
    "    edgecolor='k',\n",
    "    linewidth=1,\n",
    "    alpha=1\n",
    "    )\n",
    "\n",
    "legend = ax.get_legend()\n",
    "handles = legend.legendHandles\n",
    "\n",
    "legend.remove()\n",
    "ax.legend(handles, ['Reaction', 'Washing'],fontsize=16, title = 'Reaction stage', title_fontsize=18)\n",
    "\n",
    "ax.set_xticks([0,6,12,18,24,30,36,42,48])\n",
    "ax.set_xticklabels([0,6,12,18,24,30,36,42,48], fontsize=16)\n",
    "ax.set_yticklabels([int(x) for x in ax.get_yticks()], fontsize=16)\n",
    "\n",
    "ax.annotate('A', (1, 380), fontsize=24)\n",
    "ax.set_ylabel('Frequency (# papers)', fontsize=20)\n",
    "ax.set_xlabel('Time (hours)', fontsize=20)\n",
    "\n",
    "plt.tight_layout()\n",
    "plt.savefig('Fig 6a.png', dpi=900)"
   ]
  },
  {
   "cell_type": "code",
   "execution_count": 5,
   "metadata": {},
   "outputs": [
    {
     "name": "stdout",
     "output_type": "stream",
     "text": [
      "[  0.  10.  20.  30.  40.  50.  60.  70.  80.  90. 100. 110. 120. 130.\n",
      " 140. 150. 160. 170. 180. 190. 200.]\n"
     ]
    },
    {
     "name": "stderr",
     "output_type": "stream",
     "text": [
      "c:\\Users\\d23895jm\\Anaconda3\\envs\\SynOracle\\lib\\site-packages\\ipykernel_launcher.py:37: UserWarning: FixedFormatter should only be used together with FixedLocator\n",
      "c:\\Users\\d23895jm\\Anaconda3\\envs\\SynOracle\\lib\\site-packages\\ipykernel_launcher.py:38: UserWarning: FixedFormatter should only be used together with FixedLocator\n"
     ]
    },
    {
     "data": {
      "image/png": "[encoded data removed]",
      "text/plain": [
       "<Figure size 432x288 with 1 Axes>"
      ]
     },
     "metadata": {
      "needs_background": "light"
     },
     "output_type": "display_data"
    }
   ],
   "source": [
    "fig, ax = plt.subplots()\n",
    "bins = np.linspace(0,200,21)\n",
    "print(bins)\n",
    "data1=all_filtered_temps[\n",
    "    (all_filtered_temps['T (K)']>0) & \n",
    "    (all_filtered_temps['step type']=='other') \n",
    "    ]['T (K)']\n",
    "# data1.plot.hist(bins=bins, ax=ax, alpha=0.5)\n",
    "data2=all_filtered_temps[\n",
    "    (all_filtered_temps['T (K)']>0) & \n",
    "    (all_filtered_temps['step type']=='remove')\n",
    "            ]['T (K)']\n",
    "# data2.plot.hist(bins=bins, ax=ax, alpha=0.5)\n",
    "data3 = pd.concat({'react': data1, 'remove': data2}).reset_index().rename({'level_0': 'Stage'}, axis=1)\n",
    "data3['T (K)'] = data3['T (K)']-273.15\n",
    "data3\n",
    "sns.set_context(rc = {'patch.linewidth': 0.6})\n",
    "sns.histplot(\n",
    "    data=data3,\n",
    "    x = 'T (K)',\n",
    "    bins=bins,\n",
    "    hue = 'Stage',\n",
    "    ax=ax,\n",
    "    multiple='stack', \n",
    "    hue_order = ['react', 'remove'],\n",
    "    edgecolor='k',\n",
    "    linewidth=1,\n",
    "    alpha=1\n",
    ")\n",
    "\n",
    "legend = ax.get_legend()\n",
    "handles = legend.legendHandles\n",
    "\n",
    "legend.remove()\n",
    "ax.legend(handles, ['Reaction', 'Washing'],fontsize=16, title = 'Reaction stage', title_fontsize=18)\n",
    "\n",
    "ax.set_yticklabels([int(x) for x in ax.get_yticks()], fontsize=16)\n",
    "ax.set_xticklabels([int(x) for x in ax.get_xticks()], fontsize=16)\n",
    "ax.annotate('B', (1, 650), fontsize=24)\n",
    "ax.set_ylabel('Frequency (# papers)', fontsize=20)\n",
    "ax.set_xlabel('T ($^\\circ$C)', fontsize=20)\n",
    "\n",
    "plt.tight_layout()\n",
    "plt.savefig('Fig 6b.png', dpi=900)"
   ]
  },
  {
   "cell_type": "code",
   "execution_count": null,
   "metadata": {},
   "outputs": [],
   "source": []
  }
 ],
 "metadata": {
  "kernelspec": {
   "display_name": "Python 3",
   "language": "python",
   "name": "python3"
  },
  "language_info": {
   "codemirror_mode": {
    "name": "ipython",
    "version": 3
   },
   "file_extension": ".py",
   "mimetype": "text/x-python",
   "name": "python",
   "nbconvert_exporter": "python",
   "pygments_lexer": "ipython3",
   "version": "3.7.10"
  },
  "toc": {
   "base_numbering": 1,
   "nav_menu": {},
   "number_sections": true,
   "sideBar": true,
   "skip_h1_title": true,
   "title_cell": "Table of Contents",
   "title_sidebar": "Contents",
   "toc_cell": false,
   "toc_position": {},
   "toc_section_display": true,
   "toc_window_display": false
  },
  "vscode": {
   "interpreter": {
    "hash": "b267987cce06007f6e03e8695abe5dfedc27fae1ae9ceb4e211c82b4ab32ec14"
   }
  }
 },
 "nbformat": 4,
 "nbformat_minor": 1
}
