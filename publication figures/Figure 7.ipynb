{
 "cells": [
  {
   "attachments": {},
   "cell_type": "markdown",
   "metadata": {
    "collapsed": true,
    "pycharm": {
     "name": "#%% md\n"
    }
   },
   "source": [
    "# Clustering synthesis methods by similarity\n",
    "Use this notebook to explain what SnyOracle is and does in a specific ordered fashion"
   ]
  },
  {
   "cell_type": "code",
   "execution_count": 12,
   "metadata": {},
   "outputs": [],
   "source": [
    "%colors nocolor"
   ]
  },
  {
   "cell_type": "code",
   "execution_count": 13,
   "metadata": {},
   "outputs": [],
   "source": [
    "import os\n",
    "import sys\n",
    "import matplotlib.pyplot as plt\n",
    "\n",
    "try:\n",
    "    from synoracle.interpret import sequence, ingredients\n",
    "except ModuleNotFoundError:\n",
    "    module_path = os.path.abspath(os.path.join('..'))\n",
    "    if module_path not in sys.path:\n",
    "        sys.path.append(module_path)\n",
    "    from synoracle.interpret import sequence, ingredients"
   ]
  },
  {
   "cell_type": "code",
   "execution_count": 14,
   "metadata": {
    "pycharm": {
     "name": "#%%\n"
    }
   },
   "outputs": [],
   "source": [
    "\n",
    "from glob import glob\n",
    "from tqdm.notebook import tqdm, trange\n",
    "import numpy as np\n",
    "import pandas as pd\n",
    "pd.options.mode.chained_assignment = None\n",
    "import json\n",
    "def li_iterate(li):\n",
    "    l = iter(li)\n",
    "    for _ in trange(len(li)):\n",
    "        yield next(l)\n",
    "import matplotlib.pyplot as plt"
   ]
  },
  {
   "cell_type": "code",
   "execution_count": 15,
   "metadata": {},
   "outputs": [],
   "source": [
    "with open('./exported json files/broken_down_boms.json', 'r', encoding='utf-8') as f:\n",
    "    rawdata = json.loads(f.read())\n",
    "\n",
    "left = pd.DataFrame(rawdata).set_index('level_0')\n",
    "left.index = left.index.rename('pubchem_id').astype(int)"
   ]
  },
  {
   "cell_type": "code",
   "execution_count": 16,
   "metadata": {},
   "outputs": [],
   "source": [
    "with open('./exported json files/chemical_typing_crossreference.json', 'r', encoding='utf-8') as f:\n",
    "    xref = json.loads(f.read())\n",
    "right = pd.DataFrame(xref)\n",
    "right.index = right.index.rename('pubchem_id').astype(int)"
   ]
  },
  {
   "cell_type": "code",
   "execution_count": 17,
   "metadata": {},
   "outputs": [],
   "source": [
    "all_boms = pd.merge(left=left, right=right, left_index=True, right_index=True)"
   ]
  },
  {
   "cell_type": "code",
   "execution_count": 18,
   "metadata": {},
   "outputs": [
    {
     "data": {
      "text/html": [
       "<div>\n",
       "<style scoped>\n",
       "    .dataframe tbody tr th:only-of-type {\n",
       "        vertical-align: middle;\n",
       "    }\n",
       "\n",
       "    .dataframe tbody tr th {\n",
       "        vertical-align: top;\n",
       "    }\n",
       "\n",
       "    .dataframe thead th {\n",
       "        text-align: right;\n",
       "    }\n",
       "</style>\n",
       "<table border=\"1\" class=\"dataframe\">\n",
       "  <thead>\n",
       "    <tr style=\"text-align: right;\">\n",
       "      <th></th>\n",
       "      <th>step type</th>\n",
       "      <th>name</th>\n",
       "      <th>moles</th>\n",
       "      <th>synthesis_number</th>\n",
       "      <th>index</th>\n",
       "      <th>contains_imidazole</th>\n",
       "      <th>contains_nitrate</th>\n",
       "      <th>contains_sulfate</th>\n",
       "      <th>contains_acetate</th>\n",
       "      <th>contains_chloride</th>\n",
       "      <th>contains_oxide</th>\n",
       "      <th>contains_zinc</th>\n",
       "      <th>contains_cobalt</th>\n",
       "      <th>contains_acid</th>\n",
       "      <th>contains_base</th>\n",
       "      <th>contains_amphoteric</th>\n",
       "      <th>contains_surfactant</th>\n",
       "      <th>contains_solvent</th>\n",
       "    </tr>\n",
       "    <tr>\n",
       "      <th>pubchem_id</th>\n",
       "      <th></th>\n",
       "      <th></th>\n",
       "      <th></th>\n",
       "      <th></th>\n",
       "      <th></th>\n",
       "      <th></th>\n",
       "      <th></th>\n",
       "      <th></th>\n",
       "      <th></th>\n",
       "      <th></th>\n",
       "      <th></th>\n",
       "      <th></th>\n",
       "      <th></th>\n",
       "      <th></th>\n",
       "      <th></th>\n",
       "      <th></th>\n",
       "      <th></th>\n",
       "      <th></th>\n",
       "    </tr>\n",
       "  </thead>\n",
       "  <tbody>\n",
       "    <tr>\n",
       "      <th>962</th>\n",
       "      <td>add</td>\n",
       "      <td>[H2O]</td>\n",
       "      <td>1.101671</td>\n",
       "      <td>0</td>\n",
       "      <td>0.0</td>\n",
       "      <td>False</td>\n",
       "      <td>False</td>\n",
       "      <td>False</td>\n",
       "      <td>False</td>\n",
       "      <td>False</td>\n",
       "      <td>False</td>\n",
       "      <td>False</td>\n",
       "      <td>False</td>\n",
       "      <td>False</td>\n",
       "      <td>False</td>\n",
       "      <td>False</td>\n",
       "      <td>False</td>\n",
       "      <td>True</td>\n",
       "    </tr>\n",
       "    <tr>\n",
       "      <th>12749</th>\n",
       "      <td>add</td>\n",
       "      <td>[2-methylimidazole]</td>\n",
       "      <td>0.002000</td>\n",
       "      <td>0</td>\n",
       "      <td>1.0</td>\n",
       "      <td>True</td>\n",
       "      <td>False</td>\n",
       "      <td>False</td>\n",
       "      <td>False</td>\n",
       "      <td>False</td>\n",
       "      <td>False</td>\n",
       "      <td>False</td>\n",
       "      <td>False</td>\n",
       "      <td>False</td>\n",
       "      <td>False</td>\n",
       "      <td>False</td>\n",
       "      <td>False</td>\n",
       "      <td>False</td>\n",
       "    </tr>\n",
       "    <tr>\n",
       "      <th>24821</th>\n",
       "      <td>add</td>\n",
       "      <td>[Co(NO3)2·6H2O]</td>\n",
       "      <td>0.000500</td>\n",
       "      <td>0</td>\n",
       "      <td>2.0</td>\n",
       "      <td>False</td>\n",
       "      <td>True</td>\n",
       "      <td>False</td>\n",
       "      <td>False</td>\n",
       "      <td>False</td>\n",
       "      <td>False</td>\n",
       "      <td>False</td>\n",
       "      <td>True</td>\n",
       "      <td>False</td>\n",
       "      <td>False</td>\n",
       "      <td>False</td>\n",
       "      <td>False</td>\n",
       "      <td>False</td>\n",
       "    </tr>\n",
       "    <tr>\n",
       "      <th>5462310</th>\n",
       "      <td>add</td>\n",
       "      <td>[carbon]</td>\n",
       "      <td>0.004995</td>\n",
       "      <td>0</td>\n",
       "      <td>3.0</td>\n",
       "      <td>False</td>\n",
       "      <td>False</td>\n",
       "      <td>False</td>\n",
       "      <td>False</td>\n",
       "      <td>False</td>\n",
       "      <td>False</td>\n",
       "      <td>False</td>\n",
       "      <td>False</td>\n",
       "      <td>False</td>\n",
       "      <td>False</td>\n",
       "      <td>False</td>\n",
       "      <td>False</td>\n",
       "      <td>False</td>\n",
       "    </tr>\n",
       "  </tbody>\n",
       "</table>\n",
       "</div>"
      ],
      "text/plain": [
       "           step type                 name     moles  synthesis_number  index  \\\n",
       "pubchem_id                                                                     \n",
       "962              add                [H2O]  1.101671                 0    0.0   \n",
       "12749            add  [2-methylimidazole]  0.002000                 0    1.0   \n",
       "24821            add      [Co(NO3)2·6H2O]  0.000500                 0    2.0   \n",
       "5462310          add             [carbon]  0.004995                 0    3.0   \n",
       "\n",
       "            contains_imidazole  contains_nitrate  contains_sulfate  \\\n",
       "pubchem_id                                                           \n",
       "962                      False             False             False   \n",
       "12749                     True             False             False   \n",
       "24821                    False              True             False   \n",
       "5462310                  False             False             False   \n",
       "\n",
       "            contains_acetate  contains_chloride  contains_oxide  \\\n",
       "pubchem_id                                                        \n",
       "962                    False              False           False   \n",
       "12749                  False              False           False   \n",
       "24821                  False              False           False   \n",
       "5462310                False              False           False   \n",
       "\n",
       "            contains_zinc  contains_cobalt  contains_acid  contains_base  \\\n",
       "pubchem_id                                                                 \n",
       "962                 False            False          False          False   \n",
       "12749               False            False          False          False   \n",
       "24821               False             True          False          False   \n",
       "5462310             False            False          False          False   \n",
       "\n",
       "            contains_amphoteric  contains_surfactant  contains_solvent  \n",
       "pubchem_id                                                              \n",
       "962                       False                False              True  \n",
       "12749                     False                False             False  \n",
       "24821                     False                False             False  \n",
       "5462310                   False                False             False  "
      ]
     },
     "execution_count": 18,
     "metadata": {},
     "output_type": "execute_result"
    }
   ],
   "source": [
    "all_boms[(all_boms['synthesis_number']==0) & (all_boms['step type']=='add')]"
   ]
  },
  {
   "cell_type": "code",
   "execution_count": 19,
   "metadata": {},
   "outputs": [
    {
     "data": {
      "application/vnd.jupyter.widget-view+json": {
       "model_id": "e56f7ba1bc964ec4b4e8f05f8521bd70",
       "version_major": 2,
       "version_minor": 0
      },
      "text/plain": [
       "  0%|          | 0/1599 [00:00<?, ?it/s]"
      ]
     },
     "metadata": {},
     "output_type": "display_data"
    }
   ],
   "source": [
    "all_syn_chems = {}\n",
    "counter = 0\n",
    "counter_to_synthesis_map = {}\n",
    "for syn_index in li_iterate(all_boms['synthesis_number'].unique()):\n",
    "    syn_chems = []\n",
    "    filters = ['contains_cobalt',\n",
    "                  'contains_zinc',\n",
    "                  'contains_sulfate',\n",
    "                  'contains_chloride',\n",
    "                  'contains_nitrate',\n",
    "                  'contains_oxide',\n",
    "                  'contains_acetate']\n",
    "    working = all_boms[all_boms['synthesis_number']==syn_index]\n",
    "  \n",
    "    filtered_working = working[(~np.where(\n",
    "        working['contains_cobalt'] | working['contains_zinc'] | \\\n",
    "        working['contains_sulfate'] | working['contains_chloride'] |\\\n",
    "        working['contains_nitrate'] | working['contains_oxide'] |\\\n",
    "        working['contains_acetate'] | working['contains_imidazole'],\n",
    "        True, \n",
    "        False)) & (working['step type']=='add')]\n",
    "   # display(list(set(filtered_working.index)))\n",
    "    if 12749 in working.index:\n",
    "        for x in filters:\n",
    "            if not working[working[x]].empty:\n",
    "                syn_chems.append(x)\n",
    "        syn_chems.extend(\n",
    "            [y for y in list(set(filtered_working.index))]\n",
    "        )\n",
    "\n",
    "        # print(syn_chems)\n",
    "\n",
    "        all_syn_chems[counter] = ' '.join(sorted([str(x) for x in syn_chems]))\n",
    "        counter_to_synthesis_map[counter] = syn_index\n",
    "        counter +=1"
   ]
  },
  {
   "cell_type": "code",
   "execution_count": 20,
   "metadata": {},
   "outputs": [
    {
     "data": {
      "text/html": [
       "<div>\n",
       "<style scoped>\n",
       "    .dataframe tbody tr th:only-of-type {\n",
       "        vertical-align: middle;\n",
       "    }\n",
       "\n",
       "    .dataframe tbody tr th {\n",
       "        vertical-align: top;\n",
       "    }\n",
       "\n",
       "    .dataframe thead th {\n",
       "        text-align: right;\n",
       "    }\n",
       "</style>\n",
       "<table border=\"1\" class=\"dataframe\">\n",
       "  <thead>\n",
       "    <tr style=\"text-align: right;\">\n",
       "      <th></th>\n",
       "      <th>synthesis_number</th>\n",
       "      <th>Name</th>\n",
       "      <th>source</th>\n",
       "      <th>10005</th>\n",
       "      <th>1004</th>\n",
       "      <th>10154203</th>\n",
       "      <th>1118</th>\n",
       "      <th>11251951</th>\n",
       "      <th>11281299</th>\n",
       "      <th>1133</th>\n",
       "      <th>...</th>\n",
       "      <th>944</th>\n",
       "      <th>947</th>\n",
       "      <th>962</th>\n",
       "      <th>contains_acetate</th>\n",
       "      <th>contains_chloride</th>\n",
       "      <th>contains_cobalt</th>\n",
       "      <th>contains_nitrate</th>\n",
       "      <th>contains_oxide</th>\n",
       "      <th>contains_sulfate</th>\n",
       "      <th>contains_zinc</th>\n",
       "    </tr>\n",
       "  </thead>\n",
       "  <tbody>\n",
       "    <tr>\n",
       "      <th>0</th>\n",
       "      <td>0</td>\n",
       "      <td>887 contains_cobalt</td>\n",
       "      <td>els-rsc</td>\n",
       "      <td>0.0</td>\n",
       "      <td>0.0</td>\n",
       "      <td>0.0</td>\n",
       "      <td>0.0</td>\n",
       "      <td>0.0</td>\n",
       "      <td>0.0</td>\n",
       "      <td>0.0</td>\n",
       "      <td>...</td>\n",
       "      <td>0.000000</td>\n",
       "      <td>0.0</td>\n",
       "      <td>0.000000</td>\n",
       "      <td>0.000000</td>\n",
       "      <td>0.0</td>\n",
       "      <td>0.796472</td>\n",
       "      <td>0.000000</td>\n",
       "      <td>0.0</td>\n",
       "      <td>0.0</td>\n",
       "      <td>0.000000</td>\n",
       "    </tr>\n",
       "    <tr>\n",
       "      <th>1</th>\n",
       "      <td>1</td>\n",
       "      <td>174 887 contains_nitrate contains_zinc</td>\n",
       "      <td>els-rsc</td>\n",
       "      <td>0.0</td>\n",
       "      <td>0.0</td>\n",
       "      <td>0.0</td>\n",
       "      <td>0.0</td>\n",
       "      <td>0.0</td>\n",
       "      <td>0.0</td>\n",
       "      <td>0.0</td>\n",
       "      <td>...</td>\n",
       "      <td>0.000000</td>\n",
       "      <td>0.0</td>\n",
       "      <td>0.000000</td>\n",
       "      <td>0.000000</td>\n",
       "      <td>0.0</td>\n",
       "      <td>0.000000</td>\n",
       "      <td>0.185142</td>\n",
       "      <td>0.0</td>\n",
       "      <td>0.0</td>\n",
       "      <td>0.214375</td>\n",
       "    </tr>\n",
       "    <tr>\n",
       "      <th>2</th>\n",
       "      <td>2</td>\n",
       "      <td>962 contains_cobalt contains_nitrate contains_...</td>\n",
       "      <td>els-rsc</td>\n",
       "      <td>0.0</td>\n",
       "      <td>0.0</td>\n",
       "      <td>0.0</td>\n",
       "      <td>0.0</td>\n",
       "      <td>0.0</td>\n",
       "      <td>0.0</td>\n",
       "      <td>0.0</td>\n",
       "      <td>...</td>\n",
       "      <td>0.000000</td>\n",
       "      <td>0.0</td>\n",
       "      <td>0.658145</td>\n",
       "      <td>0.000000</td>\n",
       "      <td>0.0</td>\n",
       "      <td>0.547519</td>\n",
       "      <td>0.337782</td>\n",
       "      <td>0.0</td>\n",
       "      <td>0.0</td>\n",
       "      <td>0.391116</td>\n",
       "    </tr>\n",
       "    <tr>\n",
       "      <th>3</th>\n",
       "      <td>3</td>\n",
       "      <td>174 702 contains_nitrate contains_zinc</td>\n",
       "      <td>els-rsc</td>\n",
       "      <td>0.0</td>\n",
       "      <td>0.0</td>\n",
       "      <td>0.0</td>\n",
       "      <td>0.0</td>\n",
       "      <td>0.0</td>\n",
       "      <td>0.0</td>\n",
       "      <td>0.0</td>\n",
       "      <td>...</td>\n",
       "      <td>0.000000</td>\n",
       "      <td>0.0</td>\n",
       "      <td>0.000000</td>\n",
       "      <td>0.000000</td>\n",
       "      <td>0.0</td>\n",
       "      <td>0.000000</td>\n",
       "      <td>0.164629</td>\n",
       "      <td>0.0</td>\n",
       "      <td>0.0</td>\n",
       "      <td>0.190623</td>\n",
       "    </tr>\n",
       "    <tr>\n",
       "      <th>4</th>\n",
       "      <td>4</td>\n",
       "      <td>174 5462310 944 contains_acetate contains_coba...</td>\n",
       "      <td>els-rsc</td>\n",
       "      <td>0.0</td>\n",
       "      <td>0.0</td>\n",
       "      <td>0.0</td>\n",
       "      <td>0.0</td>\n",
       "      <td>0.0</td>\n",
       "      <td>0.0</td>\n",
       "      <td>0.0</td>\n",
       "      <td>...</td>\n",
       "      <td>0.605817</td>\n",
       "      <td>0.0</td>\n",
       "      <td>0.000000</td>\n",
       "      <td>0.288855</td>\n",
       "      <td>0.0</td>\n",
       "      <td>0.171317</td>\n",
       "      <td>0.105691</td>\n",
       "      <td>0.0</td>\n",
       "      <td>0.0</td>\n",
       "      <td>0.122379</td>\n",
       "    </tr>\n",
       "  </tbody>\n",
       "</table>\n",
       "<p>5 rows × 142 columns</p>\n",
       "</div>"
      ],
      "text/plain": [
       "   synthesis_number                                               Name  \\\n",
       "0                 0                                887 contains_cobalt   \n",
       "1                 1             174 887 contains_nitrate contains_zinc   \n",
       "2                 2  962 contains_cobalt contains_nitrate contains_...   \n",
       "3                 3             174 702 contains_nitrate contains_zinc   \n",
       "4                 4  174 5462310 944 contains_acetate contains_coba...   \n",
       "\n",
       "    source  10005  1004  10154203  1118  11251951  11281299  1133  ...  \\\n",
       "0  els-rsc    0.0   0.0       0.0   0.0       0.0       0.0   0.0  ...   \n",
       "1  els-rsc    0.0   0.0       0.0   0.0       0.0       0.0   0.0  ...   \n",
       "2  els-rsc    0.0   0.0       0.0   0.0       0.0       0.0   0.0  ...   \n",
       "3  els-rsc    0.0   0.0       0.0   0.0       0.0       0.0   0.0  ...   \n",
       "4  els-rsc    0.0   0.0       0.0   0.0       0.0       0.0   0.0  ...   \n",
       "\n",
       "        944  947       962  contains_acetate  contains_chloride  \\\n",
       "0  0.000000  0.0  0.000000          0.000000                0.0   \n",
       "1  0.000000  0.0  0.000000          0.000000                0.0   \n",
       "2  0.000000  0.0  0.658145          0.000000                0.0   \n",
       "3  0.000000  0.0  0.000000          0.000000                0.0   \n",
       "4  0.605817  0.0  0.000000          0.288855                0.0   \n",
       "\n",
       "   contains_cobalt  contains_nitrate  contains_oxide  contains_sulfate  \\\n",
       "0         0.796472          0.000000             0.0               0.0   \n",
       "1         0.000000          0.185142             0.0               0.0   \n",
       "2         0.547519          0.337782             0.0               0.0   \n",
       "3         0.000000          0.164629             0.0               0.0   \n",
       "4         0.171317          0.105691             0.0               0.0   \n",
       "\n",
       "   contains_zinc  \n",
       "0       0.000000  \n",
       "1       0.214375  \n",
       "2       0.391116  \n",
       "3       0.190623  \n",
       "4       0.122379  \n",
       "\n",
       "[5 rows x 142 columns]"
      ]
     },
     "execution_count": 20,
     "metadata": {},
     "output_type": "execute_result"
    }
   ],
   "source": [
    "from sklearn.feature_extraction.text import CountVectorizer, TfidfVectorizer\n",
    "import pickle\n",
    "\n",
    "words_rep = pd.DataFrame(all_syn_chems, index=['Name']).T.reset_index().rename({'index': 'synthesis_number'}, axis=1)\n",
    "words_rep['source'] = 'els-rsc'\n",
    "\n",
    "\n",
    "vectorizer_wtf = TfidfVectorizer(analyzer='word')\n",
    "X_wtf = vectorizer_wtf.fit_transform(words_rep['Name'])\n",
    "\n",
    "pickle.dump(vectorizer_wtf.vocabulary_,open('./data/knn_vocal_3.pkl', 'wb'))\n",
    "pd.concat([words_rep,pd.DataFrame(X_wtf.toarray(), columns=vectorizer_wtf.get_feature_names())], axis=1).head()\n"
   ]
  },
  {
   "attachments": {},
   "cell_type": "markdown",
   "metadata": {},
   "source": [
    "## DBSCAN clustering and TSNE visualisation"
   ]
  },
  {
   "cell_type": "code",
   "execution_count": 143,
   "metadata": {},
   "outputs": [
    {
     "data": {
      "text/plain": [
       "<matplotlib.collections.PathCollection at 0x118609c5ac8>"
      ]
     },
     "execution_count": 143,
     "metadata": {},
     "output_type": "execute_result"
    },
    {
     "data": {
      "image/png": "[encoded data removed]",
      "text/plain": [
       "<Figure size 432x288 with 1 Axes>"
      ]
     },
     "metadata": {
      "needs_background": "light"
     },
     "output_type": "display_data"
    }
   ],
   "source": [
    "from sklearn.manifold import TSNE\n",
    "# Create a TSNE instance: model\n",
    "model = TSNE( metric='euclidean', random_state=5)\n",
    "\n",
    "# Apply fit_transform to samples: tsne_features\n",
    "tsne_features = model.fit_transform(X_wtf.toarray())\n",
    "\n",
    "# Select the 0th feature: xs\n",
    "xs = tsne_features[:, 0]\n",
    "\n",
    "# Select the 1st feature: ys\n",
    "ys = tsne_features[:, 1]\n",
    "\n",
    "# Scatter plot, coloring by variety_numbers\n",
    "plt.scatter(xs, ys, alpha=0.25, s=5)"
   ]
  },
  {
   "cell_type": "code",
   "execution_count": 144,
   "metadata": {},
   "outputs": [
    {
     "name": "stdout",
     "output_type": "stream",
     "text": [
      "Estimated number of clusters: 8\n",
      "Estimated number of noise points: 574\n"
     ]
    }
   ],
   "source": [
    "from sklearn.cluster import DBSCAN\n",
    "from sklearn import metrics\n",
    "\n",
    "db = DBSCAN(eps=0.1, min_samples=20).fit(X_wtf.toarray())\n",
    "labels = db.labels_\n",
    "\n",
    "# Number of clusters in labels, ignoring noise if present.\n",
    "n_clusters_ = len(set(labels)) - (1 if -1 in labels else 0)\n",
    "n_noise_ = list(labels).count(-1)\n",
    "\n",
    "print(\"Estimated number of clusters: %d\" % n_clusters_)\n",
    "print(\"Estimated number of noise points: %d\" % n_noise_)"
   ]
  },
  {
   "cell_type": "code",
   "execution_count": 145,
   "metadata": {},
   "outputs": [
    {
     "data": {
      "text/plain": [
       "{-1, 0, 1, 2, 3, 4, 5, 6, 7}"
      ]
     },
     "execution_count": 145,
     "metadata": {},
     "output_type": "execute_result"
    }
   ],
   "source": [
    "set(labels)"
   ]
  },
  {
   "cell_type": "code",
   "execution_count": 228,
   "metadata": {},
   "outputs": [
    {
     "data": {
      "text/plain": [
       "[('887 962 contains_nitrate contains_zinc', 20)]"
      ]
     },
     "metadata": {},
     "output_type": "display_data"
    },
    {
     "data": {
      "text/plain": [
       "319    887 962 contains_nitrate contains_zinc\n",
       "416    887 962 contains_nitrate contains_zinc\n",
       "480    887 962 contains_nitrate contains_zinc\n",
       "516    887 962 contains_nitrate contains_zinc\n",
       "535    887 962 contains_nitrate contains_zinc\n",
       "Name: Name, dtype: object"
      ]
     },
     "metadata": {},
     "output_type": "display_data"
    },
    {
     "name": "stdout",
     "output_type": "stream",
     "text": [
      "20\n",
      "[14.346849  -6.9953156]\n"
     ]
    }
   ],
   "source": [
    "from collections import Counter\n",
    "lbl_no = 7\n",
    "display(Counter(words_rep['Name'][labels==lbl_no]).most_common(7))\n",
    "display(words_rep['Name'][labels==lbl_no].head())\n",
    "print(len(words_rep['Name'][labels==lbl_no]))\n",
    "\n",
    "print(tsne_features[words_rep.index[labels==lbl_no][1]])"
   ]
  },
  {
   "cell_type": "code",
   "execution_count": 229,
   "metadata": {},
   "outputs": [
    {
     "data": {
      "text/plain": [
       "array([ 8.33919 , -8.380775], dtype=float32)"
      ]
     },
     "execution_count": 229,
     "metadata": {},
     "output_type": "execute_result"
    }
   ],
   "source": [
    "tsne_features[977]"
   ]
  },
  {
   "cell_type": "code",
   "execution_count": 230,
   "metadata": {},
   "outputs": [
    {
     "data": {
      "image/png": "[encoded data removed]",
      "text/html": [
       "<div style=\"vertical-align: middle;\"><strong>tab10</strong> </div><div class=\"cmap\"><img alt=\"tab10 colormap\" title=\"tab10\" style=\"border: 1px solid #555;\" src=\"data:image/png;base64,iVBORw0KGgoAAAANSUhEUgAAAgAAAABACAYAAABsv8+/AAAAFHRFWHRUaXRsZQB0YWIxMCBjb2xvcm1hcFeJcQsAAAAadEVYdERlc2NyaXB0aW9uAHRhYjEwIGNvbG9ybWFwqdbY7QAAADB0RVh0QXV0aG9yAE1hdHBsb3RsaWIgdjMuNC4yLCBodHRwczovL21hdHBsb3RsaWIub3JnrNZj3QAAADJ0RVh0U29mdHdhcmUATWF0cGxvdGxpYiB2My40LjIsIGh0dHBzOi8vbWF0cGxvdGxpYi5vcmeCcPz6AAABeklEQVR4nO3WsS0EcBxAYae6KcgNYARiCwmD3AjX6a67TifRaZnFBlqFhCX+8Uu875vglW9zuX/9OftHPrb30wnLXO0uphOWeT58Tycs8357nE5Y5uvzcTphmbvdfjphmdP2bTphmeubp+mEZR42L9MJS51PBwAAf88AAECQAQCAIAMAAEEGAACCDAAABBkAAAgyAAAQZAAAIMgAAECQAQCAIAMAAEEGAACCDAAABBkAAAgyAAAQZAAAIMgAAECQAQCAIAMAAEEGAACCDAAABBkAAAgyAAAQZAAAIMgAAECQAQCAIAMAAEEGAACCDAAABBkAAAgyAAAQZAAAIMgAAECQAQCAIAMAAEEGAACCDAAABBkAAAgyAAAQZAAAIMgAAECQAQCAIAMAAEEGAACCDAAABBkAAAgyAAAQZAAAIMgAAECQAQCAIAMAAEEGAACCDAAABBkAAAgyAAAQZAAAIMgAAECQAQCAIAMAAEEGAACCDAAABBkAAAj6BcEgDyNmiQL1AAAAAElFTkSuQmCC\"></div><div style=\"vertical-align: middle; max-width: 514px; display: flex; justify-content: space-between;\"><div style=\"float: left;\"><div title=\"#1f77b4ff\" style=\"display: inline-block; width: 1em; height: 1em; margin: 0; vertical-align: middle; border: 1px solid #555; background-color: #1f77b4ff;\"></div> under</div><div style=\"margin: 0 auto; display: inline-block;\">bad <div title=\"#00000000\" style=\"display: inline-block; width: 1em; height: 1em; margin: 0; vertical-align: middle; border: 1px solid #555; background-color: #00000000;\"></div></div><div style=\"float: right;\">over <div title=\"#17becfff\" style=\"display: inline-block; width: 1em; height: 1em; margin: 0; vertical-align: middle; border: 1px solid #555; background-color: #17becfff;\"></div></div>"
      ],
      "text/plain": [
       "<matplotlib.colors.ListedColormap at 0x1185a2ba7c8>"
      ]
     },
     "execution_count": 230,
     "metadata": {},
     "output_type": "execute_result"
    }
   ],
   "source": [
    "cmap"
   ]
  },
  {
   "cell_type": "code",
   "execution_count": 239,
   "metadata": {},
   "outputs": [
    {
     "data": {
      "image/png": "[encoded data removed]",
      "text/plain": [
       "<Figure size 432x288 with 1 Axes>"
      ]
     },
     "metadata": {
      "needs_background": "light"
     },
     "output_type": "display_data"
    }
   ],
   "source": [
    "from matplotlib.patches import Ellipse\n",
    "import matplotlib.cm as cm\n",
    "cmap = cm.get_cmap('tab10')\n",
    "\n",
    "fig, ax = plt.subplots()\n",
    "\n",
    "ax.scatter(xs, ys, alpha=1, s=10, cmap=cmap, c=labels)\n",
    "\n",
    "# no. 0: \n",
    "# zinc, nitrate\n",
    "# 39 synths\n",
    "el1 = Ellipse((31.5,-6.5), 4, 4,  facecolor='none', edgecolor=cmap(1), linewidth=2)\n",
    "ax.add_artist(el1)\n",
    "\n",
    "# no. 1\n",
    "# zinc, cobalt, nitrate, methanol\n",
    "# 31\n",
    "el2 = Ellipse((-18.7,22.75), 3, 3,  facecolor='none', edgecolor=cmap(2), linewidth=2)\n",
    "ax.add_artist(el2)\n",
    "\n",
    "# no. 2\n",
    "# cobalt, nitrate, methanol\n",
    "# 148\n",
    "el3 = Ellipse((-23.5,5), 10.5, 10.5,  facecolor='none', edgecolor=cmap(3), linewidth=2)\n",
    "ax.add_artist(el3)\n",
    "\n",
    "# no. 3\n",
    "# zinc, nitrate, methanol\n",
    "# 225\n",
    "el4 = Ellipse((17,10), 14, 15,  facecolor='none', edgecolor=cmap(5), linewidth=2)\n",
    "ax.add_artist(el4)\n",
    "\n",
    "# no. 4\n",
    "# zinc, acetate, water\n",
    "# 22\n",
    "el5 = Ellipse((-13,-11), 5, 5,  facecolor='none', edgecolor=cmap(6), linewidth=2)\n",
    "ax.add_artist(el5)\n",
    "\n",
    "# no. 5\n",
    "# zinc, nitrate, water\n",
    "# 50\n",
    "el6 = Ellipse((8.5, -8.5), 4, 4,  facecolor='none', edgecolor=cmap(7), linewidth=2)\n",
    "ax.add_artist(el6)\n",
    "\n",
    "# no. 6\n",
    "# cobalt, nitrate, water\n",
    "# 25\n",
    "el7 = Ellipse((10,-23), 8, 6,  facecolor='none', edgecolor=cmap(8), linewidth=2)\n",
    "ax.add_artist(el7)\n",
    "\n",
    "# no. 9:\n",
    "# zinc, nitrate, methanol, water\n",
    "# 20\n",
    "el8 = Ellipse((14.5,-7), 3.5, 3.5,  facecolor='none', edgecolor=cmap(9), linewidth=2)\n",
    "ax.add_artist(el8)\n",
    "\n",
    "ax.set_ylabel('2nd component')\n",
    "ax.set_xlabel('1st component')\n",
    "\n",
    "plt.show()"
   ]
  },
  {
   "cell_type": "code",
   "execution_count": null,
   "metadata": {},
   "outputs": [],
   "source": []
  }
 ],
 "metadata": {
  "kernelspec": {
   "display_name": "Python 3",
   "language": "python",
   "name": "python3"
  },
  "language_info": {
   "codemirror_mode": {
    "name": "ipython",
    "version": 3
   },
   "file_extension": ".py",
   "mimetype": "text/x-python",
   "name": "python",
   "nbconvert_exporter": "python",
   "pygments_lexer": "ipython3",
   "version": "3.7.10"
  },
  "toc": {
   "base_numbering": 1,
   "nav_menu": {},
   "number_sections": true,
   "sideBar": true,
   "skip_h1_title": true,
   "title_cell": "Table of Contents",
   "title_sidebar": "Contents",
   "toc_cell": false,
   "toc_position": {},
   "toc_section_display": true,
   "toc_window_display": false
  },
  "vscode": {
   "interpreter": {
    "hash": "b267987cce06007f6e03e8695abe5dfedc27fae1ae9ceb4e211c82b4ab32ec14"
   }
  }
 },
 "nbformat": 4,
 "nbformat_minor": 1
}
