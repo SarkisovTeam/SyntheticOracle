{
 "cells": [
  {
   "cell_type": "markdown",
   "metadata": {},
   "source": [
    "# Validating time and temperature parsing between ChemicalTagger, ChatGPT, and manual labelling"
   ]
  },
  {
   "cell_type": "code",
   "execution_count": 38,
   "metadata": {
    "ExecuteTime": {
     "end_time": "2022-10-25T15:23:04.692829Z",
     "start_time": "2022-10-25T15:22:57.634615Z"
    }
   },
   "outputs": [],
   "source": [
    "import numpy as np\n",
    "\n",
    "from pathlib import Path\n",
    "import pandas as pd\n",
    "pd.options.mode.chained_assignment = None  # default='warn'\n",
    "\n",
    "from collections import Counter\n",
    "import numpy as np\n",
    "import os\n",
    "import sys\n",
    "import textdistance\n",
    "import json\n",
    "from pprint import pprint\n",
    "import matplotlib.pyplot as plt\n",
    "import seaborn as sns\n",
    "\n",
    "try:\n",
    "    from synoracle import ingredients, sequence\n",
    "except ModuleNotFoundError:\n",
    "    module_path = os.path.abspath(os.path.join('c:\\\\Users\\\\d23895jm\\\\Desktop\\\\Work master 2022\\\\Active research Projects\\\\synoracle_publication\\\\SyntheticOracle'))\n",
    "    if module_path not in sys.path:\n",
    "        sys.path.append(module_path)\n",
    "    from synoracle import ingredients, sequence\n",
    "\n",
    "try:\n",
    "    from synparagraph import SynParagraph\n",
    "except ModuleNotFoundError:\n",
    "    module_path = os.path.abspath(os.path.join('c:\\\\Users\\\\d23895jm\\\\Desktop\\\\Work master 2022\\\\Active research Projects\\\\synoracle-preprocessing\\\\synoracle'))\n",
    "    if module_path not in sys.path:\n",
    "        sys.path.append(module_path)\n",
    "    from synparagraph import SynParagraph\n",
    "\n",
    "from tqdm.notebook import tqdm, trange\n",
    "\n",
    "def li_iterate(li):\n",
    "    l = iter(li)\n",
    "    for _ in trange(len(li)):\n",
    "        yield next(l)"
   ]
  },
  {
   "cell_type": "markdown",
   "metadata": {},
   "source": [
    "## Importing manual sequences"
   ]
  },
  {
   "cell_type": "code",
   "execution_count": 39,
   "metadata": {
    "ExecuteTime": {
     "end_time": "2022-10-25T15:23:04.753997Z",
     "start_time": "2022-10-25T15:23:04.701823Z"
    }
   },
   "outputs": [
    {
     "data": {
      "text/plain": [
       "0            []\n",
       "1            []\n",
       "2            []\n",
       "3      ['24 h']\n",
       "4            []\n",
       "         ...   \n",
       "437          []\n",
       "438          []\n",
       "439          []\n",
       "440          []\n",
       "441          []\n",
       "Name: time, Length: 442, dtype: object"
      ]
     },
     "execution_count": 39,
     "metadata": {},
     "output_type": "execute_result"
    }
   ],
   "source": [
    "manual_sequences = pd.read_csv('D:/nist_manual_sequences.csv')\n",
    "\n",
    "unit_converter = {\n",
    "    'L': 'volume',\n",
    "    'mL': 'volume',\n",
    "    'drops': 'volume',\n",
    "    'g': 'mass',\n",
    "    'mg': 'mass',\n",
    "    'mmol': 'other_amount',\n",
    "    'nan':np.nan,\n",
    "    np.nan:np.nan\n",
    "}\n",
    "\n",
    "for c,x in manual_sequences.iterrows():\n",
    "    new_chemicals = []\n",
    "    try:\n",
    "        str(eval(x['chemicals and amount sued']))\n",
    "    except TypeError:\n",
    "        # print(c, x['chemicals and amount sued'])\n",
    "        pass\n",
    "    else:\n",
    "        try:\n",
    "            eval(x['chemicals and amount sued']).items()\n",
    "        except AttributeError:\n",
    "            pass\n",
    "        else:\n",
    "            for y in eval(x['chemicals and amount sued']).items():\n",
    "                # print(y)\n",
    "                if len(y[1].split(' ')) >1:\n",
    "                    #print(unit_converter[y[1].split(' ')[1]])\n",
    "                    new_chemicals.append({'name': y[0], unit_converter[y[1].split(' ')[1]]: y[1]})\n",
    "                else:\n",
    "                    new_chemicals.append({'name': y[0]})\n",
    "    manual_sequences.loc[c, 'new_chemicals'] = str(new_chemicals)\n",
    "manual_sequences['identifier'] = manual_sequences['Paper'] + '.' + manual_sequences['Paragraph'].astype(str)    \n",
    "manual_sequences['time'] = manual_sequences['time'].astype(str)\n",
    "manual_sequences['temp'] = manual_sequences['temp'].astype(str)\n",
    "manual_sequences['time']"
   ]
  },
  {
   "cell_type": "markdown",
   "metadata": {},
   "source": [
    "## Importing ChatGPT-labelled synthesis sequences"
   ]
  },
  {
   "cell_type": "code",
   "execution_count": 40,
   "metadata": {},
   "outputs": [],
   "source": [
    "with open('../NIST sequences.json', 'r') as f:\n",
    "    raw_gpt = json.load(f)\n",
    "    gpt_dfs = [pd.DataFrame(x) for x in raw_gpt]\n",
    "\n",
    "gpt_sequences = {x['paper'].unique()[0] + '.' + x['paragraph'].unique()[0]: x for x in gpt_dfs}"
   ]
  },
  {
   "cell_type": "markdown",
   "metadata": {},
   "source": [
    "## Importing ChemicalTagger-labelled synthesis sequences"
   ]
  },
  {
   "cell_type": "code",
   "execution_count": 57,
   "metadata": {},
   "outputs": [],
   "source": [
    "source_dir = Path(r\"D:/NIST-ZIF-8\")\n"
   ]
  },
  {
   "cell_type": "markdown",
   "metadata": {},
   "source": [
    "## Creating and comparing `Conditions` objects"
   ]
  },
  {
   "cell_type": "code",
   "execution_count": 58,
   "metadata": {},
   "outputs": [
    {
     "name": "stderr",
     "output_type": "stream",
     "text": [
      "WARNING:root:Failed for: \"this temperature\"\n",
      "WARNING:root:\t ValueError error raised: could not convert string to float: 'this'\n",
      "WARNING:root:Failed for: \"this temperature\"\n",
      "WARNING:root:\t ValueError error raised: could not convert string to float: 'this'\n"
     ]
    },
    {
     "name": "stdout",
     "output_type": "stream",
     "text": [
      "009589722013797966.16\n",
      "--------------\n",
      "Aic13970.6\n",
      "--------------\n"
     ]
    },
    {
     "name": "stderr",
     "output_type": "stream",
     "text": [
      "WARNING:root:Failed for: \"this temperature\"\n",
      "WARNING:root:\t ValueError error raised: could not convert string to float: 'this'\n",
      "WARNING:root:Failed for: \"this temperature\"\n",
      "WARNING:root:\t ValueError error raised: could not convert string to float: 'this'\n",
      "WARNING:root:Failed for: \"subsequently  an elevated temperature\"\n",
      "WARNING:root:\t ValueError error raised: could not convert string to float: 'elevated'\n",
      "WARNING:root:Failed for: \"subsequently  an elevated temperature\"\n",
      "WARNING:root:\t ValueError error raised: could not convert string to float: 'elevated'\n",
      "WARNING:root:Failed for: \"subsequently  an elevated temperature\"\n",
      "WARNING:root:\t ValueError error raised: could not convert string to float: 'elevated'\n",
      "WARNING:root:Failed for: \"subsequently  an elevated temperature\"\n",
      "WARNING:root:\t ValueError error raised: could not convert string to float: 'elevated'\n"
     ]
    },
    {
     "name": "stdout",
     "output_type": "stream",
     "text": [
      "Aic13970.7\n",
      "--------------\n",
      "Aic14525.0\n",
      "--------------\n",
      "anie201104383.0\n",
      "--------------\n",
      "c1ce05780d.0\n",
      "--------------\n",
      "c2cc34893d.0\n",
      "--------------\n",
      "c2jm15685g.24\n",
      "--------------\n",
      "c3ta11483j.23\n",
      "--------------\n",
      "c4ee01009d.0\n",
      "--------------\n",
      "Time extraction failed for: \"A few hours\", original was \"A few hours\"\n",
      "ValueError could not convert string to float: 'few'\n",
      "Time extraction failed for: \"A few hours\", original was \"A few hours\"\n",
      "ValueError could not convert string to float: 'few'\n",
      "Time extraction failed for: \"a few hours\", original was \"for a few hours\"\n",
      "ValueError could not convert string to float: 'few'\n",
      "Time extraction failed for: \"a few hours\", original was \"for a few hours\"\n",
      "ValueError could not convert string to float: 'few'\n",
      "Time extraction failed for: \"a few hours\", original was \"for a few hours\"\n",
      "ValueError could not convert string to float: 'few'\n",
      "Time extraction failed for: \"a few hours\", original was \"for a few hours\"\n",
      "ValueError could not convert string to float: 'few'\n",
      "c5ra01183c.11\n",
      "--------------\n",
      "Time extraction failed for: \"minutes\", original was \"minutes\"\n",
      "IndexError list index out of range\n",
      "Time extraction failed for: \"minutes\", original was \"minutes\"\n",
      "IndexError list index out of range\n",
      "chem201301461.32\n",
      "--------------\n",
      "cm3006953.27\n",
      "--------------\n",
      "jelectacta201411093.30\n",
      "--------------\n",
      "jijhydene201510038.40\n",
      "--------------\n",
      "jmemsci201411038.43\n",
      "--------------\n",
      "jmemsci201505015.55\n",
      "--------------\n",
      "jmemsci201505015.56\n",
      "--------------\n",
      "jmicromeso201203052.34\n",
      "--------------\n",
      "jmicromeso201211012.32\n",
      "--------------\n"
     ]
    },
    {
     "name": "stderr",
     "output_type": "stream",
     "text": [
      "WARNING:root:Failed for: \"temperature\"\n",
      "WARNING:root:\t IndexError error raised: list index out of range\n",
      "WARNING:root:Failed for: \"temperature\"\n",
      "WARNING:root:\t IndexError error raised: list index out of range\n"
     ]
    },
    {
     "name": "stdout",
     "output_type": "stream",
     "text": [
      "jmicromeso201211012.33\n",
      "--------------\n",
      "jp407792a.25\n",
      "--------------\n"
     ]
    },
    {
     "name": "stderr",
     "output_type": "stream",
     "text": [
      "WARNING:root:Failed for: \"temperature\"\n",
      "WARNING:root:\t IndexError error raised: list index out of range\n",
      "WARNING:root:Failed for: \"temperature\"\n",
      "WARNING:root:\t IndexError error raised: list index out of range\n"
     ]
    },
    {
     "name": "stdout",
     "output_type": "stream",
     "text": [
      "jp407792a.26\n",
      "--------------\n",
      "jp5081466.1\n",
      "--------------\n",
      "jp5081466.2\n",
      "--------------\n",
      "jp5081466.3\n",
      "--------------\n",
      "jp5081466.4\n",
      "--------------\n",
      "jp5081466.5\n",
      "--------------\n",
      "jp5081466.6\n",
      "--------------\n",
      "jp5081466.7\n",
      "--------------\n"
     ]
    },
    {
     "name": "stderr",
     "output_type": "stream",
     "text": [
      "WARNING:root:Failed for: \"room\"\n",
      "WARNING:root:\t IndexError error raised: list index out of range\n",
      "WARNING:root:Failed for: \"room\"\n",
      "WARNING:root:\t IndexError error raised: list index out of range\n",
      "WARNING:root:Failed for: \"room\"\n",
      "WARNING:root:\t IndexError error raised: list index out of range\n",
      "WARNING:root:Failed for: \"room\"\n",
      "WARNING:root:\t IndexError error raised: list index out of range\n"
     ]
    },
    {
     "name": "stdout",
     "output_type": "stream",
     "text": [
      "jp5081466.8\n",
      "--------------\n",
      "jp5081466.9\n",
      "--------------\n",
      "jp5081466.10\n",
      "--------------\n",
      "JPOWTEC201309013.44\n",
      "--------------\n",
      "jssc201406017.48\n",
      "--------------\n",
      "jultsonch201704030.47\n",
      "--------------\n",
      "jz300855a.1\n",
      "--------------\n",
      "jz300855a.2\n",
      "--------------\n",
      "jz300855a.3\n",
      "--------------\n",
      "la401471g.31\n",
      "--------------\n",
      "s1872-2067(14)60292-8.30\n",
      "--------------\n"
     ]
    },
    {
     "name": "stderr",
     "output_type": "stream",
     "text": [
      "WARNING:root:Failed for: \"this temperature\"\n",
      "WARNING:root:\t ValueError error raised: could not convert string to float: 'this'\n",
      "WARNING:root:Failed for: \"this temperature\"\n",
      "WARNING:root:\t ValueError error raised: could not convert string to float: 'this'\n",
      "WARNING:root:Failed for: \"this temperature\"\n",
      "WARNING:root:\t ValueError error raised: could not convert string to float: 'this'\n",
      "WARNING:root:Failed for: \"this temperature\"\n",
      "WARNING:root:\t ValueError error raised: could not convert string to float: 'this'\n"
     ]
    },
    {
     "name": "stdout",
     "output_type": "stream",
     "text": [
      "s10450-012-9407-1.18\n",
      "--------------\n",
      "s12274-014-0501-4.0\n",
      "--------------\n"
     ]
    }
   ],
   "source": [
    "sequence_info = {}\n",
    "condensed_sequence_info = {}\n",
    "time_info = {}\n",
    "temp_info = {}\n",
    "for x in manual_sequences['identifier'].unique():\n",
    "    print(f'{x}\\n--------------')\n",
    "    manual = sequence.Sequence(manual_sequences[manual_sequences['identifier']==x].reset_index(drop=True))\n",
    "    manual.extract_chemicals()\n",
    "    manual.extract_conditions()\n",
    "\n",
    "\n",
    "    cde_paragraph = SynParagraph(paper_identifier=x, source_directory=source_dir)\n",
    "    cde_sequence = sequence.Sequence(cde_paragraph.raw_synthesis)\n",
    "    cde_sequence.drop_invalid_lines()\n",
    "    cde_sequence.extract_chemicals()\n",
    "    cde_sequence.extract_conditions()\n",
    "\n",
    "\n",
    "    gpt = sequence.Sequence(gpt_sequences[x])\n",
    "    gpt.drop_invalid_lines()\n",
    "    gpt.extract_chemicals()\n",
    "    gpt.extract_conditions()   \n",
    "\n",
    "\n",
    "    time_info[x] = {\n",
    "        'manual': manual.conditions.times['Time (min)'].tolist(),\n",
    "        'cde': cde_sequence.conditions.times['Time (min)'].tolist(),\n",
    "        'gpt': gpt.conditions.times['Time (min)'].tolist()\n",
    "    }\n",
    "\n",
    "    temp_info[x] = {\n",
    "        'manual': manual.conditions.temps['T (K)'].tolist(),\n",
    "        'cde': cde_sequence.conditions.temps['T (K)'].tolist(),\n",
    "        'gpt': gpt.conditions.temps['T (K)'].tolist()\n",
    "    }\n"
   ]
  },
  {
   "cell_type": "code",
   "execution_count": 59,
   "metadata": {},
   "outputs": [],
   "source": [
    "temp_df = pd.DataFrame(temp_info).T\n",
    "time_df = pd.DataFrame(time_info).T\n"
   ]
  },
  {
   "cell_type": "markdown",
   "metadata": {},
   "source": [
    "## Analysing extracted time values"
   ]
  },
  {
   "cell_type": "code",
   "execution_count": 95,
   "metadata": {},
   "outputs": [],
   "source": [
    "for c,x in time_df.iterrows():\n",
    "    try:\n",
    "        gpt_precision = len(Counter(x['manual']) & Counter(x['gpt']))/len(Counter(x['manual']))\n",
    "    except ZeroDivisionError:\n",
    "        gpt_precision = 0\n",
    "\n",
    "    time_df.loc[c,'gpt_precision'] = gpt_precision\n",
    "\n",
    "    try:\n",
    "        gpt_recall = len(Counter(x['manual']) & Counter(x['gpt']))/len(Counter(x['gpt']))\n",
    "    except ZeroDivisionError:\n",
    "        gpt_recall = 0\n",
    "\n",
    "    time_df.loc[c,'gpt_recall'] = gpt_recall\n",
    "    try:\n",
    "        time_df.loc[c, 'gpt_f1'] = 2*gpt_recall*gpt_precision/(gpt_recall+gpt_precision)\n",
    "    except ZeroDivisionError:\n",
    "        time_df.loc[c, 'gpt_f1'] = 0\n",
    "\n",
    "    try:\n",
    "        gpt_value_match = sum(((Counter(x['manual']) & Counter(x['gpt'])).values()))/max([sum(Counter(x['manual']).values()), sum(Counter(x['gpt']).values())])\n",
    "    except ZeroDivisionError:\n",
    "        gpt_value_match = np.nan\n",
    "    time_df.loc[c,'gpt_value_match'] = float(gpt_value_match)\n",
    "\n",
    "\n",
    "    try:\n",
    "        cde_precision = len(Counter(x['manual']) & Counter(x['cde']))/len(Counter(x['manual']))\n",
    "    except ZeroDivisionError:\n",
    "        cde_precision = 0\n",
    "\n",
    "    time_df.loc[c,'cde_precision'] = cde_precision\n",
    "\n",
    "    try:\n",
    "        cde_recall = len(Counter(x['manual']) & Counter(x['cde']))/len(Counter(x['cde']))\n",
    "    except ZeroDivisionError:\n",
    "        cde_recall = 0\n",
    "\n",
    "    time_df.loc[c,'cde_recall'] = cde_recall\n",
    "    try:\n",
    "        time_df.loc[c, 'cde_f1'] = 2*cde_recall*cde_precision/(cde_recall+cde_precision)\n",
    "    except ZeroDivisionError:\n",
    "        time_df.loc[c, 'cde_f1'] = 0\n",
    "\n",
    "    try:\n",
    "        cde_value_match = sum(((Counter(x['manual']) & Counter(x['cde'])).values()))/max([sum(Counter(x['manual']).values()), sum(Counter(x['cde']).values())])\n",
    "    except ZeroDivisionError:\n",
    "        cde_value_match = np.nan\n",
    "    time_df.loc[c,'cde_value_match'] = float(cde_value_match)\n",
    "\n",
    "    try:\n",
    "        cross_precision = len(Counter(x['cde']) & Counter(x['gpt']))/len(Counter(x['cde']))\n",
    "    except ZeroDivisionError:\n",
    "        cross_precision = 0\n",
    "\n",
    "    time_df.loc[c,'cross_precision'] = cross_precision\n",
    "\n",
    "    try:\n",
    "        cross_recall = len(Counter(x['cde']) & Counter(x['gpt']))/len(Counter(x['gpt']))\n",
    "    except ZeroDivisionError:\n",
    "        cross_recall = 0\n",
    "\n",
    "    time_df.loc[c,'cross_recall'] = cross_recall\n",
    "    try:\n",
    "        time_df.loc[c, 'cross_f1'] = 2*cross_recall*cross_precision/(cross_recall+cross_precision)\n",
    "    except ZeroDivisionError:\n",
    "        time_df.loc[c, 'cross_f1'] = 0\n"
   ]
  },
  {
   "cell_type": "code",
   "execution_count": 112,
   "metadata": {},
   "outputs": [
    {
     "data": {
      "image/png": "[encoded data removed]",
      "text/plain": [
       "<Figure size 432x288 with 1 Axes>"
      ]
     },
     "metadata": {
      "needs_background": "light"
     },
     "output_type": "display_data"
    },
    {
     "name": "stdout",
     "output_type": "stream",
     "text": [
      "Time value parsing precision:\n",
      "---------------------------------------\n",
      "Chemtagger average:  72.1 % +/-  42.8 %\n",
      "GPT average:         72.1 % +/-  42.8 %\n"
     ]
    }
   ],
   "source": [
    "import matplotlib.pyplot as plt\n",
    "fig, ax = plt.subplots()\n",
    "bins = np.linspace(0,1,11)\n",
    "sns.histplot(\n",
    "    { 'ChatGPT':  time_df['gpt_precision'], 'ChemTagger':time_df['cde_precision'],}, \n",
    "    ax=ax, \n",
    "    bins=bins, \n",
    "    multiple='dodge', \n",
    "    shrink=0.8\n",
    "    )\n",
    "\n",
    "legend = ax.get_legend()\n",
    "handles = legend.legend_handles\n",
    "legend.remove()\n",
    "ax.set_xlabel('Time quantity precision', fontsize=16)\n",
    "ax.set_ylabel('Frequency (# papers)', fontsize=16)\n",
    "ax.legend(handles, ['ChatGPT', 'ChemicalTagger'], loc=9)\n",
    "ax.annotate('A', (0,27.5),fontsize=20)\n",
    "ax.tick_params(labelsize=14)\n",
    "plt.show()\n",
    "print('Time value parsing precision:\\n---------------------------------------')\n",
    "print(f\"Chemtagger average: {round(100*time_df['cde_precision'].mean(),1):>5} % +/- {round(100*time_df['cde_precision'].std(),1):>5} %\")\n",
    "print(f\"GPT average: {round(100*time_df['gpt_precision'].mean(),1):>12} % +/- {round(100*time_df['gpt_precision'].std(),1):>5} %\")\n"
   ]
  },
  {
   "cell_type": "code",
   "execution_count": 114,
   "metadata": {},
   "outputs": [
    {
     "data": {
      "image/png": "[encoded data removed]",
      "text/plain": [
       "<Figure size 432x288 with 1 Axes>"
      ]
     },
     "metadata": {
      "needs_background": "light"
     },
     "output_type": "display_data"
    },
    {
     "name": "stdout",
     "output_type": "stream",
     "text": [
      "Time value parsing recall:\n",
      "---------------------------------------\n",
      "Chemtagger average:  73.6 % +/-  42.6 %\n",
      "GPT average:         74.4 % +/-  42.8 %\n"
     ]
    }
   ],
   "source": [
    "import matplotlib.pyplot as plt\n",
    "fig, ax = plt.subplots()\n",
    "bins = np.linspace(0,1,11)\n",
    "sns.histplot(\n",
    "    { 'ChatGPT':  time_df['gpt_recall'], 'ChemTagger':time_df['cde_recall'],}, \n",
    "    ax=ax, \n",
    "    bins=bins, \n",
    "    multiple='dodge', \n",
    "    shrink=0.8\n",
    "    )\n",
    "\n",
    "legend = ax.get_legend()\n",
    "handles = legend.legend_handles\n",
    "legend.remove()\n",
    "ax.set_xlabel('Time quantity recall', fontsize=16)\n",
    "ax.set_ylabel('Frequency (# papers)', fontsize=16)\n",
    "ax.legend(handles, ['ChatGPT', 'ChemicalTagger'], loc=9)\n",
    "ax.annotate('B', (0,27.5),fontsize=20)\n",
    "ax.tick_params(labelsize=14)\n",
    "plt.show()\n",
    "print('Time value parsing recall:\\n---------------------------------------')\n",
    "print(f\"Chemtagger average: {round(100*time_df['cde_recall'].mean(),1):>5} % +/- {round(100*time_df['cde_recall'].std(),1):>5} %\")\n",
    "print(f\"GPT average: {round(100*time_df['gpt_recall'].mean(),1):>12} % +/- {round(100*time_df['gpt_recall'].std(),1):>5} %\")"
   ]
  },
  {
   "cell_type": "code",
   "execution_count": 118,
   "metadata": {},
   "outputs": [
    {
     "data": {
      "image/png": "[encoded data removed]",
      "text/plain": [
       "<Figure size 432x288 with 1 Axes>"
      ]
     },
     "metadata": {
      "needs_background": "light"
     },
     "output_type": "display_data"
    },
    {
     "name": "stdout",
     "output_type": "stream",
     "text": [
      "Time value parsing F1-score:\n",
      "---------------------------------------\n",
      "Chemtagger average:  72.1 % +/-  42.2 %\n",
      "GPT average:         72.4 % +/-  42.2 %\n"
     ]
    }
   ],
   "source": [
    "import matplotlib.pyplot as plt\n",
    "fig, ax = plt.subplots()\n",
    "bins = np.linspace(0,1,11)\n",
    "sns.histplot(\n",
    "    { 'ChatGPT':  time_df['gpt_f1'], 'ChemTagger':time_df['cde_f1'],}, \n",
    "    ax=ax, \n",
    "    bins=bins, \n",
    "    multiple='dodge', \n",
    "    shrink=0.8\n",
    "    )\n",
    "\n",
    "legend = ax.get_legend()\n",
    "handles = legend.legend_handles\n",
    "legend.remove()\n",
    "ax.set_xlabel('Time quantity F1-score', fontsize=16)\n",
    "ax.set_ylabel('Frequency (# papers)', fontsize=16)\n",
    "ax.legend(handles, ['ChatGPT', 'ChemicalTagger'], loc=9)\n",
    "ax.annotate('C', (0,26),fontsize=20)\n",
    "ax.tick_params(labelsize=14)\n",
    "plt.show()\n",
    "print('Time value parsing F1-score:\\n---------------------------------------')\n",
    "print(f\"Chemtagger average: {round(100*time_df['cde_f1'].mean(),1):>5} % +/- {round(100*time_df['cde_f1'].std(),1):>5} %\")\n",
    "print(f\"GPT average: {round(100*time_df['gpt_f1'].mean(),1):>12} % +/- {round(100*time_df['gpt_f1'].std(),1):>5} %\")"
   ]
  },
  {
   "cell_type": "code",
   "execution_count": 117,
   "metadata": {},
   "outputs": [
    {
     "data": {
      "image/png": "[encoded data removed]",
      "text/plain": [
       "<Figure size 432x288 with 1 Axes>"
      ]
     },
     "metadata": {
      "needs_background": "light"
     },
     "output_type": "display_data"
    },
    {
     "name": "stdout",
     "output_type": "stream",
     "text": [
      "Time value parsing recall:\n",
      "---------------------------------------\n",
      "Chemtagger average:  69.4 % +/-  42.1 %\n",
      "GPT average:         69.4 % +/-  42.1 %\n"
     ]
    }
   ],
   "source": [
    "import matplotlib.pyplot as plt\n",
    "fig, ax = plt.subplots()\n",
    "bins = np.linspace(0,1,11)\n",
    "sns.histplot(\n",
    "    { 'ChatGPT':  time_df['gpt_value_match'], 'ChemTagger':time_df['cde_value_match'],}, \n",
    "    ax=ax, \n",
    "    bins=bins, \n",
    "    multiple='dodge', \n",
    "    shrink=0.8\n",
    "    )\n",
    "\n",
    "legend = ax.get_legend()\n",
    "handles = legend.legend_handles\n",
    "legend.remove()\n",
    "ax.set_xlabel('Time quantity F-1 score', fontsize=16)\n",
    "ax.set_ylabel('Frequency (# papers)', fontsize=16)\n",
    "ax.legend(handles, ['ChatGPT', 'ChemicalTagger'], loc=9)\n",
    "ax.annotate('D', (0,24),fontsize=20)\n",
    "ax.tick_params(labelsize=14)\n",
    "plt.show()\n",
    "print('Time value parsing recall:\\n---------------------------------------')\n",
    "print(f\"Chemtagger average: {round(100*time_df['cde_value_match'].mean(),1):>5} % +/- {round(100*time_df['cde_value_match'].std(),1):>5} %\")\n",
    "print(f\"GPT average: {round(100*time_df['gpt_value_match'].mean(),1):>12} % +/- {round(100*time_df['gpt_value_match'].std(),1):>5} %\")\n"
   ]
  },
  {
   "cell_type": "markdown",
   "metadata": {},
   "source": [
    "## Analysing extracted temperature values"
   ]
  },
  {
   "cell_type": "code",
   "execution_count": 122,
   "metadata": {},
   "outputs": [],
   "source": [
    "for c,x in temp_df.iterrows():\n",
    "    try:\n",
    "        gpt_precision = len(Counter(x['manual']) & Counter(x['gpt']))/len(Counter(x['manual']))\n",
    "    except ZeroDivisionError:\n",
    "        gpt_precision = 0\n",
    "\n",
    "    temp_df.loc[c,'gpt_precision'] = gpt_precision\n",
    "\n",
    "    try:\n",
    "        gpt_recall = len(Counter(x['manual']) & Counter(x['gpt']))/len(Counter(x['gpt']))\n",
    "    except ZeroDivisionError:\n",
    "        gpt_recall = 0\n",
    "\n",
    "    temp_df.loc[c,'gpt_recall'] = gpt_recall\n",
    "    try:\n",
    "        temp_df.loc[c, 'gpt_f1'] = 2*gpt_recall*gpt_precision/(gpt_recall+gpt_precision)\n",
    "    except ZeroDivisionError:\n",
    "        temp_df.loc[c, 'gpt_f1'] = 0\n",
    "\n",
    "    gpt_value_match = len(Counter(x['manual']) - Counter(x['gpt'])) == 0\n",
    "    try:\n",
    "        gpt_value_match = sum(((Counter(x['manual']) & Counter(x['gpt'])).values()))/max([sum(Counter(x['manual']).values()), sum(Counter(x['gpt']).values())])\n",
    "    except ZeroDivisionError:\n",
    "        gpt_value_match = np.nan\n",
    "    temp_df.loc[c,'gpt_value_match'] = float(gpt_value_match)\n",
    "\n",
    "\n",
    "    try:\n",
    "        cde_precision = len(Counter(x['manual']) & Counter(x['cde']))/len(Counter(x['manual']))\n",
    "    except ZeroDivisionError:\n",
    "        cde_precision = 0\n",
    "\n",
    "    temp_df.loc[c,'cde_precision'] = cde_precision\n",
    "\n",
    "    try:\n",
    "        cde_recall = len(Counter(x['manual']) & Counter(x['cde']))/len(Counter(x['cde']))\n",
    "    except ZeroDivisionError:\n",
    "        cde_recall = 0\n",
    "\n",
    "    temp_df.loc[c,'cde_recall'] = cde_recall\n",
    "    try:\n",
    "        temp_df.loc[c, 'cde_f1'] = 2*cde_recall*cde_precision/(cde_recall+cde_precision)\n",
    "    except ZeroDivisionError:\n",
    "        temp_df.loc[c, 'cde_f1'] = 0\n",
    "\n",
    "    cde_value_match = len(Counter(x['manual']) - Counter(x['cde'])) == 0\n",
    "    try:\n",
    "        cde_value_match = sum(((Counter(x['manual']) & Counter(x['cde'])).values()))/max([sum(Counter(x['manual']).values()), sum(Counter(x['cde']).values())])\n",
    "    except ZeroDivisionError:\n",
    "        cde_value_match = np.nan\n",
    "    temp_df.loc[c,'cde_value_match'] = float(cde_value_match)\n",
    "\n",
    "    try:\n",
    "        cross_precision = len(Counter(x['cde']) & Counter(x['gpt']))/len(Counter(x['cde']))\n",
    "    except ZeroDivisionError:\n",
    "        cross_precision = 0\n",
    "\n",
    "    temp_df.loc[c,'cross_precision'] = cross_precision\n",
    "\n",
    "    try:\n",
    "        cross_recall = len(Counter(x['cde']) & Counter(x['gpt']))/len(Counter(x['gpt']))\n",
    "    except ZeroDivisionError:\n",
    "        cross_recall = 0\n",
    "\n",
    "    temp_df.loc[c,'cross_recall'] = cross_recall\n",
    "    try:\n",
    "        temp_df.loc[c, 'cross_f1'] = 2*cross_recall*cross_precision/(cross_recall+cross_precision)\n",
    "    except ZeroDivisionError:\n",
    "        temp_df.loc[c, 'cross_f1'] = 0\n",
    "\n",
    "    cross_value_match = len(Counter(x['gpt']) - Counter(x['cde'])) == 0\n",
    "    try:\n",
    "        cross_value_match = sum(((Counter(x['cde']) & Counter(x['gpt'])).values()))/max([sum(Counter(x['cde']).values()), sum(Counter(x['gpt']).values())])\n",
    "    except ZeroDivisionError:\n",
    "        cross_value_match = np.nan\n",
    "    temp_df.loc[c,'cross_value_match'] = float(cross_value_match)"
   ]
  },
  {
   "cell_type": "code",
   "execution_count": 124,
   "metadata": {},
   "outputs": [
    {
     "data": {
      "image/png": "[encoded data removed]",
      "text/plain": [
       "<Figure size 432x288 with 1 Axes>"
      ]
     },
     "metadata": {
      "needs_background": "light"
     },
     "output_type": "display_data"
    },
    {
     "name": "stdout",
     "output_type": "stream",
     "text": [
      "Temperature value parsing precision:\n",
      "---------------------------------------\n",
      "Chemtagger average:  75.6 % +/-  33.6 %\n",
      "GPT average:         75.6 % +/-  33.6 %\n"
     ]
    }
   ],
   "source": [
    "import matplotlib.pyplot as plt\n",
    "fig, ax = plt.subplots()\n",
    "bins = np.linspace(0,1,11)\n",
    "sns.histplot(\n",
    "    { 'ChatGPT':  temp_df['gpt_precision'], 'ChemTagger':temp_df['cde_precision'],}, \n",
    "    ax=ax, \n",
    "    bins=bins, \n",
    "    multiple='dodge', \n",
    "    shrink=0.8\n",
    "    )\n",
    "\n",
    "legend = ax.get_legend()\n",
    "handles = legend.legend_handles\n",
    "legend.remove()\n",
    "ax.set_xlabel('Temperature quantity precision', fontsize=16)\n",
    "ax.set_ylabel('Frequency (# papers)', fontsize=16)\n",
    "ax.legend(handles, ['ChatGPT', 'ChemicalTagger'], loc=9)\n",
    "ax.annotate('A', (0,24),fontsize=20)\n",
    "ax.tick_params(labelsize=14)\n",
    "plt.show()\n",
    "print('Temperature value parsing precision:\\n---------------------------------------')\n",
    "print(f\"Chemtagger average: {round(100*temp_df['cde_precision'].mean(),1):>5} % +/- {round(100*temp_df['cde_precision'].std(),1):>5} %\")\n",
    "print(f\"GPT average: {round(100*temp_df['gpt_precision'].mean(),1):>12} % +/- {round(100*temp_df['gpt_precision'].std(),1):>5} %\")\n"
   ]
  },
  {
   "cell_type": "code",
   "execution_count": 126,
   "metadata": {},
   "outputs": [
    {
     "data": {
      "image/png": "[encoded data removed]",
      "text/plain": [
       "<Figure size 432x288 with 1 Axes>"
      ]
     },
     "metadata": {
      "needs_background": "light"
     },
     "output_type": "display_data"
    },
    {
     "name": "stdout",
     "output_type": "stream",
     "text": [
      "Temperature value parsing recall:\n",
      "---------------------------------------\n",
      "Chemtagger average:  82.8 % +/-  31.8 %\n",
      "GPT average:         82.8 % +/-  31.8 %\n"
     ]
    }
   ],
   "source": [
    "import matplotlib.pyplot as plt\n",
    "fig, ax = plt.subplots()\n",
    "bins = np.linspace(0,1,11)\n",
    "sns.histplot(\n",
    "    { 'ChatGPT':  temp_df['gpt_recall'], 'ChemTagger':temp_df['cde_recall'],}, \n",
    "    ax=ax, \n",
    "    bins=bins, \n",
    "    multiple='dodge', \n",
    "    shrink=0.8\n",
    "    )\n",
    "\n",
    "legend = ax.get_legend()\n",
    "handles = legend.legend_handles\n",
    "legend.remove()\n",
    "ax.set_xlabel('Temperature quantity recall', fontsize=16)\n",
    "ax.set_ylabel('Frequency (# papers)', fontsize=16)\n",
    "ax.legend(handles, ['ChatGPT', 'ChemicalTagger'], loc=9)\n",
    "ax.annotate('B', (0,27.5),fontsize=20)\n",
    "ax.tick_params(labelsize=14)\n",
    "plt.show()\n",
    "print('Temperature value parsing recall:\\n---------------------------------------')\n",
    "print(f\"Chemtagger average: {round(100*temp_df['cde_recall'].mean(),1):>5} % +/- {round(100*temp_df['cde_recall'].std(),1):>5} %\")\n",
    "print(f\"GPT average: {round(100*temp_df['gpt_recall'].mean(),1):>12} % +/- {round(100*temp_df['gpt_recall'].std(),1):>5} %\")"
   ]
  },
  {
   "cell_type": "code",
   "execution_count": 128,
   "metadata": {},
   "outputs": [
    {
     "data": {
      "image/png": "[encoded data removed]",
      "text/plain": [
       "<Figure size 432x288 with 1 Axes>"
      ]
     },
     "metadata": {
      "needs_background": "light"
     },
     "output_type": "display_data"
    },
    {
     "name": "stdout",
     "output_type": "stream",
     "text": [
      "Temperature value parsing F1-score:\n",
      "---------------------------------------\n",
      "Chemtagger average:  77.4 % +/-  31.2 %\n",
      "GPT average:         77.4 % +/-  31.2 %\n"
     ]
    }
   ],
   "source": [
    "import matplotlib.pyplot as plt\n",
    "fig, ax = plt.subplots()\n",
    "bins = np.linspace(0,1,11)\n",
    "sns.histplot(\n",
    "    { 'ChatGPT':  temp_df['gpt_f1'], 'ChemTagger':temp_df['cde_f1'],}, \n",
    "    ax=ax, \n",
    "    bins=bins, \n",
    "    multiple='dodge', \n",
    "    shrink=0.8\n",
    "    )\n",
    "\n",
    "legend = ax.get_legend()\n",
    "handles = legend.legend_handles\n",
    "legend.remove()\n",
    "ax.set_xlabel('Temperature quantity F1-score', fontsize=16)\n",
    "ax.set_ylabel('Frequency (# papers)', fontsize=16)\n",
    "ax.legend(handles, ['ChatGPT', 'ChemicalTagger'], loc=9)\n",
    "ax.annotate('C', (0,21),fontsize=20)\n",
    "ax.tick_params(labelsize=14)\n",
    "plt.show()\n",
    "print('Temperature value parsing F1-score:\\n---------------------------------------')\n",
    "print(f\"Chemtagger average: {round(100*temp_df['cde_f1'].mean(),1):>5} % +/- {round(100*temp_df['cde_f1'].std(),1):>5} %\")\n",
    "print(f\"GPT average: {round(100*temp_df['gpt_f1'].mean(),1):>12} % +/- {round(100*temp_df['gpt_f1'].std(),1):>5} %\")"
   ]
  },
  {
   "cell_type": "code",
   "execution_count": 130,
   "metadata": {},
   "outputs": [
    {
     "data": {
      "image/png": "[encoded data removed]",
      "text/plain": [
       "<Figure size 432x288 with 1 Axes>"
      ]
     },
     "metadata": {
      "needs_background": "light"
     },
     "output_type": "display_data"
    },
    {
     "name": "stdout",
     "output_type": "stream",
     "text": [
      "Temperature value matching:\n",
      "---------------------------------------\n",
      "Chemtagger average:  73.9 % +/-  31.0 %\n",
      "GPT average:         73.9 % +/-  31.0 %\n"
     ]
    }
   ],
   "source": [
    "import matplotlib.pyplot as plt\n",
    "fig, ax = plt.subplots()\n",
    "bins = np.linspace(0,1,11)\n",
    "sns.histplot(\n",
    "    { 'ChatGPT':  temp_df['gpt_value_match'], 'ChemTagger':temp_df['cde_value_match'],}, \n",
    "    ax=ax, \n",
    "    bins=bins, \n",
    "    multiple='dodge', \n",
    "    shrink=0.8\n",
    "    )\n",
    "\n",
    "legend = ax.get_legend()\n",
    "handles = legend.legend_handles\n",
    "legend.remove()\n",
    "ax.set_xlabel('Time quantity value matching', fontsize=16)\n",
    "ax.set_ylabel('Frequency (# papers)', fontsize=16)\n",
    "ax.legend(handles, ['ChatGPT', 'ChemicalTagger'], loc=9)\n",
    "ax.annotate('D', (0,20),fontsize=20)\n",
    "ax.tick_params(labelsize=14)\n",
    "plt.show()\n",
    "print('Temperature value matching:\\n---------------------------------------')\n",
    "print(f\"Chemtagger average: {round(100*temp_df['cde_value_match'].mean(),1):>5} % +/- {round(100*temp_df['cde_value_match'].std(),1):>5} %\")\n",
    "print(f\"GPT average: {round(100*temp_df['gpt_value_match'].mean(),1):>12} % +/- {round(100*temp_df['gpt_value_match'].std(),1):>5} %\")"
   ]
  }
 ],
 "metadata": {
  "kernelspec": {
   "display_name": "Python 3",
   "language": "python",
   "name": "python3"
  },
  "language_info": {
   "codemirror_mode": {
    "name": "ipython",
    "version": 3
   },
   "file_extension": ".py",
   "mimetype": "text/x-python",
   "name": "python",
   "nbconvert_exporter": "python",
   "pygments_lexer": "ipython3",
   "version": "3.9.5"
  },
  "toc": {
   "base_numbering": 1,
   "nav_menu": {},
   "number_sections": true,
   "sideBar": true,
   "skip_h1_title": true,
   "title_cell": "Table of Contents",
   "title_sidebar": "Contents",
   "toc_cell": false,
   "toc_position": {},
   "toc_section_display": true,
   "toc_window_display": false
  }
 },
 "nbformat": 4,
 "nbformat_minor": 1
}
