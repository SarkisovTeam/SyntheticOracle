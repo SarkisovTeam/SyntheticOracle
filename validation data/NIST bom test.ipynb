{
 "cells": [
  {
   "cell_type": "markdown",
   "metadata": {},
   "source": [
    "# Validating chemical parsing between ChemicalTagger, ChatGPT, and manual labelling"
   ]
  },
  {
   "cell_type": "code",
   "execution_count": 1,
   "metadata": {
    "ExecuteTime": {
     "end_time": "2022-09-05T11:30:39.673377Z",
     "start_time": "2022-09-05T11:30:34.837166Z"
    }
   },
   "outputs": [],
   "source": [
    "import numpy as np\n",
    "\n",
    "from pathlib import Path\n",
    "import pandas as pd\n",
    "import numpy as np\n",
    "import os\n",
    "import sys\n",
    "\n",
    "try:\n",
    "    from synoracle import ingredients, sequence\n",
    "except ModuleNotFoundError:\n",
    "    module_path = os.path.abspath(os.path.join('c:\\\\Users\\\\d23895jm\\\\Desktop\\\\Work master 2022\\\\Active research Projects\\\\synoracle_publication\\\\SyntheticOracle'))\n",
    "    if module_path not in sys.path:\n",
    "        sys.path.append(module_path)\n",
    "    from synoracle import ingredients, sequence\n",
    "\n",
    "try:\n",
    "    from synparagraph import SynParagraph\n",
    "except ModuleNotFoundError:\n",
    "    module_path = os.path.abspath(os.path.join('c:\\\\Users\\\\d23895jm\\\\Desktop\\\\Work master 2022\\\\Active research Projects\\\\synoracle-preprocessing\\\\synoracle'))\n",
    "    if module_path not in sys.path:\n",
    "        sys.path.append(module_path)\n",
    "    from synparagraph import SynParagraph\n",
    "\n",
    "from tqdm.notebook import tqdm, trange\n",
    "\n",
    "def li_iterate(li):\n",
    "    l = iter(li)\n",
    "    for _ in trange(len(li)):\n",
    "        yield next(l)"
   ]
  },
  {
   "cell_type": "code",
   "execution_count": 2,
   "metadata": {
    "ExecuteTime": {
     "end_time": "2022-09-05T11:30:39.689375Z",
     "start_time": "2022-09-05T11:30:39.679378Z"
    }
   },
   "outputs": [],
   "source": [
    "chemtagger_f_summary = pd.DataFrame(columns=['precision', 'recall', 'f-score', 'false positives', 'true positives', 'false negatives', 'total quantities'])\n",
    "chemtagger_value_f_summary = pd.DataFrame(columns=['precision', 'recall', 'f-score', 'value_match', 'false positives', 'true positives', 'false negatives', 'total quantities'])\n",
    "gpt_f_summary = pd.DataFrame(columns=['precision', 'recall', 'f-score', 'false positives', 'true positives', 'false negatives', 'total quantities'])\n",
    "gpt_value_f_summary = pd.DataFrame(columns=['precision', 'recall', 'f-score', 'value_match', 'false positives', 'true positives', 'false negatives', 'total quantities'])"
   ]
  },
  {
   "cell_type": "markdown",
   "metadata": {},
   "source": [
    "## Cleaning the manually parsed data"
   ]
  },
  {
   "cell_type": "code",
   "execution_count": 3,
   "metadata": {},
   "outputs": [],
   "source": [
    "input_boms = Path('D:/NIST_manual_BOMs.csv')"
   ]
  },
  {
   "cell_type": "code",
   "execution_count": 4,
   "metadata": {
    "ExecuteTime": {
     "end_time": "2022-09-05T11:30:44.908578Z",
     "start_time": "2022-09-05T11:30:42.248551Z"
    },
    "scrolled": true
   },
   "outputs": [
    {
     "name": "stderr",
     "output_type": "stream",
     "text": [
      "WARNING:root:No identity cache file specified!\n",
      "WARNING:root:No property cache specified!\n",
      "WARNING:root:No identity cache file specified!\n",
      "WARNING:root:No property cache specified!\n",
      "WARNING:root:No identity cache file specified!\n",
      "WARNING:root:Following chemical is unidentified:\n",
      " zinc hydroxide\n",
      "WARNING:root:No identity cache file specified!\n",
      "WARNING:root:No property cache specified!\n",
      "WARNING:root:No identity cache file specified!\n",
      "WARNING:root:No property cache specified!\n"
     ]
    }
   ],
   "source": [
    "manual_data = pd.read_csv(input_boms)\n",
    "np.unique(manual_data['unit'].astype(str))\n",
    "\n",
    "unit_converter = {\n",
    "    'L': 'volume',\n",
    "    'mL': 'volume',\n",
    "    'drops': 'volume',\n",
    "    'g': 'mass',\n",
    "    'mg': 'mass',\n",
    "    'mmol': 'other_amount',\n",
    "    'nan':np.nan,\n",
    "    np.nan:np.nan\n",
    "}\n",
    "\n",
    "\n",
    "for x, c in manual_data.iterrows():\n",
    "    working_units = unit_converter[c['unit']]\n",
    "    manual_data.loc[x,'Units used'] = working_units\n",
    "    manual_data.loc[x, working_units] = f'{c[\"Amount\"]} {c[\"unit\"]}'\n",
    "    \n",
    "manual_data = manual_data.rename({'Chemical': 'name'}, axis=1)\n",
    "manual_data[manual_data['Paper']=='s12274-014-0501-4']\n",
    "test = ingredients.BillOfMaterials(\n",
    "        manual_data[manual_data['Paper']=='s12274-014-0501-4']\n",
    "        ).initial_bill_of_materials"
   ]
  },
  {
   "cell_type": "markdown",
   "metadata": {},
   "source": [
    "## Handling GPT BOMS"
   ]
  },
  {
   "cell_type": "code",
   "execution_count": 5,
   "metadata": {},
   "outputs": [
    {
     "name": "stderr",
     "output_type": "stream",
     "text": [
      "WARNING:root:No identity cache file specified!\n"
     ]
    },
    {
     "name": "stdout",
     "output_type": "stream",
     "text": [
      "['zinc nitrate hexahydrate', '2-methylimidazole', 'DMF', '100 mL autoclave', 'chloroform', 'ZIF-8 crystals', 'filtration', 'DMF']\n"
     ]
    },
    {
     "name": "stderr",
     "output_type": "stream",
     "text": [
      "WARNING:root:Following chemical is unidentified:\n",
      " 100 mL autoclave\n",
      "WARNING:root:No identity cache file specified!\n",
      "WARNING:root:No property cache specified!\n",
      "WARNING:root:No identity cache file specified!\n",
      "WARNING:root:No property cache specified!\n",
      "WARNING:root:No identity cache file specified!\n",
      "WARNING:root:Following chemical is unidentified:\n",
      " ZIF-8 crystals\n",
      "WARNING:root:No identity cache file specified!\n",
      "WARNING:root:No property cache specified!\n",
      "WARNING:root:No identity cache file specified!\n",
      "WARNING:root:Following chemical is unidentified:\n",
      " filtration\n",
      "WARNING:root:No identity cache file specified!\n",
      "WARNING:root:No property cache specified!\n"
     ]
    },
    {
     "name": "stdout",
     "output_type": "stream",
     "text": [
      "0.5\n"
     ]
    }
   ],
   "source": [
    "gpt_sequences = pd.read_json('../test_nist_database_gpt.json')\n",
    "gpt_identifier = gpt_sequences['identifier'].unique()\n",
    "gpt_thing = sequence.Sequence(gpt_sequences[gpt_sequences['identifier']==gpt_identifier[1]])\n",
    "all_chems = []\n",
    "for x in  gpt_thing.raw_synthesis['new_chemicals']:\n",
    "    try: \n",
    "        working = eval(x)\n",
    "    except:\n",
    "        continue\n",
    "    all_chems.extend([x['name'] for x in working])\n",
    "print(all_chems)\n",
    "gpt_thing.extract_chemicals()\n",
    "gpt_bom = gpt_thing.chemical_list.produce_bill_of_mats()\n",
    "print(len(gpt_bom.bill_of_materials)/len(all_chems))"
   ]
  },
  {
   "cell_type": "markdown",
   "metadata": {},
   "source": [
    "## The comparison loop"
   ]
  },
  {
   "cell_type": "code",
   "execution_count": 6,
   "metadata": {
    "ExecuteTime": {
     "end_time": "2022-09-05T11:33:00.646776Z",
     "start_time": "2022-09-05T11:30:44.910550Z"
    },
    "scrolled": true
   },
   "outputs": [
    {
     "name": "stdout",
     "output_type": "stream",
     "text": [
      "009589722013797966.16\n",
      "-----------------\n",
      "Aic13970.6\n",
      "-----------------\n",
      "Aic13970.7\n",
      "-----------------\n",
      "Aic14525.0\n",
      "-----------------\n",
      "JPOWTEC201309013.44\n",
      "-----------------\n",
      "anie201104383.0\n",
      "-----------------\n",
      "c1ce05780d.0\n",
      "-----------------\n",
      "c2cc34893d.0\n",
      "-----------------\n",
      "c2jm15685g.24\n",
      "-----------------\n",
      "c3ta11483j.23\n",
      "-----------------\n",
      "c4ee01009d.0\n",
      "-----------------\n",
      "c5ra01183c.11\n",
      "-----------------\n"
     ]
    },
    {
     "name": "stderr",
     "output_type": "stream",
     "text": [
      "ERROR:root:Error encountered converting raw info to pint unit:\n",
      "----------------------\n",
      "ERROR:root:amount in question: name                 GO\n",
      "percent       [10 wt %]\n",
      "Units used    [percent]\n",
      "Name: 5, dtype: object\n"
     ]
    },
    {
     "name": "stdout",
     "output_type": "stream",
     "text": [
      "chem201301461.32\n",
      "-----------------\n",
      "cm3006953.27\n",
      "-----------------\n"
     ]
    },
    {
     "name": "stderr",
     "output_type": "stream",
     "text": [
      "ERROR:root:Error encountered converting raw info to pint unit:\n",
      "----------------------\n"
     ]
    },
    {
     "name": "stdout",
     "output_type": "stream",
     "text": [
      "jelectacta201411093.30\n",
      "-----------------\n",
      "jijhydene201510038.40\n",
      "-----------------\n"
     ]
    },
    {
     "name": "stderr",
     "output_type": "stream",
     "text": [
      "ERROR:root:amount in question: Paper                jijhydene201510038\n",
      "Paragraph                            40\n",
      "name                               HNO3\n",
      "Quantity provided                     1\n",
      "Amount                                3\n",
      "unit                              drops\n",
      "molar ratio                         NaN\n",
      "comment                             NaN\n",
      "Units used                       volume\n",
      "other_amount                        NaN\n",
      "volume                          3 drops\n",
      "NaN                                 NaN\n",
      "mass                                NaN\n",
      "Name: 59, dtype: object\n",
      "ERROR:root:Error encountered converting raw info to pint unit:\n",
      "----------------------\n",
      "ERROR:root:amount in question: name                   HNO3\n",
      "mass                    NaN\n",
      "volume        [three drops]\n",
      "Units used         [volume]\n",
      "Name: 3, dtype: object\n"
     ]
    },
    {
     "name": "stdout",
     "output_type": "stream",
     "text": [
      "jmemsci201411038.43\n",
      "-----------------\n",
      "jmemsci201505015.55\n",
      "-----------------\n",
      "jmemsci201505015.56\n",
      "-----------------\n",
      "jmicromeso201203052.34\n",
      "-----------------\n",
      "jmicromeso201211012.32\n",
      "-----------------\n",
      "jmicromeso201211012.33\n",
      "-----------------\n",
      "jp407792a.25\n",
      "-----------------\n",
      "jp407792a.26\n",
      "-----------------\n",
      "jp5081466.1\n",
      "-----------------\n",
      "jp5081466.10\n",
      "-----------------\n",
      "jp5081466.2\n",
      "-----------------\n",
      "jp5081466.3\n",
      "-----------------\n",
      "jp5081466.4\n",
      "-----------------\n",
      "jp5081466.5\n",
      "-----------------\n",
      "jp5081466.6\n",
      "-----------------\n",
      "jp5081466.7\n",
      "-----------------\n",
      "jp5081466.8\n",
      "-----------------\n",
      "jp5081466.9\n",
      "-----------------\n",
      "jssc201406017.48\n",
      "-----------------\n",
      "jultsonch201704030.47\n",
      "-----------------\n",
      "jz300855a.1\n",
      "-----------------\n",
      "jz300855a.2\n",
      "-----------------\n",
      "jz300855a.3\n",
      "-----------------\n",
      "la401471g.31\n",
      "-----------------\n"
     ]
    },
    {
     "name": "stderr",
     "output_type": "stream",
     "text": [
      "ERROR:root:Error encountered converting raw info to pint unit:\n",
      "----------------------\n",
      "ERROR:root:amount in question: name                     HMeIM\n",
      "mass                 [0.552 g]\n",
      "other_amount        [10-3 mol]\n",
      "volume                     NaN\n",
      "Units used      [other_amount]\n",
      "Name: 0, dtype: object\n",
      "ERROR:root:Error encountered converting raw info to pint unit:\n",
      "----------------------\n",
      "ERROR:root:amount in question: name            zinc nitrate hexahydrate\n",
      "mass                               [1 g]\n",
      "other_amount                  [10-3 mol]\n",
      "volume                               NaN\n",
      "Units used                [other_amount]\n",
      "Name: 3, dtype: object\n"
     ]
    },
    {
     "name": "stdout",
     "output_type": "stream",
     "text": [
      "s10450-012-9407-1.18\n",
      "-----------------\n",
      "s12274-014-0501-4.0\n",
      "-----------------\n",
      "s1872-2067(14)60292-8.30\n",
      "-----------------\n"
     ]
    }
   ],
   "source": [
    "source_dir = Path(r\"D:\\NIST-ZIF-8\")\n",
    "\n",
    "pubchem_cache = str(Path(r'C:\\Users\\d23895jm\\Desktop\\Work master 2022\\Active research Projects\\synoracle_publication\\paper analysis\\exported json files\\cached_pubchem.json'))\n",
    "info_cache = str(Path(r'C:\\Users\\d23895jm\\Desktop\\Work master 2022\\Active research Projects\\synoracle_publication\\paper analysis\\exported json files\\cached_molecule_info.json'))\n",
    "\n",
    "paper_indices = iter(np.unique(manual_data['Paper'].astype(str) + '.' + manual_data['Paragraph'].astype(str)))\n",
    "\n",
    "for paper_id in paper_indices: \n",
    "    print(f'{paper_id}\\n-----------------')\n",
    "    ## The manual bit\n",
    "    manual_parse = ingredients.BillOfMaterials(\n",
    "        manual_data[(manual_data['Paper']==paper_id.split('.')[0]) & (manual_data['Paragraph']==int(paper_id.split('.')[1]))], \n",
    "        identifier_cache_location = pubchem_cache,\n",
    "        property_cache_location = info_cache\n",
    "        )\n",
    "\n",
    "    ## The chemTagger bit\n",
    "    test_paragraph = SynParagraph(paper_identifier=paper_id, source_directory=source_dir)\n",
    "    test_sequence = sequence.Sequence(test_paragraph.raw_synthesis)\n",
    "    \n",
    "    test_sequence.drop_invalid_lines()\n",
    "    test_sequence.extract_chemicals()\n",
    "\n",
    "    tdm_parse = test_sequence.chemical_list.produce_bill_of_mats(\n",
    "        identifier_cache_location = pubchem_cache,\n",
    "        property_cache_location = info_cache\n",
    "    )\n",
    "\n",
    "    ## The GPT bit    \n",
    "    gpt_thing = sequence.Sequence(gpt_sequences[gpt_sequences['identifier']==paper_id])\n",
    "    gpt_thing.extract_chemicals()\n",
    "    gpt_bom = gpt_thing.chemical_list.produce_bill_of_mats(\n",
    "        identifier_cache_location = pubchem_cache,\n",
    "        property_cache_location = info_cache)\n",
    "    gpt_bom.bill_of_materials\n",
    "    \n",
    "    ## The comparison bit\n",
    "    real_identification = set([x for x in manual_parse.bill_of_materials.index])\n",
    "    test_identification = set([x for x in tdm_parse.bill_of_materials.index])\n",
    "    gpt_identification = set([x for x in gpt_bom.bill_of_materials.index])\n",
    "\n",
    "    chemtagger_true_positive = test_identification.intersection(real_identification)\n",
    "    gpt_true_positive = gpt_identification.intersection(real_identification)\n",
    "\n",
    "    chemtagger_precision = len(chemtagger_true_positive)/len(test_identification)\n",
    "    chemtagger_recall = len(chemtagger_true_positive)/len(real_identification)\n",
    "\n",
    "    try:\n",
    "        gpt_precision = len(gpt_true_positive)/len(gpt_identification)\n",
    "        gpt_recall = len(gpt_true_positive)/len(real_identification)\n",
    "    except ZeroDivisionError:\n",
    "        gpt_precision = 0\n",
    "        gpt_recall = 0\n",
    "    \n",
    "    ## Calculating f-scores\n",
    "\n",
    "    try:\n",
    "        chemtagger_f_score = 2*chemtagger_precision*chemtagger_recall/(chemtagger_precision+chemtagger_recall)\n",
    "    except ZeroDivisionError:\n",
    "        chemtagger_f_score = 0\n",
    "\n",
    "    chemtagger_f_summary.loc[paper_id] = {\n",
    "        'precision': chemtagger_precision,\n",
    "        'recall':chemtagger_recall,\n",
    "        'f-score':chemtagger_f_score,\n",
    "        'false positives': len(test_identification-real_identification),\n",
    "        'true positives': len(chemtagger_true_positive),\n",
    "        'false negatives': len(real_identification-test_identification),\n",
    "        'total quantities': len(real_identification)\n",
    "            }\n",
    "    \n",
    "    try:\n",
    "        gpt_f_score = 2*gpt_precision*gpt_recall/(gpt_precision+gpt_recall)\n",
    "    except ZeroDivisionError:\n",
    "        gpt_f_score = 0\n",
    "        \n",
    "    gpt_f_summary.loc[paper_id] = {\n",
    "        'precision': gpt_precision, \n",
    "        'recall':gpt_recall, \n",
    "        'f-score':gpt_f_score,\n",
    "        'false positives': len(gpt_identification-real_identification),\n",
    "        'true positives': len(gpt_true_positive),\n",
    "        'false negatives': len(real_identification-gpt_identification),\n",
    "        'total quantities': len(real_identification)\n",
    "        }\n",
    "\n",
    "    ## Calculating total number of specified amounts\n",
    "\n",
    "    raw_specified_quantities = {\n",
    "    x:(y is not np.nan) for x in real_identification for y in manual_parse.initial_bill_of_materials[manual_parse.initial_bill_of_materials['pubchem_id']==x]['moles'].tolist()\n",
    "    }\n",
    "    raw_specified_quantities = set([x for x,y in raw_specified_quantities.items() if y is not np.nan])\n",
    "\n",
    "\n",
    "    tdm_specified_quantities = {\n",
    "    x:(y is not np.nan) for x in chemtagger_true_positive for y in tdm_parse.initial_bill_of_materials[tdm_parse.initial_bill_of_materials['pubchem_id']==x]['moles'].tolist()\n",
    "    }\n",
    "    tdm_specified_quantities = set([x for x,y in tdm_specified_quantities.items() if y is not np.nan])\n",
    "\n",
    "\n",
    "    gpt_specified_quantities = {\n",
    "    x:(y is not np.nan) for x in gpt_true_positive for y in gpt_bom.initial_bill_of_materials[gpt_bom.initial_bill_of_materials['pubchem_id']==x]['moles'].tolist()\n",
    "    }\n",
    "    gpt_specified_quantities = set([x for x,y in gpt_specified_quantities.items() if y is not np.nan])\n",
    "\n",
    "\n",
    "    ## Calculating matched values (Chemtagger)\n",
    "\n",
    "    chemtagger_n_correct_values = 0\n",
    "\n",
    "\n",
    "    for x in tdm_specified_quantities.intersection(raw_specified_quantities):\n",
    "\n",
    "        manual_value = manual_parse.initial_bill_of_materials[manual_parse.initial_bill_of_materials['pubchem_id']==x].loc[:,'moles'].sum()\n",
    "        tdm_value = tdm_parse.initial_bill_of_materials.loc[tdm_parse.initial_bill_of_materials['pubchem_id']==x].loc[:,'moles'].sum()\n",
    "\n",
    "        if np.isclose(manual_value, tdm_value, rtol = 0.01) and manual_value is not np.nan:\n",
    "            chemtagger_n_correct_values +=1\n",
    "    \n",
    "    \n",
    "    if len(tdm_specified_quantities) >0:\n",
    "        chemtagger_value_precision = chemtagger_n_correct_values/len(tdm_specified_quantities)\n",
    "    else:\n",
    "        chemtagger_value_precision = 0\n",
    "    if len(raw_specified_quantities)>0:\n",
    "        chemtagger_value_recall = chemtagger_n_correct_values/len(raw_specified_quantities)\n",
    "    else:\n",
    "        chemtagger_value_recall = 0\n",
    "        \n",
    "\n",
    "    try:\n",
    "        chemtagger_value_match = chemtagger_n_correct_values/len(tdm_specified_quantities.intersection(raw_specified_quantities))\n",
    "    except ZeroDivisionError:\n",
    "        chemtagger_value_match = 0\n",
    "    try:\n",
    "        chemtagger_value_f_score = 2*chemtagger_value_precision*chemtagger_value_recall/(chemtagger_value_precision+chemtagger_value_recall)\n",
    "    except ZeroDivisionError:\n",
    "        chemtagger_value_f_score = 0\n",
    "\n",
    "\n",
    "    chemtagger_value_f_summary.loc[paper_id] = {\n",
    "        'precision': chemtagger_value_precision, \n",
    "        'recall':chemtagger_value_recall, \n",
    "        'f-score':chemtagger_value_f_score, \n",
    "        'value_match': chemtagger_value_match,\n",
    "        'false positives': len(tdm_specified_quantities)-chemtagger_n_correct_values,\n",
    "        'true positives': chemtagger_n_correct_values,\n",
    "        'false negatives': len(raw_specified_quantities)-chemtagger_n_correct_values,\n",
    "        'total quantities': len(raw_specified_quantities)\n",
    "        }\n",
    "\n",
    "    ## Calculating matched values (GPT)\n",
    "\n",
    "    gpt_n_correct_values = 0\n",
    "    gpt_n_values = 0\n",
    "    manual_n_values = 0\n",
    "    \n",
    "    for x in gpt_specified_quantities.intersection(raw_specified_quantities):\n",
    "        manual_value = manual_parse.initial_bill_of_materials[manual_parse.initial_bill_of_materials['pubchem_id']==x].loc[:,'moles'].sum()\n",
    "        gpt_value = gpt_bom.initial_bill_of_materials.loc[gpt_bom.initial_bill_of_materials['pubchem_id']==x].loc[:,'moles'].sum()\n",
    "\n",
    "        if np.isclose(manual_value, gpt_value, rtol = 0.01) and manual_value is not np.nan:\n",
    "            gpt_n_correct_values +=1\n",
    "\n",
    "    \n",
    "    if len(gpt_specified_quantities)>0:\n",
    "        gpt_value_precision = gpt_n_correct_values/len(gpt_specified_quantities)\n",
    "    else:\n",
    "        gpt_value_precision =0\n",
    "\n",
    "    if len(raw_specified_quantities)>0:\n",
    "        gpt_value_recall = gpt_n_correct_values/len(raw_specified_quantities)\n",
    "    else:\n",
    "        gpt_value_recall =0     \n",
    "\n",
    "\n",
    "    try:\n",
    "        gpt_value_match = gpt_n_correct_values/len(gpt_true_positive)\n",
    "    except ZeroDivisionError:\n",
    "        gpt_value_match = 0\n",
    "    try:\n",
    "        gpt_value_f_score = 2*gpt_value_precision*gpt_value_recall/(gpt_value_precision+gpt_value_recall)\n",
    "    except ZeroDivisionError:\n",
    "        gpt_value_f_score = 0\n",
    "\n",
    "\n",
    "    gpt_value_f_summary.loc[paper_id] = {\n",
    "        'precision': gpt_value_precision, \n",
    "        'recall':gpt_value_recall, \n",
    "        'f-score':gpt_value_f_score, \n",
    "        'value_match': gpt_value_match,\n",
    "        'false positives': len(gpt_specified_quantities)-gpt_n_correct_values,\n",
    "        'true positives': gpt_n_correct_values,\n",
    "        'false negatives': len(raw_specified_quantities)-gpt_n_correct_values,\n",
    "        'total quantities': len(raw_specified_quantities)\n",
    "\n",
    "        }\n",
    "\n"
   ]
  },
  {
   "cell_type": "markdown",
   "metadata": {},
   "source": [
    "## Chemical entity recognition"
   ]
  },
  {
   "cell_type": "code",
   "execution_count": 22,
   "metadata": {
    "ExecuteTime": {
     "end_time": "2022-09-05T11:35:21.538899Z",
     "start_time": "2022-09-05T11:35:19.368183Z"
    }
   },
   "outputs": [
    {
     "data": {
      "image/png": "[encoded data removed]",
      "text/plain": [
       "<Figure size 432x288 with 1 Axes>"
      ]
     },
     "metadata": {
      "needs_background": "light"
     },
     "output_type": "display_data"
    },
    {
     "name": "stdout",
     "output_type": "stream",
     "text": [
      "Chemical identification precision:\n",
      "---------------------------------------\n",
      "Chemtagger average:  82.4 % +/-  19.7 %\n",
      "GPT average:         85.5 % +/-  19.6 %\n"
     ]
    }
   ],
   "source": [
    "import matplotlib.pyplot as plt\n",
    "import seaborn as sns\n",
    "fig, ax = plt.subplots()\n",
    "bins = np.linspace(0,1,11)\n",
    "sns.histplot(\n",
    "    { 'ChatGPT':  gpt_f_summary['precision'], 'ChemTagger':chemtagger_f_summary['precision'],}, \n",
    "    ax=ax, \n",
    "    bins=bins, \n",
    "    multiple='dodge', \n",
    "    shrink=0.8\n",
    "    )\n",
    "\n",
    "legend = ax.get_legend()\n",
    "handles = legend.legend_handles\n",
    "legend.remove()\n",
    "ax.set_xlabel('Chemical identification precision', fontsize=16)\n",
    "ax.set_ylabel('Frequency (# papers)', fontsize=16)\n",
    "ax.legend(handles, ['ChatGPT', 'ChemicalTagger'], loc=9)\n",
    "ax.annotate('A', (0,19),fontsize=20)\n",
    "ax.tick_params(labelsize=14)\n",
    "plt.show()\n",
    "print('Chemical identification precision:\\n---------------------------------------')\n",
    "print(f\"Chemtagger average: {round(100*chemtagger_f_summary['precision'].mean(),1):>5} % +/- {round(100*chemtagger_f_summary['precision'].std(),1):>5} %\")\n",
    "print(f\"GPT average: {round(100*gpt_f_summary['precision'].mean(),1):>12} % +/- {round(100*gpt_f_summary['precision'].std(),1):>5} %\")"
   ]
  },
  {
   "cell_type": "code",
   "execution_count": 23,
   "metadata": {},
   "outputs": [
    {
     "data": {
      "image/png": "[encoded data removed]",
      "text/plain": [
       "<Figure size 432x288 with 1 Axes>"
      ]
     },
     "metadata": {
      "needs_background": "light"
     },
     "output_type": "display_data"
    },
    {
     "name": "stdout",
     "output_type": "stream",
     "text": [
      "Chemical identification recall:\n",
      "---------------------------------------\n",
      "Chemtagger average:  95.5 % +/-  11.3 %\n",
      "GPT average:         92.3 % +/-  20.9 %\n"
     ]
    }
   ],
   "source": [
    "fig, ax = plt.subplots()\n",
    "bins = np.linspace(0,1,11)\n",
    "sns.histplot(\n",
    "    { 'ChatGPT':  gpt_f_summary['recall'], 'ChemTagger':chemtagger_f_summary['recall'],}, \n",
    "    ax=ax, \n",
    "    bins=bins, \n",
    "    multiple='dodge', \n",
    "    shrink=0.8\n",
    "    )\n",
    "\n",
    "legend = ax.get_legend()\n",
    "handles = legend.legend_handles\n",
    "legend.remove()\n",
    "ax.set_xlabel('Chemical identification recall', fontsize=16)\n",
    "ax.set_ylabel('Frequency (# papers)', fontsize=16)\n",
    "ax.legend(handles, ['ChatGPT', 'ChemicalTagger'], loc=9)\n",
    "ax.annotate('B', (0,34),fontsize=20)\n",
    "ax.tick_params(labelsize=14)\n",
    "plt.show()\n",
    "print('Chemical identification recall:\\n---------------------------------------')\n",
    "print(f\"Chemtagger average: {round(100*chemtagger_f_summary['recall'].mean(),1):>5} % +/- {round(100*chemtagger_f_summary['recall'].std(),1):>5} %\")\n",
    "print(f\"GPT average: {round(100*gpt_f_summary['recall'].mean(),1):>12} % +/- {round(100*gpt_f_summary['recall'].std(),1):>5} %\")"
   ]
  },
  {
   "cell_type": "code",
   "execution_count": 25,
   "metadata": {},
   "outputs": [
    {
     "data": {
      "image/png": "[encoded data removed]",
      "text/plain": [
       "<Figure size 432x288 with 1 Axes>"
      ]
     },
     "metadata": {
      "needs_background": "light"
     },
     "output_type": "display_data"
    },
    {
     "name": "stdout",
     "output_type": "stream",
     "text": [
      "Chemical identification F1-score:\n",
      "---------------------------------------\n",
      "Chemtagger average:  86.9 % +/-  14.7 %\n",
      "GPT average:         87.0 % +/-  18.1 %\n"
     ]
    }
   ],
   "source": [
    "fig, ax = plt.subplots()\n",
    "bins = np.linspace(0,1,11)\n",
    "sns.histplot(\n",
    "    { 'ChatGPT':  gpt_f_summary['f-score'], 'ChemTagger':chemtagger_f_summary['f-score'],}, \n",
    "    ax=ax, \n",
    "    bins=bins, \n",
    "    multiple='dodge', \n",
    "    shrink=0.8\n",
    "    )\n",
    "\n",
    "legend = ax.get_legend()\n",
    "handles = legend.legend_handles\n",
    "legend.remove()\n",
    "ax.set_xlabel('Chemical identification F1-score', fontsize=16)\n",
    "ax.set_ylabel('Frequency (# papers)', fontsize=16)\n",
    "ax.legend(handles, ['ChatGPT', 'ChemicalTagger'], loc=9)\n",
    "ax.annotate('C', (0,20),fontsize=20)\n",
    "ax.tick_params(labelsize=14)\n",
    "plt.show()\n",
    "print('Chemical identification F1-score:\\n---------------------------------------')\n",
    "print(f\"Chemtagger average: {round(100*chemtagger_f_summary['f-score'].mean(),1):>5} % +/- {round(100*chemtagger_f_summary['f-score'].std(),1):>5} %\")\n",
    "print(f\"GPT average: {round(100*gpt_f_summary['f-score'].mean(),1):>12} % +/- {round(100*gpt_f_summary['f-score'].std(),1):>5} %\")\n"
   ]
  },
  {
   "cell_type": "markdown",
   "metadata": {},
   "source": [
    "## Chemical quantity matching"
   ]
  },
  {
   "cell_type": "code",
   "execution_count": 31,
   "metadata": {},
   "outputs": [
    {
     "data": {
      "image/png": "[encoded data removed]",
      "text/plain": [
       "<Figure size 432x288 with 1 Axes>"
      ]
     },
     "metadata": {
      "needs_background": "light"
     },
     "output_type": "display_data"
    },
    {
     "name": "stdout",
     "output_type": "stream",
     "text": [
      "Chemical quantity matching precision:\n",
      "---------------------------------------\n",
      "Chemtagger average:  84.1 % +/-  22.2 %\n",
      "GPT average:         78.4 % +/-  29.4 %\n"
     ]
    }
   ],
   "source": [
    "import matplotlib.pyplot as plt\n",
    "fig, ax = plt.subplots()\n",
    "bins = np.linspace(0,1,11)\n",
    "sns.histplot(\n",
    "    { 'ChatGPT':  gpt_value_f_summary['precision'], 'ChemTagger':chemtagger_value_f_summary['precision'],}, \n",
    "    ax=ax, \n",
    "    bins=bins, \n",
    "    multiple='dodge', \n",
    "    shrink=0.8\n",
    "    )\n",
    "\n",
    "legend = ax.get_legend()\n",
    "handles = legend.legend_handles\n",
    "legend.remove()\n",
    "ax.set_xlabel('Chemical quantity precision', fontsize=16)\n",
    "ax.set_ylabel('Frequency (# papers)', fontsize=16)\n",
    "ax.legend(handles, ['ChatGPT', 'ChemicalTagger'], loc=9)\n",
    "ax.annotate('A', (0,22.5),fontsize=20)\n",
    "ax.tick_params(labelsize=14)\n",
    "plt.show()\n",
    "print('Chemical quantity matching precision:\\n---------------------------------------')\n",
    "print(f\"Chemtagger average: {round(100*chemtagger_value_f_summary['precision'].mean(),1):>5} % +/- {round(100*chemtagger_value_f_summary['precision'].std(),1):>5} %\")\n",
    "print(f\"GPT average: {round(100*gpt_value_f_summary['precision'].mean(),1):>12} % +/- {round(100*gpt_value_f_summary['precision'].std(),1):>5} %\")"
   ]
  },
  {
   "cell_type": "code",
   "execution_count": 32,
   "metadata": {},
   "outputs": [
    {
     "data": {
      "image/png": "[encoded data removed]",
      "text/plain": [
       "<Figure size 432x288 with 1 Axes>"
      ]
     },
     "metadata": {
      "needs_background": "light"
     },
     "output_type": "display_data"
    },
    {
     "name": "stdout",
     "output_type": "stream",
     "text": [
      "Chemical quantity matching recall:\n",
      "---------------------------------------\n",
      "Chemtagger average:  80.4 % +/-  24.0 %\n",
      "GPT average:         74.3 % +/-  29.7 %\n"
     ]
    }
   ],
   "source": [
    "import matplotlib.pyplot as plt\n",
    "fig, ax = plt.subplots()\n",
    "bins = np.linspace(0,1,11)\n",
    "sns.histplot(\n",
    "    { 'ChatGPT':  gpt_value_f_summary['recall'], 'ChemTagger':chemtagger_value_f_summary['recall'],}, \n",
    "    ax=ax, \n",
    "    bins=bins, \n",
    "    multiple='dodge', \n",
    "    shrink=0.8\n",
    "    )\n",
    "\n",
    "legend = ax.get_legend()\n",
    "handles = legend.legend_handles\n",
    "legend.remove()\n",
    "ax.set_xlabel('Chemical quantity recall', fontsize=16)\n",
    "ax.set_ylabel('Frequency (# papers)', fontsize=16)\n",
    "ax.legend(handles, ['ChatGPT', 'ChemicalTagger'], loc=9)\n",
    "ax.annotate('B', (0,21),fontsize=20)\n",
    "ax.tick_params(labelsize=14)\n",
    "plt.show()\n",
    "print('Chemical quantity matching recall:\\n---------------------------------------')\n",
    "print(f\"Chemtagger average: {round(100*chemtagger_value_f_summary['recall'].mean(),1):>5} % +/- {round(100*chemtagger_value_f_summary['recall'].std(),1):>5} %\")\n",
    "print(f\"GPT average: {round(100*gpt_value_f_summary['recall'].mean(),1):>12} % +/- {round(100*gpt_value_f_summary['recall'].std(),1):>5} %\")"
   ]
  },
  {
   "cell_type": "code",
   "execution_count": 34,
   "metadata": {},
   "outputs": [
    {
     "data": {
      "image/png": "[encoded data removed]",
      "text/plain": [
       "<Figure size 432x288 with 1 Axes>"
      ]
     },
     "metadata": {
      "needs_background": "light"
     },
     "output_type": "display_data"
    },
    {
     "name": "stdout",
     "output_type": "stream",
     "text": [
      "Chemical quantity matching F1-score:\n",
      "---------------------------------------\n",
      "Chemtagger average:  81.8 % +/-  22.8 %\n",
      "GPT average:         75.7 % +/-  29.0 %\n"
     ]
    }
   ],
   "source": [
    "import matplotlib.pyplot as plt\n",
    "fig, ax = plt.subplots()\n",
    "bins = np.linspace(0,1,11)\n",
    "sns.histplot(\n",
    "    { 'ChatGPT':  gpt_value_f_summary['f-score'], 'ChemTagger':chemtagger_value_f_summary['f-score'],}, \n",
    "    ax=ax, \n",
    "    bins=bins, \n",
    "    multiple='dodge', \n",
    "    shrink=0.8\n",
    "    )\n",
    "\n",
    "legend = ax.get_legend()\n",
    "handles = legend.legend_handles\n",
    "legend.remove()\n",
    "ax.set_xlabel('Chemical quantity F1-score', fontsize=16)\n",
    "ax.set_ylabel('Frequency (# papers)', fontsize=16)\n",
    "ax.legend(handles, ['ChatGPT', 'ChemicalTagger'], loc=9)\n",
    "ax.annotate('C', (0,21),fontsize=20)\n",
    "ax.tick_params(labelsize=14)\n",
    "plt.show()\n",
    "print('Chemical quantity matching F1-score:\\n---------------------------------------')\n",
    "print(f\"Chemtagger average: {round(100*chemtagger_value_f_summary['f-score'].mean(),1):>5} % +/- {round(100*chemtagger_value_f_summary['f-score'].std(),1):>5} %\")\n",
    "print(f\"GPT average: {round(100*gpt_value_f_summary['f-score'].mean(),1):>12} % +/- {round(100*gpt_value_f_summary['f-score'].std(),1):>5} %\")"
   ]
  }
 ],
 "metadata": {
  "kernelspec": {
   "display_name": "Python 3",
   "language": "python",
   "name": "python3"
  },
  "language_info": {
   "codemirror_mode": {
    "name": "ipython",
    "version": 3
   },
   "file_extension": ".py",
   "mimetype": "text/x-python",
   "name": "python",
   "nbconvert_exporter": "python",
   "pygments_lexer": "ipython3",
   "version": "3.9.5"
  },
  "toc": {
   "base_numbering": 1,
   "nav_menu": {},
   "number_sections": true,
   "sideBar": true,
   "skip_h1_title": true,
   "title_cell": "Table of Contents",
   "title_sidebar": "Contents",
   "toc_cell": false,
   "toc_position": {},
   "toc_section_display": true,
   "toc_window_display": false
  }
 },
 "nbformat": 4,
 "nbformat_minor": 1
}
