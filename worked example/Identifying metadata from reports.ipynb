{
 "cells": [
  {
   "attachments": {},
   "cell_type": "markdown",
   "metadata": {
    "collapsed": true,
    "pycharm": {
     "name": "#%% md\n"
    }
   },
   "source": [
    "# Building data tables from a corpus of papers\n",
    "\n",
    "Once a synthesis protocol has been parsed into a basic sequence and stored as a `.json` file, we need to convert ll the parsed information into useable formats for further analysis. \n",
    "In this notebook, we will go through all of the data parsing for a single paper to demonstrate the data structures available."
   ]
  },
  {
   "cell_type": "code",
   "execution_count": 1,
   "metadata": {
    "ExecuteTime": {
     "end_time": "2022-12-01T16:19:19.166794Z",
     "start_time": "2022-12-01T16:19:17.560796Z"
    }
   },
   "outputs": [],
   "source": [
    "import os\n",
    "import sys\n",
    "import matplotlib.pyplot as plt\n",
    "\n",
    "try:\n",
    "    from synoracle.sequence import Sequence\n",
    "except ModuleNotFoundError:\n",
    "    module_path = os.path.abspath(os.path.join('..'))\n",
    "    if module_path not in sys.path:\n",
    "        sys.path.append(module_path)\n",
    "    from synoracle.sequence import Sequence"
   ]
  },
  {
   "cell_type": "code",
   "execution_count": 2,
   "metadata": {
    "ExecuteTime": {
     "end_time": "2022-12-01T16:19:25.723254Z",
     "start_time": "2022-12-01T16:19:25.584258Z"
    },
    "pycharm": {
     "name": "#%%\n"
    }
   },
   "outputs": [],
   "source": [
    "from glob import glob\n",
    "from tqdm.notebook import tqdm, trange\n",
    "import numpy as np\n",
    "import pandas as pd\n",
    "from glob import glob\n",
    "pd.options.mode.chained_assignment = None\n",
    "import json\n",
    "def li_iterate(li):\n",
    "    l = iter(li)\n",
    "    for _ in trange(len(li)):\n",
    "        yield next(l)"
   ]
  },
  {
   "attachments": {},
   "cell_type": "markdown",
   "metadata": {},
   "source": [
    "## Importing the sequence data frame into pandas\n",
    "First, we instantiate a `Sequence` object which contains the synthesis steps as a pandas dataframe. It starts as a `raw_synthesis`"
   ]
  },
  {
   "cell_type": "code",
   "execution_count": 3,
   "metadata": {},
   "outputs": [
    {
     "data": {
      "text/plain": [
       "['../../../majed\\\\acsaccounts5b00165.0.json',\n",
       " '../../../majed\\\\anie200504114.100.json',\n",
       " '../../../majed\\\\B206698J.13.json',\n",
       " '../../../majed\\\\B306504A.8.json',\n",
       " '../../../majed\\\\B810295C.12.json',\n",
       " '../../../majed\\\\B915273C.21.json',\n",
       " '../../../majed\\\\cm049398e.85.json',\n",
       " '../../../majed\\\\cm8012733.89.json',\n",
       " '../../../majed\\\\cm801411y.70.json',\n",
       " '../../../majed\\\\cm801411y.71.json',\n",
       " '../../../majed\\\\cm801411y.72.json',\n",
       " '../../../majed\\\\es000990o.67.json',\n",
       " '../../../majed\\\\es000990o.68.json',\n",
       " '../../../majed\\\\ie0705047.65.json',\n",
       " '../../../majed\\\\ja0559911.70.json',\n",
       " '../../../majed\\\\ja974025i.78.json',\n",
       " '../../../majed\\\\ja974025i.79.json',\n",
       " '../../../majed\\\\jctbv9612.142.json',\n",
       " '../../../majed\\\\jjcis201309023.54.json',\n",
       " '../../../majed\\\\jp014280w.77.json',\n",
       " '../../../majed\\\\jp021964a.72.json',\n",
       " '../../../majed\\\\jp044538t.97.json',\n",
       " '../../../majed\\\\la035834k.json',\n",
       " '../../../majed\\\\la902239m.63.json',\n",
       " '../../../majed\\\\nature02529.108.json',\n",
       " '../../../majed\\\\S0009261400013853.30.json',\n",
       " '../../../majed\\\\S0045653505011185.json',\n",
       " '../../../majed\\\\S0169131711000895.40.json',\n",
       " '../../../majed\\\\S0304389408003610.81.json',\n",
       " '../../../majed\\\\S0304389409019554.48.json',\n",
       " '../../../majed\\\\S0304389409019554.49.json',\n",
       " '../../../majed\\\\s1085300936109.30.json',\n",
       " '../../../majed\\\\S1387181103006966.40.json',\n",
       " '../../../majed\\\\S1566736702000511.35.json',\n",
       " '../../../majed\\\\S1566736702000511.36.json']"
      ]
     },
     "execution_count": 3,
     "metadata": {},
     "output_type": "execute_result"
    }
   ],
   "source": [
    "sequence_source = glob('../../../majed/*.json')\n",
    "sequence_source"
   ]
  },
  {
   "cell_type": "code",
   "execution_count": 4,
   "metadata": {
    "ExecuteTime": {
     "end_time": "2022-12-01T16:19:26.818144Z",
     "start_time": "2022-12-01T16:19:26.712144Z"
    }
   },
   "outputs": [],
   "source": [
    "sequences = {}\n",
    "all_sequences = pd.DataFrame()\n",
    "for c,x in enumerate(sequence_source):\n",
    "    cq = Sequence.from_json(x)\n",
    "    cq.condense_to_supertypes()\n",
    "\n",
    "    \n",
    "\n",
    "    paper_id = x.rsplit('\\\\',1)[-1].split('.')[0]\n",
    "    paragraph_number = x.rsplit('\\\\',1)[-1].split('.')[1]\n",
    "\n",
    "    working = cq.clean_synthesis\n",
    "    working['synthesis_number'] = c\n",
    "    working['paper_identifier'] = paper_id\n",
    "    working['paragraph_number'] = paragraph_number\n",
    "    \n",
    "    sequences[c] = cq\n",
    "    all_sequences=all_sequences.append(working)\n"
   ]
  },
  {
   "cell_type": "code",
   "execution_count": 16,
   "metadata": {},
   "outputs": [],
   "source": [
    "web_links = [\n",
    "    'https://doi.org/10.1021/acs.accounts.5b00165',\n",
    "    'https://doi.org/10.1002/anie.200504114',\n",
    "    'https://doi.org/10.1039/B206698J',\n",
    "    'https://doi.org/10.1039/B306504A',\n",
    "    'https://doi.org/10.1039/B810295C',\n",
    "    'https://doi.org/10.1039/B915273C',\n",
    "    'https://doi.org/10.1021/cm049398e',\n",
    "    'https://doi.org/10.1021/cm8012733',\n",
    "    'https://doi.org/10.1021/cm801411y',\n",
    "    'https://doi.org/10.1021/cm801411y',\n",
    "    'https://doi.org/10.1021/cm801411y',\n",
    "    'https://doi.org/10.1021/es000990o',\n",
    "    'https://doi.org/10.1021/es000990o',\n",
    "    'https://doi.org/10.1021/ie0705047',\n",
    "    'https://doi.org/10.1021/ja0559911',\n",
    "    'https://doi.org/10.1021/ja974025i',\n",
    "    'https://doi.org/10.1021/ja974025i',\n",
    "    'https://doi.org/10.1002/jctb.6908',\n",
    "    'https://doi.org/10.1016/j.jcis.2013.09.023',\n",
    "    'https://doi.org/10.1021/jp014280w',\n",
    "    'https://doi.org/10.1021/jp021964a',\n",
    "    'https://doi.org/10.1021/jp044538t',\n",
    "    'https://doi.org/10.1021/la035834k',\n",
    "    'https://doi.org/10.1021/la902239m',\n",
    "    'https://doi.org/10.1038/nature02529',\n",
    "    'https://doi.org/10.1016/S0009-2614(00)01385-3',\n",
    "    'https://doi.org/10.1016/j.chemosphere.2005.08.047',\n",
    "    'https://doi.org/10.1016/j.clay.2011.02.024',\n",
    "    'https://doi.org/10.1016/j.jhazmat.2008.03.013',\n",
    "    'https://doi.org/10.1016/j.jhazmat.2009.11.135',\n",
    "    'https://doi.org/10.1016/j.jhazmat.2009.11.135',\n",
    "    'https://doi.org/10.1007/s10853-009-3610-9',\n",
    "    'https://doi.org/10.1016/j.micromeso.2003.12.004',\n",
    "    'https://doi.org/10.1016/S1566-7367(02)00051-1',\n",
    "    'https://doi.org/10.1016/S1566-7367(02)00051-1'\n",
    "        \n",
    "]\n",
    "\n",
    "titles = [\n",
    "    'The Dynamic Association Processes Leading from a Silica Precursor to a Mesoporous SBA-15 Material',\n",
    "    'Synthesis and Characterization of Mesoporous Silica AMS-10 with Bicontinuous Cubic Pn3m Symmetry',\n",
    "    'Phase diagram for mesoporous CTAB–silica films prepared under dynamic conditions',\n",
    "    'Cubic Ia3d large mesoporous silica: synthesis and replication to platinum nanowires, carbon nanorods and carbon nanotubes',\n",
    "    'Synthesis of porous silica with hierarchical structure directed by a silica precursor carrying a pore-generating cage',\n",
    "    'Convenient synthesis of ordered mesoporous silica at room temperature and quasi-neutral pH',\n",
    "    'Structural Solution of Mesocaged Material AMS-8',\n",
    "    'Synthesis of Ultra-Large-Pore SBA-15 Silica with Two-Dimensional Hexagonal Structure Using Triisopropylbenzene As Micelle Expander',\n",
    "    'Porous Silica Nanocapsules and Nanospheres: Dynamic Self-Assembly Synthesis and Application in Controlled Release',\n",
    "    'Porous Silica Nanocapsules and Nanospheres: Dynamic Self-Assembly Synthesis and Application in Controlled Release',\n",
    "    'Porous Silica Nanocapsules and Nanospheres: Dynamic Self-Assembly Synthesis and Application in Controlled Release',\n",
    "    'Surfactant-Templated Mesoporous Silicate Materials as Sorbents for Organic Pollutants in Water',\n",
    "    'Surfactant-Templated Mesoporous Silicate Materials as Sorbents for Organic Pollutants in Water',\n",
    "    'Separation of Organic Compounds by Spherical Mesoporous Silica Prepared from W/O Microemulsions of Tetrabutoxysilane',\n",
    "    'Resolving Intermediate Solution Structures during the Formation of Mesoporous SBA-15',\n",
    "    'Nonionic Triblock and Star Diblock Copolymer and Oligomeric Surfactant Syntheses of Highly Ordered, Hydrothermally Stable, Mesoporous Silica Structures',\n",
    "    'Nonionic Triblock and Star Diblock Copolymer and Oligomeric Surfactant Syntheses of Highly Ordered, Hydrothermally Stable, Mesoporous Silica Structures',\n",
    "    'Synthesis and formation mechanism analysis of meso-microporous ZSM-5 with controllable mesoporous volume',\n",
    "    'Single-pot synthesis of ordered mesoporous silica films with unique controllable morphology',\n",
    "    'Structural Design of Mesoporous Silica by Micelle-Packing Control Using Blends of Amphiphilic Block Copolymers',\n",
    "    'Study of the Formation of the Mesoporous Material SBA-15 by EPR Spectroscopy',\n",
    "    'Properties of the Silica Layer during the Formation of MCM-41 Studied by EPR of a Silica-Bound Spin Probe',\n",
    "    'Nonionic Fluorinated Surfactant: Investigation of Phase Diagram and Preparation of Ordered Mesoporous Materials',\n",
    "    'Ultrafast Sonochemical Synthesis of Methane and Ethane Bridged Periodic Mesoporous Organosilicas',\n",
    "    'Synthesis and characterization of chiral mesoporous silica',\n",
    "    'A novel morphology of mesoporous molecular sieve MCM-41',\n",
    "    'Effective uptake of decontaminating agent (citric acid) from aqueous solution by mesoporous and microporous materials: An adsorption process',\n",
    "    'Organosilicas and organo-clay minerals as sorbents for toluene',\n",
    "    'Adsorption of phenol and o-chlorophenol by mesoporous MCM-41',\n",
    "    'Fast and efficient mesoporous adsorbents for the separation of toxic compounds from aqueous media',\n",
    "    'Fast and efficient mesoporous adsorbents for the separation of toxic compounds from aqueous media',\n",
    "    'Morphological control on SBA-15 mesoporous silicas via a slow self-assembling rate',\n",
    "    'Microwave synthesis of cubic mesoporous silica SBA-16',\n",
    "    'Fast and efficient synthesis of ZSM-5 under high pressure',\n",
    "    'Fast and efficient synthesis of ZSM-5 under high pressure'\n",
    "]"
   ]
  },
  {
   "cell_type": "code",
   "execution_count": 23,
   "metadata": {},
   "outputs": [
    {
     "name": "stdout",
     "output_type": "stream",
     "text": [
      "{'synthesis_number': 0, 'paper_identifier': 'acsaccounts5b00165', 'title': 'The Dynamic Association Processes Leading from a Silica Precursor to a Mesoporous SBA-15 Material', 'link': 'https://doi.org/10.1021/acs.accounts.5b00165'}\n",
      "{'synthesis_number': 1, 'paper_identifier': 'anie200504114', 'title': 'Synthesis and Characterization of Mesoporous Silica AMS-10 with Bicontinuous Cubic Pn3m Symmetry', 'link': 'https://doi.org/10.1002/anie.200504114'}\n",
      "{'synthesis_number': 2, 'paper_identifier': 'B206698J', 'title': 'Phase diagram for mesoporous CTAB–silica films prepared under dynamic conditions', 'link': 'https://doi.org/10.1039/B206698J'}\n",
      "{'synthesis_number': 3, 'paper_identifier': 'B306504A', 'title': 'Cubic Ia3d large mesoporous silica: synthesis and replication to platinum nanowires, carbon nanorods and carbon nanotubes', 'link': 'https://doi.org/10.1039/B306504A'}\n",
      "{'synthesis_number': 4, 'paper_identifier': 'B810295C', 'title': 'Synthesis of porous silica with hierarchical structure directed by a silica precursor carrying a pore-generating cage', 'link': 'https://doi.org/10.1039/B810295C'}\n",
      "{'synthesis_number': 5, 'paper_identifier': 'B915273C', 'title': 'Convenient synthesis of ordered mesoporous silica at room temperature and quasi-neutral pH', 'link': 'https://doi.org/10.1039/B915273C'}\n",
      "{'synthesis_number': 6, 'paper_identifier': 'cm049398e', 'title': 'Structural Solution of Mesocaged Material AMS-8', 'link': 'https://doi.org/10.1021/cm049398e'}\n",
      "{'synthesis_number': 7, 'paper_identifier': 'cm8012733', 'title': 'Synthesis of Ultra-Large-Pore SBA-15 Silica with Two-Dimensional Hexagonal Structure Using Triisopropylbenzene As Micelle Expander', 'link': 'https://doi.org/10.1021/cm8012733'}\n",
      "{'synthesis_number': 8, 'paper_identifier': 'cm801411y', 'title': 'Porous Silica Nanocapsules and Nanospheres: Dynamic Self-Assembly Synthesis and Application in Controlled Release', 'link': 'https://doi.org/10.1021/cm801411y'}\n",
      "{'synthesis_number': 9, 'paper_identifier': 'cm801411y', 'title': 'Porous Silica Nanocapsules and Nanospheres: Dynamic Self-Assembly Synthesis and Application in Controlled Release', 'link': 'https://doi.org/10.1021/cm801411y'}\n",
      "{'synthesis_number': 10, 'paper_identifier': 'cm801411y', 'title': 'Porous Silica Nanocapsules and Nanospheres: Dynamic Self-Assembly Synthesis and Application in Controlled Release', 'link': 'https://doi.org/10.1021/cm801411y'}\n",
      "{'synthesis_number': 11, 'paper_identifier': 'es000990o', 'title': 'Surfactant-Templated Mesoporous Silicate Materials as Sorbents for Organic Pollutants in Water', 'link': 'https://doi.org/10.1021/es000990o'}\n",
      "{'synthesis_number': 12, 'paper_identifier': 'es000990o', 'title': 'Surfactant-Templated Mesoporous Silicate Materials as Sorbents for Organic Pollutants in Water', 'link': 'https://doi.org/10.1021/es000990o'}\n",
      "{'synthesis_number': 13, 'paper_identifier': 'ie0705047', 'title': 'Separation of Organic Compounds by Spherical Mesoporous Silica Prepared from W/O Microemulsions of Tetrabutoxysilane', 'link': 'https://doi.org/10.1021/ie0705047'}\n",
      "{'synthesis_number': 14, 'paper_identifier': 'ja0559911', 'title': 'Resolving Intermediate Solution Structures during the Formation of Mesoporous SBA-15', 'link': 'https://doi.org/10.1021/ja0559911'}\n",
      "{'synthesis_number': 15, 'paper_identifier': 'ja974025i', 'title': 'Nonionic Triblock and Star Diblock Copolymer and Oligomeric Surfactant Syntheses of Highly Ordered, Hydrothermally Stable, Mesoporous Silica Structures', 'link': 'https://doi.org/10.1021/ja974025i'}\n",
      "{'synthesis_number': 16, 'paper_identifier': 'ja974025i', 'title': 'Nonionic Triblock and Star Diblock Copolymer and Oligomeric Surfactant Syntheses of Highly Ordered, Hydrothermally Stable, Mesoporous Silica Structures', 'link': 'https://doi.org/10.1021/ja974025i'}\n",
      "{'synthesis_number': 17, 'paper_identifier': 'jctbv9612', 'title': 'Synthesis and formation mechanism analysis of meso-microporous ZSM-5 with controllable mesoporous volume', 'link': 'https://doi.org/10.1002/jctb.6908'}\n",
      "{'synthesis_number': 18, 'paper_identifier': 'jjcis201309023', 'title': 'Single-pot synthesis of ordered mesoporous silica films with unique controllable morphology', 'link': 'https://doi.org/10.1016/j.jcis.2013.09.023'}\n",
      "{'synthesis_number': 19, 'paper_identifier': 'jp014280w', 'title': 'Structural Design of Mesoporous Silica by Micelle-Packing Control Using Blends of Amphiphilic Block Copolymers', 'link': 'https://doi.org/10.1021/jp014280w'}\n",
      "{'synthesis_number': 20, 'paper_identifier': 'jp021964a', 'title': 'Study of the Formation of the Mesoporous Material SBA-15 by EPR Spectroscopy', 'link': 'https://doi.org/10.1021/jp021964a'}\n",
      "{'synthesis_number': 21, 'paper_identifier': 'jp044538t', 'title': 'Properties of the Silica Layer during the Formation of MCM-41 Studied by EPR of a Silica-Bound Spin Probe', 'link': 'https://doi.org/10.1021/jp044538t'}\n",
      "{'synthesis_number': 22, 'paper_identifier': 'la035834k', 'title': 'Nonionic Fluorinated Surfactant: Investigation of Phase Diagram and Preparation of Ordered Mesoporous Materials', 'link': 'https://doi.org/10.1021/la035834k'}\n",
      "{'synthesis_number': 23, 'paper_identifier': 'la902239m', 'title': 'Ultrafast Sonochemical Synthesis of Methane and Ethane Bridged Periodic Mesoporous Organosilicas', 'link': 'https://doi.org/10.1021/la902239m'}\n",
      "{'synthesis_number': 24, 'paper_identifier': 'nature02529', 'title': 'Synthesis and characterization of chiral mesoporous silica', 'link': 'https://doi.org/10.1038/nature02529'}\n",
      "{'synthesis_number': 25, 'paper_identifier': 'S0009261400013853', 'title': 'A novel morphology of mesoporous molecular sieve MCM-41', 'link': 'https://doi.org/10.1016/S0009-2614(00)01385-3'}\n",
      "{'synthesis_number': 26, 'paper_identifier': 'S0045653505011185', 'title': 'Effective uptake of decontaminating agent (citric acid) from aqueous solution by mesoporous and microporous materials: An adsorption process', 'link': 'https://doi.org/10.1016/j.chemosphere.2005.08.047'}\n",
      "{'synthesis_number': 27, 'paper_identifier': 'S0169131711000895', 'title': 'Organosilicas and organo-clay minerals as sorbents for toluene', 'link': 'https://doi.org/10.1016/j.clay.2011.02.024'}\n",
      "{'synthesis_number': 28, 'paper_identifier': 'S0304389408003610', 'title': 'Adsorption of phenol and o-chlorophenol by mesoporous MCM-41', 'link': 'https://doi.org/10.1016/j.jhazmat.2008.03.013'}\n",
      "{'synthesis_number': 29, 'paper_identifier': 'S0304389409019554', 'title': 'Fast and efficient mesoporous adsorbents for the separation of toxic compounds from aqueous media', 'link': 'https://doi.org/10.1016/j.jhazmat.2009.11.135'}\n",
      "{'synthesis_number': 30, 'paper_identifier': 'S0304389409019554', 'title': 'Fast and efficient mesoporous adsorbents for the separation of toxic compounds from aqueous media', 'link': 'https://doi.org/10.1016/j.jhazmat.2009.11.135'}\n",
      "{'synthesis_number': 31, 'paper_identifier': 's1085300936109', 'title': 'Morphological control on SBA-15 mesoporous silicas via a slow self-assembling rate', 'link': 'https://doi.org/10.1007/s10853-009-3610-9'}\n",
      "{'synthesis_number': 32, 'paper_identifier': 'S1387181103006966', 'title': 'Microwave synthesis of cubic mesoporous silica SBA-16', 'link': 'https://doi.org/10.1016/j.micromeso.2003.12.004'}\n",
      "{'synthesis_number': 33, 'paper_identifier': 'S1566736702000511', 'title': 'Fast and efficient synthesis of ZSM-5 under high pressure', 'link': 'https://doi.org/10.1016/S1566-7367(02)00051-1'}\n",
      "{'synthesis_number': 34, 'paper_identifier': 'S1566736702000511', 'title': 'Fast and efficient synthesis of ZSM-5 under high pressure', 'link': 'https://doi.org/10.1016/S1566-7367(02)00051-1'}\n"
     ]
    }
   ],
   "source": [
    "paper_metadata = pd.DataFrame(columns = ['synthesis_number', 'paper_identifier', 'title', 'link'])\n",
    "for counter, (link, title, (c,v)) in enumerate(zip(web_links, titles, sequences.items())):\n",
    "\n",
    "    entry = {\n",
    "        'synthesis_number': c,\n",
    "        'paper_identifier': v.clean_synthesis['paper_identifier'].unique()[0],\n",
    "        'title': title,\n",
    "        'link': link\n",
    "    }\n",
    "    paper_metadata.loc[counter] = entry\n",
    "    print(entry)\n"
   ]
  },
  {
   "cell_type": "code",
   "execution_count": 25,
   "metadata": {},
   "outputs": [],
   "source": [
    "paper_metadata.to_csv('paper_metadata.csv')"
   ]
  },
  {
   "cell_type": "code",
   "execution_count": 33,
   "metadata": {},
   "outputs": [],
   "source": [
    "all_sequences.to_csv('sequence_information.csv')"
   ]
  },
  {
   "attachments": {},
   "cell_type": "markdown",
   "metadata": {},
   "source": [
    "### Pulling out chemical information\n",
    "The first thing we'll do is extract information about the chemicals involved in the synthesis procedure. \n",
    "We'll start by building a `chemical_list` of the mentioned materials with quanities sorted by type (mass, volume, concentration, moles (other_amount))."
   ]
  },
  {
   "cell_type": "code",
   "execution_count": 28,
   "metadata": {
    "ExecuteTime": {
     "end_time": "2022-12-01T16:19:28.210384Z",
     "start_time": "2022-12-01T16:19:28.183384Z"
    }
   },
   "outputs": [
    {
     "name": "stderr",
     "output_type": "stream",
     "text": [
      "WARNING:root:No identity cache file specified!\n"
     ]
    },
    {
     "name": "stdout",
     "output_type": "stream",
     "text": [
      "acsaccounts5b00165\n",
      "0\n"
     ]
    },
    {
     "name": "stderr",
     "output_type": "stream",
     "text": [
      "WARNING:root:Following chemical is unidentified:\n",
      " SBA-15\n",
      "WARNING:root:No identity cache file specified!\n",
      "WARNING:root:No property cache specified!\n",
      "WARNING:root:No identity cache file specified!\n",
      "WARNING:root:No property cache specified!\n",
      "WARNING:root:No identity cache file specified!\n",
      "WARNING:root:No property cache specified!\n",
      "WARNING:root:No identity cache file specified!\n"
     ]
    },
    {
     "name": "stdout",
     "output_type": "stream",
     "text": [
      "anie200504114\n",
      "100\n"
     ]
    },
    {
     "name": "stderr",
     "output_type": "stream",
     "text": [
      "WARNING:root:Following chemical is unidentified:\n",
      " AMS-10\n",
      "WARNING:root:No identity cache file specified!\n",
      "WARNING:root:Following chemical is unidentified:\n",
      " C14GluA\n",
      "WARNING:root:No identity cache file specified!\n",
      "WARNING:root:Following chemical is unidentified:\n",
      " C14GluA / TMAPS / TEOS / H2O / NaOH\n",
      "WARNING:root:No identity cache file specified!\n",
      "WARNING:root:No property cache specified!\n",
      "ERROR:root:Error encountered converting raw info to pint unit:\n",
      "----------------------\n",
      "ERROR:root:amount in question: name                  HCl\n",
      "mass                  NaN\n",
      "other_amount          NaN\n",
      "percent         [37 wt %]\n",
      "Units used      [percent]\n",
      "Name: 3, dtype: object\n",
      "WARNING:root:No identity cache file specified!\n",
      "WARNING:root:No property cache specified!\n",
      "WARNING:root:No identity cache file specified!\n",
      "WARNING:root:No property cache specified!\n",
      "WARNING:root:No identity cache file specified!\n",
      "WARNING:root:No property cache specified!\n",
      "WARNING:root:No identity cache file specified!\n",
      "WARNING:root:Following chemical is unidentified:\n",
      " hydrolyze\n",
      "WARNING:root:No identity cache file specified!\n",
      "WARNING:root:No property cache specified!\n",
      "WARNING:root:No identity cache file specified!\n",
      "WARNING:root:No property cache specified!\n",
      "WARNING:root:No identity cache file specified!\n",
      "WARNING:root:No property cache specified!\n",
      "WARNING:root:No identity cache file specified!\n",
      "WARNING:root:No property cache specified!\n",
      "WARNING:root:No identity cache file specified!\n"
     ]
    },
    {
     "name": "stdout",
     "output_type": "stream",
     "text": [
      "B206698J\n",
      "13\n"
     ]
    },
    {
     "name": "stderr",
     "output_type": "stream",
     "text": [
      "WARNING:root:No property cache specified!\n",
      "WARNING:root:No identity cache file specified!\n",
      "WARNING:root:Following chemical is unidentified:\n",
      " CTAB / Si\n",
      "WARNING:root:No identity cache file specified!\n",
      "WARNING:root:No property cache specified!\n",
      "WARNING:root:No identity cache file specified!\n",
      "WARNING:root:No property cache specified!\n",
      "WARNING:root:No identity cache file specified!\n",
      "WARNING:root:No property cache specified!\n",
      "WARNING:root:No identity cache file specified!\n",
      "WARNING:root:No property cache specified!\n",
      "WARNING:root:No identity cache file specified!\n",
      "WARNING:root:No property cache specified!\n",
      "WARNING:root:No identity cache file specified!\n"
     ]
    },
    {
     "name": "stdout",
     "output_type": "stream",
     "text": [
      "B306504A\n",
      "8\n"
     ]
    },
    {
     "name": "stderr",
     "output_type": "stream",
     "text": [
      "WARNING:root:No property cache specified!\n",
      "WARNING:root:No identity cache file specified!\n",
      "WARNING:root:No property cache specified!\n",
      "WARNING:root:No identity cache file specified!\n",
      "WARNING:root:Following chemical is unidentified:\n",
      " P123\n",
      "WARNING:root:No identity cache file specified!\n",
      "WARNING:root:No property cache specified!\n",
      "WARNING:root:No identity cache file specified!\n",
      "WARNING:root:No property cache specified!\n",
      "WARNING:root:No identity cache file specified!\n",
      "WARNING:root:No property cache specified!\n",
      "WARNING:root:No identity cache file specified!\n",
      "WARNING:root:Following chemical is unidentified:\n",
      " polypropylene\n",
      "WARNING:root:No identity cache file specified!\n",
      "WARNING:root:No property cache specified!\n",
      "WARNING:root:No identity cache file specified!\n"
     ]
    },
    {
     "name": "stdout",
     "output_type": "stream",
     "text": [
      "B810295C\n",
      "12\n"
     ]
    },
    {
     "name": "stderr",
     "output_type": "stream",
     "text": [
      "WARNING:root:Following chemical is unidentified:\n",
      " 3-[(4-adamantan-1-yl-phenoxy)propyl]trimethoxysilane\n",
      "WARNING:root:No identity cache file specified!\n",
      "WARNING:root:No property cache specified!\n",
      "WARNING:root:No identity cache file specified!\n",
      "WARNING:root:No property cache specified!\n",
      "WARNING:root:No identity cache file specified!\n",
      "WARNING:root:Following chemical is unidentified:\n",
      " P123\n",
      "WARNING:root:No identity cache file specified!\n",
      "WARNING:root:No property cache specified!\n",
      "WARNING:root:No identity cache file specified!\n",
      "WARNING:root:Following chemical is unidentified:\n",
      " SBA-15\n",
      "WARNING:root:No identity cache file specified!\n",
      "WARNING:root:Multiple possible compounds for SQ identified:\n",
      "[Compound(7016082), Compound(21285386)]\n",
      "WARNING:root:No property cache specified!\n",
      "WARNING:root:No identity cache file specified!\n",
      "WARNING:root:No property cache specified!\n",
      "WARNING:root:No identity cache file specified!\n",
      "WARNING:root:No property cache specified!\n",
      "WARNING:root:No identity cache file specified!\n",
      "WARNING:root:No property cache specified!\n",
      "WARNING:root:No identity cache file specified!\n",
      "WARNING:root:Following chemical is unidentified:\n",
      " silsesquioxane\n",
      "WARNING:root:No identity cache file specified!\n",
      "WARNING:root:No property cache specified!\n",
      "WARNING:root:No identity cache file specified!\n"
     ]
    },
    {
     "name": "stdout",
     "output_type": "stream",
     "text": [
      "B915273C\n",
      "21\n"
     ]
    },
    {
     "name": "stderr",
     "output_type": "stream",
     "text": [
      "WARNING:root:No property cache specified!\n",
      "WARNING:root:No identity cache file specified!\n",
      "WARNING:root:Following chemical is unidentified:\n",
      " P123\n",
      "WARNING:root:No identity cache file specified!\n",
      "WARNING:root:No property cache specified!\n",
      "WARNING:root:No identity cache file specified!\n",
      "WARNING:root:No property cache specified!\n",
      "WARNING:root:No identity cache file specified!\n",
      "WARNING:root:No property cache specified!\n",
      "WARNING:root:No identity cache file specified!\n",
      "WARNING:root:No property cache specified!\n",
      "WARNING:root:No identity cache file specified!\n"
     ]
    },
    {
     "name": "stdout",
     "output_type": "stream",
     "text": [
      "cm049398e\n",
      "85\n"
     ]
    },
    {
     "name": "stderr",
     "output_type": "stream",
     "text": [
      "WARNING:root:Following chemical is unidentified:\n",
      " AMS-8\n",
      "WARNING:root:No identity cache file specified!\n",
      "WARNING:root:Following chemical is unidentified:\n",
      " AMS-8 silicate\n",
      "WARNING:root:No identity cache file specified!\n",
      "WARNING:root:No property cache specified!\n",
      "WARNING:root:No identity cache file specified!\n",
      "WARNING:root:No property cache specified!\n",
      "WARNING:root:No identity cache file specified!\n",
      "WARNING:root:No property cache specified!\n",
      "WARNING:root:No identity cache file specified!\n",
      "WARNING:root:Following chemical is unidentified:\n",
      " TEOS : TMAPS : C12Glysine : H2O\n",
      "WARNING:root:No identity cache file specified!\n",
      "WARNING:root:Following chemical is unidentified:\n",
      " TMAPS\n",
      "WARNING:root:No identity cache file specified!\n",
      "WARNING:root:No property cache specified!\n",
      "WARNING:root:No identity cache file specified!\n",
      "WARNING:root:Following chemical is unidentified:\n",
      " silicate\n",
      "WARNING:root:No identity cache file specified!\n",
      "WARNING:root:Following chemical is unidentified:\n",
      " sodium N-lauroyl-l-glysine\n",
      "WARNING:root:No identity cache file specified!\n",
      "WARNING:root:No property cache specified!\n",
      "WARNING:root:No identity cache file specified!\n",
      "WARNING:root:No property cache specified!\n",
      "WARNING:root:No identity cache file specified!\n"
     ]
    },
    {
     "name": "stdout",
     "output_type": "stream",
     "text": [
      "cm8012733\n",
      "89\n"
     ]
    },
    {
     "name": "stderr",
     "output_type": "stream",
     "text": [
      "WARNING:root:Following chemical is unidentified:\n",
      " 0.199x\n",
      "WARNING:root:No identity cache file specified!\n",
      "WARNING:root:No property cache specified!\n",
      "WARNING:root:No identity cache file specified!\n",
      "WARNING:root:Following chemical is unidentified:\n",
      " BASF\n",
      "WARNING:root:No identity cache file specified!\n",
      "WARNING:root:No property cache specified!\n",
      "WARNING:root:No identity cache file specified!\n",
      "WARNING:root:No property cache specified!\n",
      "WARNING:root:No identity cache file specified!\n",
      "WARNING:root:Following chemical is unidentified:\n",
      " P123\n",
      "WARNING:root:No identity cache file specified!\n",
      "WARNING:root:No property cache specified!\n",
      "WARNING:root:No identity cache file specified!\n",
      "WARNING:root:Following chemical is unidentified:\n",
      " SBA-15\n",
      "WARNING:root:No identity cache file specified!\n",
      "WARNING:root:No property cache specified!\n",
      "WARNING:root:No identity cache file specified!\n",
      "WARNING:root:Following chemical is unidentified:\n",
      " TIPB\n",
      "WARNING:root:No identity cache file specified!\n",
      "WARNING:root:Following chemical is unidentified:\n",
      " TIPB : NH4F : HCl : H2O\n",
      "WARNING:root:No identity cache file specified!\n",
      "WARNING:root:No property cache specified!\n",
      "WARNING:root:No identity cache file specified!\n",
      "WARNING:root:No property cache specified!\n",
      "WARNING:root:No identity cache file specified!\n",
      "WARNING:root:No property cache specified!\n",
      "WARNING:root:No identity cache file specified!\n"
     ]
    },
    {
     "name": "stdout",
     "output_type": "stream",
     "text": [
      "cm801411y\n",
      "70\n"
     ]
    },
    {
     "name": "stderr",
     "output_type": "stream",
     "text": [
      "WARNING:root:No property cache specified!\n",
      "WARNING:root:No identity cache file specified!\n",
      "WARNING:root:No property cache specified!\n",
      "WARNING:root:No identity cache file specified!\n",
      "WARNING:root:No property cache specified!\n",
      "WARNING:root:No identity cache file specified!\n",
      "WARNING:root:No property cache specified!\n",
      "WARNING:root:No identity cache file specified!\n",
      "WARNING:root:No property cache specified!\n",
      "WARNING:root:No identity cache file specified!\n",
      "WARNING:root:No property cache specified!\n",
      "ERROR:root:Error encountered converting raw info to pint unit:\n",
      "----------------------\n",
      "ERROR:root:amount in question: name                       ethyl ether\n",
      "mass                               NaN\n",
      "volume        [20-50 mL, 20 mL, 50 mL]\n",
      "percent                            NaN\n",
      "Units used    [volume, volume, volume]\n",
      "Name: 5, dtype: object\n",
      "WARNING:root:No identity cache file specified!\n",
      "WARNING:root:Following chemical is unidentified:\n",
      " porogen\n",
      "WARNING:root:No identity cache file specified!\n",
      "WARNING:root:No property cache specified!\n",
      "WARNING:root:No identity cache file specified!\n",
      "WARNING:root:No property cache specified!\n",
      "WARNING:root:No identity cache file specified!\n"
     ]
    },
    {
     "name": "stdout",
     "output_type": "stream",
     "text": [
      "cm801411y\n",
      "71\n"
     ]
    },
    {
     "name": "stderr",
     "output_type": "stream",
     "text": [
      "WARNING:root:No property cache specified!\n",
      "ERROR:root:Error encountered converting raw info to pint unit:\n",
      "----------------------\n",
      "ERROR:root:amount in question: name                   2-ethoxyethanol\n",
      "mass                               NaN\n",
      "volume        [25-50 mL, 25 mL, 50 mL]\n",
      "percent                            NaN\n",
      "Units used    [volume, volume, volume]\n",
      "Name: 0, dtype: object\n",
      "WARNING:root:No identity cache file specified!\n",
      "WARNING:root:No property cache specified!\n",
      "WARNING:root:No identity cache file specified!\n",
      "WARNING:root:No property cache specified!\n",
      "WARNING:root:No identity cache file specified!\n",
      "WARNING:root:No property cache specified!\n",
      "WARNING:root:No identity cache file specified!\n",
      "WARNING:root:No property cache specified!\n",
      "WARNING:root:No identity cache file specified!\n",
      "WARNING:root:No property cache specified!\n",
      "WARNING:root:No identity cache file specified!\n",
      "WARNING:root:Following chemical is unidentified:\n",
      " porogen\n",
      "WARNING:root:No identity cache file specified!\n",
      "WARNING:root:No property cache specified!\n",
      "WARNING:root:No identity cache file specified!\n",
      "WARNING:root:No property cache specified!\n",
      "WARNING:root:No identity cache file specified!\n"
     ]
    },
    {
     "name": "stdout",
     "output_type": "stream",
     "text": [
      "cm801411y\n",
      "72\n"
     ]
    },
    {
     "name": "stderr",
     "output_type": "stream",
     "text": [
      "WARNING:root:Following chemical is unidentified:\n",
      " ( 28 )\n",
      "WARNING:root:No identity cache file specified!\n",
      "WARNING:root:No property cache specified!\n",
      "WARNING:root:No identity cache file specified!\n",
      "WARNING:root:No property cache specified!\n",
      "WARNING:root:No identity cache file specified!\n",
      "WARNING:root:No property cache specified!\n",
      "WARNING:root:No identity cache file specified!\n",
      "WARNING:root:No property cache specified!\n",
      "WARNING:root:No identity cache file specified!\n",
      "WARNING:root:No property cache specified!\n",
      "WARNING:root:No identity cache file specified!\n",
      "WARNING:root:No property cache specified!\n",
      "WARNING:root:No identity cache file specified!\n",
      "WARNING:root:No property cache specified!\n",
      "WARNING:root:No identity cache file specified!\n",
      "WARNING:root:No property cache specified!\n",
      "ERROR:root:Error encountered converting raw info to pint unit:\n",
      "----------------------\n",
      "ERROR:root:amount in question: name                 unknown\n",
      "mass                [0.05 g]\n",
      "volume          [0.5-1.0 mL]\n",
      "percent                  NaN\n",
      "Units used    [mass, volume]\n",
      "Name: 8, dtype: object\n",
      "WARNING:root:No identity cache file specified!\n",
      "WARNING:root:No property cache specified!\n",
      "WARNING:root:No identity cache file specified!\n"
     ]
    },
    {
     "name": "stdout",
     "output_type": "stream",
     "text": [
      "es000990o\n",
      "67\n"
     ]
    },
    {
     "name": "stderr",
     "output_type": "stream",
     "text": [
      "WARNING:root:Following chemical is unidentified:\n",
      " ( 21 )\n",
      "WARNING:root:No identity cache file specified!\n",
      "WARNING:root:Following chemical is unidentified:\n",
      " AlCl3·6H2O\n",
      "WARNING:root:No identity cache file specified!\n",
      "WARNING:root:Following chemical is unidentified:\n",
      " Aluminosilicate MCM-41\n",
      "WARNING:root:No identity cache file specified!\n",
      "WARNING:root:Following chemical is unidentified:\n",
      " HDTMA\n",
      "WARNING:root:No identity cache file specified!\n",
      "WARNING:root:No property cache specified!\n",
      "WARNING:root:No identity cache file specified!\n",
      "WARNING:root:Following chemical is unidentified:\n",
      " MCM-41(20)\n",
      "WARNING:root:No identity cache file specified!\n",
      "WARNING:root:Following chemical is unidentified:\n",
      " MCM-41(30)\n",
      "WARNING:root:No identity cache file specified!\n",
      "WARNING:root:Following chemical is unidentified:\n",
      " MCM-41(40)\n",
      "WARNING:root:No identity cache file specified!\n",
      "WARNING:root:Following chemical is unidentified:\n",
      " MCM-41(∞)\n",
      "WARNING:root:No identity cache file specified!\n",
      "WARNING:root:No property cache specified!\n",
      "WARNING:root:No identity cache file specified!\n",
      "WARNING:root:No property cache specified!\n",
      "WARNING:root:No identity cache file specified!\n",
      "WARNING:root:Following chemical is unidentified:\n",
      " Si/Al\n",
      "WARNING:root:No identity cache file specified!\n",
      "WARNING:root:No property cache specified!\n",
      "WARNING:root:No identity cache file specified!\n",
      "WARNING:root:Following chemical is unidentified:\n",
      " TMOS : HDTMA : H2O : MeOH\n",
      "WARNING:root:No identity cache file specified!\n",
      "WARNING:root:No property cache specified!\n",
      "WARNING:root:No identity cache file specified!\n",
      "WARNING:root:Following chemical is unidentified:\n",
      " methanol / water\n",
      "WARNING:root:No identity cache file specified!\n",
      "WARNING:root:No property cache specified!\n",
      "WARNING:root:No identity cache file specified!\n"
     ]
    },
    {
     "name": "stdout",
     "output_type": "stream",
     "text": [
      "es000990o\n",
      "68\n"
     ]
    },
    {
     "name": "stderr",
     "output_type": "stream",
     "text": [
      "WARNING:root:No property cache specified!\n",
      "WARNING:root:No identity cache file specified!\n",
      "WARNING:root:Following chemical is unidentified:\n",
      " HDTMA\n",
      "WARNING:root:No identity cache file specified!\n",
      "WARNING:root:Following chemical is unidentified:\n",
      " MCM-41(∞)-IN\n",
      "WARNING:root:No identity cache file specified!\n",
      "WARNING:root:No property cache specified!\n",
      "WARNING:root:No identity cache file specified!\n",
      "WARNING:root:No property cache specified!\n",
      "WARNING:root:No identity cache file specified!\n",
      "WARNING:root:Following chemical is unidentified:\n",
      " SiO2 : HDTMA : H2O\n",
      "WARNING:root:No identity cache file specified!\n",
      "WARNING:root:No property cache specified!\n",
      "WARNING:root:No identity cache file specified!\n",
      "WARNING:root:Following chemical is unidentified:\n",
      " silicate\n",
      "WARNING:root:No identity cache file specified!\n",
      "WARNING:root:No property cache specified!\n",
      "WARNING:root:No identity cache file specified!\n"
     ]
    },
    {
     "name": "stdout",
     "output_type": "stream",
     "text": [
      "ie0705047\n",
      "65\n"
     ]
    },
    {
     "name": "stderr",
     "output_type": "stream",
     "text": [
      "WARNING:root:No property cache specified!\n",
      "WARNING:root:No identity cache file specified!\n",
      "WARNING:root:No property cache specified!\n",
      "WARNING:root:No identity cache file specified!\n",
      "WARNING:root:Following chemical is unidentified:\n",
      " SMS\n",
      "WARNING:root:No identity cache file specified!\n",
      "WARNING:root:Following chemical is unidentified:\n",
      " TBOS\n",
      "WARNING:root:No identity cache file specified!\n",
      "WARNING:root:No property cache specified!\n",
      "ERROR:root:Error encountered converting raw info to pint unit:\n",
      "----------------------\n",
      "ERROR:root:amount in question: name                 water\n",
      "mass                   NaN\n",
      "volume           [250 cm3]\n",
      "concentration          NaN\n",
      "Units used        [volume]\n",
      "Name: 4, dtype: object\n",
      "WARNING:root:No identity cache file specified!\n"
     ]
    },
    {
     "name": "stdout",
     "output_type": "stream",
     "text": [
      "ja0559911\n",
      "70\n"
     ]
    },
    {
     "name": "stderr",
     "output_type": "stream",
     "text": [
      "WARNING:root:No property cache specified!\n",
      "WARNING:root:No identity cache file specified!\n",
      "WARNING:root:No property cache specified!\n",
      "WARNING:root:No identity cache file specified!\n",
      "WARNING:root:No property cache specified!\n",
      "WARNING:root:No identity cache file specified!\n",
      "WARNING:root:Following chemical is unidentified:\n",
      " P123\n",
      "WARNING:root:No identity cache file specified!\n",
      "WARNING:root:Following chemical is unidentified:\n",
      " SBA-15\n",
      "WARNING:root:No identity cache file specified!\n",
      "WARNING:root:No property cache specified!\n",
      "WARNING:root:No identity cache file specified!\n",
      "WARNING:root:No property cache specified!\n",
      "WARNING:root:No identity cache file specified!\n",
      "WARNING:root:No property cache specified!\n",
      "WARNING:root:No identity cache file specified!\n",
      "WARNING:root:No property cache specified!\n",
      "WARNING:root:No identity cache file specified!\n",
      "WARNING:root:No property cache specified!\n",
      "WARNING:root:No identity cache file specified!\n",
      "WARNING:root:No property cache specified!\n",
      "WARNING:root:No identity cache file specified!\n"
     ]
    },
    {
     "name": "stdout",
     "output_type": "stream",
     "text": [
      "ja974025i\n",
      "78\n"
     ]
    },
    {
     "name": "stderr",
     "output_type": "stream",
     "text": [
      "WARNING:root:No property cache specified!\n",
      "WARNING:root:No identity cache file specified!\n",
      "WARNING:root:No property cache specified!\n",
      "WARNING:root:No identity cache file specified!\n",
      "WARNING:root:Following chemical is unidentified:\n",
      " nonionic\n",
      "WARNING:root:No identity cache file specified!\n",
      "WARNING:root:No property cache specified!\n",
      "WARNING:root:No identity cache file specified!\n",
      "WARNING:root:No property cache specified!\n",
      "WARNING:root:No identity cache file specified!\n",
      "WARNING:root:No property cache specified!\n",
      "WARNING:root:No identity cache file specified!\n"
     ]
    },
    {
     "name": "stdout",
     "output_type": "stream",
     "text": [
      "ja974025i\n",
      "79\n"
     ]
    },
    {
     "name": "stderr",
     "output_type": "stream",
     "text": [
      "WARNING:root:No property cache specified!\n",
      "WARNING:root:No identity cache file specified!\n",
      "WARNING:root:No property cache specified!\n",
      "WARNING:root:No identity cache file specified!\n",
      "WARNING:root:Following chemical is unidentified:\n",
      " Silica-block\n",
      "WARNING:root:No identity cache file specified!\n",
      "WARNING:root:No property cache specified!\n",
      "WARNING:root:No identity cache file specified!\n",
      "WARNING:root:No property cache specified!\n",
      "WARNING:root:No identity cache file specified!\n",
      "WARNING:root:No property cache specified!\n",
      "WARNING:root:No identity cache file specified!\n"
     ]
    },
    {
     "name": "stdout",
     "output_type": "stream",
     "text": [
      "jctbv9612\n",
      "142\n"
     ]
    },
    {
     "name": "stderr",
     "output_type": "stream",
     "text": [
      "WARNING:root:Following chemical is unidentified:\n",
      " Al2O3\n",
      "WARNING:root:No identity cache file specified!\n",
      "WARNING:root:No property cache specified!\n",
      "WARNING:root:No identity cache file specified!\n",
      "WARNING:root:Following chemical is unidentified:\n",
      " D-ZSM-5\n",
      "WARNING:root:No identity cache file specified!\n",
      "WARNING:root:No property cache specified!\n",
      "WARNING:root:No identity cache file specified!\n",
      "WARNING:root:No property cache specified!\n",
      "WARNING:root:No identity cache file specified!\n",
      "WARNING:root:Following chemical is unidentified:\n",
      " O-ZSM-5\n",
      "WARNING:root:No identity cache file specified!\n",
      "WARNING:root:Following chemical is unidentified:\n",
      " P-ZSM-5\n",
      "WARNING:root:No identity cache file specified!\n",
      "WARNING:root:Following chemical is unidentified:\n",
      " Si-O-Si\n",
      "WARNING:root:No identity cache file specified!\n",
      "WARNING:root:No property cache specified!\n",
      "WARNING:root:No identity cache file specified!\n",
      "WARNING:root:No property cache specified!\n",
      "WARNING:root:No identity cache file specified!\n",
      "WARNING:root:Following chemical is unidentified:\n",
      " ZSM-5\n",
      "WARNING:root:No identity cache file specified!\n",
      "WARNING:root:No property cache specified!\n",
      "WARNING:root:No identity cache file specified!\n",
      "WARNING:root:Following chemical is unidentified:\n",
      " aluminum isopropanol\n",
      "WARNING:root:No identity cache file specified!\n",
      "WARNING:root:Following chemical is unidentified:\n",
      " dodecyl trimethoxy silane\n",
      "WARNING:root:No identity cache file specified!\n",
      "WARNING:root:Following chemical is unidentified:\n",
      " dodecyl trimethoxy silane zeolite\n",
      "WARNING:root:No identity cache file specified!\n",
      "WARNING:root:Following chemical is unidentified:\n",
      " methoxy silicon\n",
      "WARNING:root:No identity cache file specified!\n",
      "WARNING:root:Following chemical is unidentified:\n",
      " octyl trimethoxy silane\n",
      "WARNING:root:No identity cache file specified!\n",
      "WARNING:root:Following chemical is unidentified:\n",
      " organosilane\n",
      "WARNING:root:No identity cache file specified!\n",
      "WARNING:root:Following chemical is unidentified:\n",
      " propyl trimethoxy silane\n",
      "WARNING:root:No identity cache file specified!\n",
      "WARNING:root:No property cache specified!\n",
      "WARNING:root:No identity cache file specified!\n",
      "WARNING:root:No property cache specified!\n",
      "WARNING:root:No identity cache file specified!\n",
      "WARNING:root:No property cache specified!\n",
      "WARNING:root:No identity cache file specified!\n",
      "WARNING:root:Following chemical is unidentified:\n",
      " x-ZSM-5\n",
      "WARNING:root:No identity cache file specified!\n",
      "WARNING:root:No property cache specified!\n",
      "WARNING:root:No identity cache file specified!\n"
     ]
    },
    {
     "name": "stdout",
     "output_type": "stream",
     "text": [
      "jjcis201309023\n",
      "54\n"
     ]
    },
    {
     "name": "stderr",
     "output_type": "stream",
     "text": [
      "WARNING:root:No property cache specified!\n",
      "WARNING:root:No identity cache file specified!\n",
      "WARNING:root:No property cache specified!\n",
      "WARNING:root:No identity cache file specified!\n",
      "WARNING:root:Following chemical is unidentified:\n",
      " P123\n",
      "WARNING:root:No identity cache file specified!\n",
      "WARNING:root:Following chemical is unidentified:\n",
      " PTFE\n",
      "WARNING:root:No identity cache file specified!\n",
      "WARNING:root:No property cache specified!\n",
      "WARNING:root:No identity cache file specified!\n",
      "WARNING:root:Following chemical is unidentified:\n",
      " [ 29 ]\n",
      "WARNING:root:No identity cache file specified!\n",
      "WARNING:root:No property cache specified!\n",
      "WARNING:root:No identity cache file specified!\n",
      "WARNING:root:No property cache specified!\n",
      "WARNING:root:No identity cache file specified!\n",
      "WARNING:root:No property cache specified!\n",
      "WARNING:root:No identity cache file specified!\n"
     ]
    },
    {
     "name": "stdout",
     "output_type": "stream",
     "text": [
      "jp014280w\n",
      "77\n"
     ]
    },
    {
     "name": "stderr",
     "output_type": "stream",
     "text": [
      "WARNING:root:Following chemical is unidentified:\n",
      " ( x )\n",
      "WARNING:root:No identity cache file specified!\n",
      "WARNING:root:Following chemical is unidentified:\n",
      " C12EO10\n",
      "WARNING:root:No identity cache file specified!\n",
      "WARNING:root:Following chemical is unidentified:\n",
      " C12EO23\n",
      "WARNING:root:No identity cache file specified!\n",
      "WARNING:root:No property cache specified!\n",
      "WARNING:root:No identity cache file specified!\n",
      "WARNING:root:No property cache specified!\n",
      "WARNING:root:No identity cache file specified!\n",
      "WARNING:root:No property cache specified!\n",
      "WARNING:root:No identity cache file specified!\n",
      "WARNING:root:No property cache specified!\n",
      "WARNING:root:No identity cache file specified!\n",
      "WARNING:root:Following chemical is unidentified:\n",
      " EO\n",
      "WARNING:root:No identity cache file specified!\n",
      "WARNING:root:Following chemical is unidentified:\n",
      " EOxPO70EOx\n",
      "WARNING:root:No identity cache file specified!\n",
      "WARNING:root:No property cache specified!\n",
      "WARNING:root:No identity cache file specified!\n",
      "WARNING:root:Following chemical is unidentified:\n",
      " Silica/polymer\n",
      "WARNING:root:No identity cache file specified!\n",
      "WARNING:root:Following chemical is unidentified:\n",
      " c-HCl\n",
      "WARNING:root:No identity cache file specified!\n",
      "WARNING:root:No property cache specified!\n",
      "WARNING:root:No identity cache file specified!\n",
      "WARNING:root:No property cache specified!\n",
      "WARNING:root:No identity cache file specified!\n",
      "WARNING:root:Following chemical is unidentified:\n",
      " ethanol / HCl\n",
      "WARNING:root:No identity cache file specified!\n",
      "WARNING:root:No property cache specified!\n",
      "WARNING:root:No identity cache file specified!\n",
      "WARNING:root:No property cache specified!\n",
      "WARNING:root:No identity cache file specified!\n",
      "WARNING:root:No property cache specified!\n",
      "WARNING:root:No identity cache file specified!\n",
      "WARNING:root:No property cache specified!\n",
      "WARNING:root:No identity cache file specified!\n",
      "WARNING:root:No property cache specified!\n",
      "WARNING:root:No identity cache file specified!\n"
     ]
    },
    {
     "name": "stdout",
     "output_type": "stream",
     "text": [
      "jp021964a\n",
      "72\n"
     ]
    },
    {
     "name": "stderr",
     "output_type": "stream",
     "text": [
      "WARNING:root:No property cache specified!\n",
      "WARNING:root:No identity cache file specified!\n",
      "WARNING:root:No property cache specified!\n",
      "WARNING:root:No identity cache file specified!\n",
      "WARNING:root:Following chemical is unidentified:\n",
      " L62-NO\n",
      "WARNING:root:No identity cache file specified!\n",
      "WARNING:root:No property cache specified!\n",
      "WARNING:root:No identity cache file specified!\n",
      "WARNING:root:Following chemical is unidentified:\n",
      " P123\n",
      "WARNING:root:No identity cache file specified!\n",
      "WARNING:root:Following chemical is unidentified:\n",
      " SBA\n",
      "WARNING:root:No identity cache file specified!\n",
      "WARNING:root:Following chemical is unidentified:\n",
      " SBA-15\n",
      "WARNING:root:No identity cache file specified!\n",
      "WARNING:root:No property cache specified!\n",
      "WARNING:root:No identity cache file specified!\n",
      "WARNING:root:No property cache specified!\n",
      "WARNING:root:No identity cache file specified!\n",
      "WARNING:root:No property cache specified!\n",
      "WARNING:root:No identity cache file specified!\n",
      "WARNING:root:No property cache specified!\n",
      "WARNING:root:No identity cache file specified!\n",
      "WARNING:root:No property cache specified!\n",
      "WARNING:root:No identity cache file specified!\n",
      "WARNING:root:No property cache specified!\n",
      "WARNING:root:No identity cache file specified!\n"
     ]
    },
    {
     "name": "stdout",
     "output_type": "stream",
     "text": [
      "jp044538t\n",
      "97\n"
     ]
    },
    {
     "name": "stderr",
     "output_type": "stream",
     "text": [
      "WARNING:root:Following chemical is unidentified:\n",
      " CA-MCM-41\n",
      "WARNING:root:No identity cache file specified!\n",
      "WARNING:root:No property cache specified!\n",
      "WARNING:root:No identity cache file specified!\n",
      "WARNING:root:No property cache specified!\n",
      "WARNING:root:No identity cache file specified!\n",
      "WARNING:root:Following chemical is unidentified:\n",
      " H2O / MeOH\n",
      "WARNING:root:No identity cache file specified!\n",
      "WARNING:root:Following chemical is unidentified:\n",
      " HCl/2.5\n",
      "WARNING:root:No identity cache file specified!\n",
      "WARNING:root:Following chemical is unidentified:\n",
      " HY-MCM-41\n",
      "WARNING:root:No identity cache file specified!\n",
      "WARNING:root:No property cache specified!\n",
      "WARNING:root:No identity cache file specified!\n",
      "WARNING:root:No property cache specified!\n",
      "WARNING:root:No identity cache file specified!\n",
      "WARNING:root:No property cache specified!\n",
      "WARNING:root:No identity cache file specified!\n",
      "WARNING:root:Following chemical is unidentified:\n",
      " RT-MCM-41\n",
      "WARNING:root:No identity cache file specified!\n",
      "WARNING:root:Following chemical is unidentified:\n",
      " SE-MCM-41\n",
      "WARNING:root:No identity cache file specified!\n",
      "WARNING:root:Following chemical is unidentified:\n",
      " SL1SiEt\n",
      "WARNING:root:No identity cache file specified!\n",
      "WARNING:root:No property cache specified!\n",
      "WARNING:root:No identity cache file specified!\n",
      "WARNING:root:No property cache specified!\n",
      "WARNING:root:No identity cache file specified!\n",
      "WARNING:root:No property cache specified!\n",
      "WARNING:root:No identity cache file specified!\n"
     ]
    },
    {
     "name": "stdout",
     "output_type": "stream",
     "text": [
      "la035834k\n",
      "json\n"
     ]
    },
    {
     "name": "stderr",
     "output_type": "stream",
     "text": [
      "WARNING:root:Following chemical is unidentified:\n",
      " RF8(EO)9\n",
      "WARNING:root:No identity cache file specified!\n",
      "WARNING:root:No property cache specified!\n",
      "WARNING:root:No identity cache file specified!\n",
      "WARNING:root:No property cache specified!\n",
      "WARNING:root:No identity cache file specified!\n",
      "WARNING:root:No property cache specified!\n",
      "WARNING:root:No identity cache file specified!\n",
      "WARNING:root:No property cache specified!\n",
      "WARNING:root:No identity cache file specified!\n",
      "WARNING:root:No property cache specified!\n",
      "WARNING:root:No identity cache file specified!\n",
      "WARNING:root:Following chemical is unidentified:\n",
      " surfactant/silica\n",
      "WARNING:root:No identity cache file specified!\n",
      "WARNING:root:No property cache specified!\n",
      "WARNING:root:No identity cache file specified!\n",
      "WARNING:root:No property cache specified!\n",
      "WARNING:root:No identity cache file specified!\n"
     ]
    },
    {
     "name": "stdout",
     "output_type": "stream",
     "text": [
      "la902239m\n",
      "63\n"
     ]
    },
    {
     "name": "stderr",
     "output_type": "stream",
     "text": [
      "WARNING:root:Following chemical is unidentified:\n",
      " BTSE\n",
      "WARNING:root:No identity cache file specified!\n",
      "WARNING:root:Following chemical is unidentified:\n",
      " BTSM\n",
      "WARNING:root:No identity cache file specified!\n",
      "WARNING:root:Following chemical is unidentified:\n",
      " Et-PMO-i\n",
      "WARNING:root:No identity cache file specified!\n",
      "WARNING:root:No property cache specified!\n",
      "WARNING:root:No identity cache file specified!\n",
      "WARNING:root:Following chemical is unidentified:\n",
      " HTABr\n",
      "WARNING:root:No identity cache file specified!\n",
      "WARNING:root:Following chemical is unidentified:\n",
      " Me-PMO-i\n",
      "WARNING:root:No identity cache file specified!\n",
      "WARNING:root:No property cache specified!\n",
      "WARNING:root:No identity cache file specified!\n",
      "WARNING:root:No property cache specified!\n",
      "WARNING:root:No identity cache file specified!\n",
      "WARNING:root:Following chemical is unidentified:\n",
      " PMOs\n",
      "WARNING:root:No identity cache file specified!\n",
      "WARNING:root:No property cache specified!\n",
      "WARNING:root:No identity cache file specified!\n",
      "WARNING:root:No property cache specified!\n",
      "WARNING:root:No identity cache file specified!\n",
      "WARNING:root:No property cache specified!\n",
      "WARNING:root:No identity cache file specified!\n",
      "WARNING:root:No property cache specified!\n",
      "WARNING:root:No identity cache file specified!\n"
     ]
    },
    {
     "name": "stdout",
     "output_type": "stream",
     "text": [
      "nature02529\n",
      "108\n"
     ]
    },
    {
     "name": "stderr",
     "output_type": "stream",
     "text": [
      "WARNING:root:Following chemical is unidentified:\n",
      " APS\n",
      "WARNING:root:No identity cache file specified!\n",
      "WARNING:root:No property cache specified!\n",
      "WARNING:root:No identity cache file specified!\n",
      "WARNING:root:Following chemical is unidentified:\n",
      " N-miristoyl-l -alanine sodium\n",
      "WARNING:root:No identity cache file specified!\n",
      "WARNING:root:No property cache specified!\n",
      "WARNING:root:No identity cache file specified!\n",
      "WARNING:root:Following chemical is unidentified:\n",
      " TMAPS\n",
      "WARNING:root:No identity cache file specified!\n",
      "WARNING:root:Following chemical is unidentified:\n",
      " amino acid\n",
      "WARNING:root:No identity cache file specified!\n",
      "WARNING:root:No property cache specified!\n",
      "WARNING:root:No identity cache file specified!\n",
      "WARNING:root:No property cache specified!\n",
      "WARNING:root:No identity cache file specified!\n",
      "WARNING:root:No property cache specified!\n",
      "WARNING:root:No identity cache file specified!\n"
     ]
    },
    {
     "name": "stdout",
     "output_type": "stream",
     "text": [
      "S0009261400013853\n",
      "30\n"
     ]
    },
    {
     "name": "stderr",
     "output_type": "stream",
     "text": [
      "WARNING:root:Following chemical is unidentified:\n",
      " CPBr\n",
      "WARNING:root:No identity cache file specified!\n",
      "WARNING:root:No property cache specified!\n",
      "WARNING:root:No identity cache file specified!\n",
      "WARNING:root:No property cache specified!\n",
      "WARNING:root:No identity cache file specified!\n",
      "WARNING:root:No property cache specified!\n",
      "WARNING:root:No identity cache file specified!\n",
      "WARNING:root:Following chemical is unidentified:\n",
      " alkaline\n",
      "WARNING:root:No identity cache file specified!\n",
      "WARNING:root:No property cache specified!\n",
      "WARNING:root:No identity cache file specified!\n",
      "WARNING:root:Following chemical is unidentified:\n",
      " silicate\n",
      "WARNING:root:No identity cache file specified!\n",
      "WARNING:root:No property cache specified!\n",
      "WARNING:root:No identity cache file specified!\n",
      "WARNING:root:Following chemical is unidentified:\n",
      " tetrbutylorthotitanate\n",
      "WARNING:root:No identity cache file specified!\n",
      "WARNING:root:No property cache specified!\n",
      "WARNING:root:No identity cache file specified!\n",
      "WARNING:root:Following chemical is unidentified:\n",
      " titanium-containing MCM-41\n",
      "WARNING:root:No identity cache file specified!\n",
      "WARNING:root:No property cache specified!\n",
      "WARNING:root:No identity cache file specified!\n",
      "WARNING:root:No property cache specified!\n",
      "WARNING:root:No identity cache file specified!\n"
     ]
    },
    {
     "name": "stdout",
     "output_type": "stream",
     "text": [
      "S0045653505011185\n",
      "json\n"
     ]
    },
    {
     "name": "stderr",
     "output_type": "stream",
     "text": [
      "WARNING:root:Following chemical is unidentified:\n",
      " Al-MCM-41\n",
      "WARNING:root:No identity cache file specified!\n",
      "WARNING:root:No property cache specified!\n",
      "WARNING:root:No identity cache file specified!\n",
      "WARNING:root:No property cache specified!\n",
      "WARNING:root:No identity cache file specified!\n",
      "WARNING:root:No property cache specified!\n",
      "WARNING:root:No identity cache file specified!\n",
      "WARNING:root:Following chemical is unidentified:\n",
      " Si-MCM-41\n",
      "WARNING:root:No identity cache file specified!\n",
      "WARNING:root:Following chemical is unidentified:\n",
      " Si/Al\n",
      "WARNING:root:No identity cache file specified!\n",
      "WARNING:root:No property cache specified!\n",
      "WARNING:root:No identity cache file specified!\n",
      "WARNING:root:Following chemical is unidentified:\n",
      " X\n",
      "WARNING:root:No identity cache file specified!\n",
      "WARNING:root:Following chemical is unidentified:\n",
      " X Al2O3\n",
      "WARNING:root:No identity cache file specified!\n",
      "WARNING:root:No property cache specified!\n",
      "WARNING:root:No identity cache file specified!\n",
      "WARNING:root:No property cache specified!\n",
      "WARNING:root:No identity cache file specified!\n",
      "WARNING:root:Following chemical is unidentified:\n",
      " silicate\n",
      "WARNING:root:No identity cache file specified!\n",
      "WARNING:root:Following chemical is unidentified:\n",
      " sodium silicate nanohydrate\n",
      "WARNING:root:No identity cache file specified!\n",
      "WARNING:root:No property cache specified!\n",
      "WARNING:root:No identity cache file specified!\n",
      "WARNING:root:No property cache specified!\n",
      "WARNING:root:No identity cache file specified!\n"
     ]
    },
    {
     "name": "stdout",
     "output_type": "stream",
     "text": [
      "S0169131711000895\n",
      "40\n"
     ]
    },
    {
     "name": "stderr",
     "output_type": "stream",
     "text": [
      "WARNING:root:No property cache specified!\n",
      "WARNING:root:No identity cache file specified!\n",
      "WARNING:root:No property cache specified!\n",
      "WARNING:root:No identity cache file specified!\n",
      "WARNING:root:No property cache specified!\n",
      "WARNING:root:No identity cache file specified!\n",
      "WARNING:root:No property cache specified!\n",
      "WARNING:root:No identity cache file specified!\n",
      "WARNING:root:Following chemical is unidentified:\n",
      " MCM-48\n",
      "WARNING:root:No identity cache file specified!\n",
      "WARNING:root:No property cache specified!\n",
      "WARNING:root:No identity cache file specified!\n",
      "WARNING:root:No property cache specified!\n",
      "WARNING:root:No identity cache file specified!\n",
      "WARNING:root:No property cache specified!\n",
      "WARNING:root:No identity cache file specified!\n",
      "WARNING:root:No property cache specified!\n",
      "WARNING:root:No identity cache file specified!\n",
      "WARNING:root:No property cache specified!\n",
      "WARNING:root:No identity cache file specified!\n",
      "WARNING:root:No property cache specified!\n",
      "WARNING:root:No identity cache file specified!\n",
      "WARNING:root:No property cache specified!\n",
      "WARNING:root:No identity cache file specified!\n",
      "WARNING:root:No property cache specified!\n",
      "WARNING:root:No identity cache file specified!\n"
     ]
    },
    {
     "name": "stdout",
     "output_type": "stream",
     "text": [
      "S0304389408003610\n",
      "81\n"
     ]
    },
    {
     "name": "stderr",
     "output_type": "stream",
     "text": [
      "WARNING:root:No property cache specified!\n",
      "WARNING:root:No identity cache file specified!\n",
      "WARNING:root:No property cache specified!\n",
      "WARNING:root:No identity cache file specified!\n",
      "WARNING:root:No property cache specified!\n",
      "WARNING:root:No identity cache file specified!\n",
      "WARNING:root:No property cache specified!\n",
      "WARNING:root:No identity cache file specified!\n",
      "WARNING:root:No property cache specified!\n",
      "WARNING:root:No identity cache file specified!\n",
      "WARNING:root:No property cache specified!\n",
      "WARNING:root:No identity cache file specified!\n"
     ]
    },
    {
     "name": "stdout",
     "output_type": "stream",
     "text": [
      "S0304389409019554\n",
      "48\n"
     ]
    },
    {
     "name": "stderr",
     "output_type": "stream",
     "text": [
      "WARNING:root:No property cache specified!\n",
      "WARNING:root:No identity cache file specified!\n",
      "WARNING:root:No property cache specified!\n",
      "WARNING:root:No identity cache file specified!\n",
      "WARNING:root:No property cache specified!\n",
      "WARNING:root:No identity cache file specified!\n",
      "WARNING:root:No property cache specified!\n",
      "WARNING:root:No identity cache file specified!\n",
      "WARNING:root:Following chemical is unidentified:\n",
      " [ 52 ]\n",
      "WARNING:root:No identity cache file specified!\n",
      "WARNING:root:No property cache specified!\n",
      "WARNING:root:No identity cache file specified!\n",
      "WARNING:root:No property cache specified!\n",
      "WARNING:root:No identity cache file specified!\n",
      "WARNING:root:No property cache specified!\n",
      "WARNING:root:No identity cache file specified!\n"
     ]
    },
    {
     "name": "stdout",
     "output_type": "stream",
     "text": [
      "S0304389409019554\n",
      "49\n"
     ]
    },
    {
     "name": "stderr",
     "output_type": "stream",
     "text": [
      "WARNING:root:Following chemical is unidentified:\n",
      " 0.5NaOH : 62H2O : 0.1NaF\n",
      "WARNING:root:No identity cache file specified!\n",
      "WARNING:root:Following chemical is unidentified:\n",
      " 1.0SiO2\n",
      "WARNING:root:No identity cache file specified!\n",
      "WARNING:root:No property cache specified!\n",
      "WARNING:root:No identity cache file specified!\n",
      "WARNING:root:Following chemical is unidentified:\n",
      " MCM-48\n",
      "WARNING:root:No identity cache file specified!\n",
      "WARNING:root:No property cache specified!\n",
      "WARNING:root:No identity cache file specified!\n",
      "WARNING:root:No property cache specified!\n",
      "WARNING:root:No identity cache file specified!\n",
      "WARNING:root:No property cache specified!\n",
      "WARNING:root:No identity cache file specified!\n",
      "WARNING:root:Following chemical is unidentified:\n",
      " [ 53 ]\n",
      "WARNING:root:No identity cache file specified!\n",
      "WARNING:root:No property cache specified!\n",
      "WARNING:root:No identity cache file specified!\n",
      "WARNING:root:No property cache specified!\n",
      "WARNING:root:No identity cache file specified!\n"
     ]
    },
    {
     "name": "stdout",
     "output_type": "stream",
     "text": [
      "s1085300936109\n",
      "30\n"
     ]
    },
    {
     "name": "stderr",
     "output_type": "stream",
     "text": [
      "WARNING:root:Following chemical is unidentified:\n",
      " ( 4.35-8.90 )\n",
      "WARNING:root:No identity cache file specified!\n",
      "WARNING:root:No property cache specified!\n",
      "ERROR:root:Error encountered converting raw info to pint unit:\n",
      "----------------------\n",
      "ERROR:root:amount in question: name                            H2O\n",
      "mass             [50-200 g, 50.0 g]\n",
      "concentration                   NaN\n",
      "Units used             [mass, mass]\n",
      "Name: 1, dtype: object\n",
      "WARNING:root:No identity cache file specified!\n",
      "WARNING:root:No property cache specified!\n",
      "WARNING:root:No identity cache file specified!\n",
      "WARNING:root:No property cache specified!\n",
      "WARNING:root:No identity cache file specified!\n",
      "WARNING:root:No property cache specified!\n",
      "WARNING:root:No identity cache file specified!\n",
      "WARNING:root:No property cache specified!\n",
      "WARNING:root:No identity cache file specified!\n",
      "WARNING:root:No property cache specified!\n",
      "WARNING:root:No identity cache file specified!\n",
      "WARNING:root:No property cache specified!\n",
      "WARNING:root:No identity cache file specified!\n",
      "WARNING:root:No property cache specified!\n",
      "WARNING:root:No identity cache file specified!\n",
      "WARNING:root:No property cache specified!\n",
      "WARNING:root:No identity cache file specified!\n",
      "WARNING:root:Following chemical is unidentified:\n",
      " silicas\n",
      "WARNING:root:No identity cache file specified!\n",
      "WARNING:root:No property cache specified!\n",
      "WARNING:root:No identity cache file specified!\n",
      "WARNING:root:Following chemical is unidentified:\n",
      " surfactant-silica\n",
      "WARNING:root:No identity cache file specified!\n"
     ]
    },
    {
     "name": "stdout",
     "output_type": "stream",
     "text": [
      "S1387181103006966\n",
      "40\n"
     ]
    },
    {
     "name": "stderr",
     "output_type": "stream",
     "text": [
      "WARNING:root:Following chemical is unidentified:\n",
      " F127\n",
      "WARNING:root:No identity cache file specified!\n",
      "WARNING:root:No property cache specified!\n",
      "WARNING:root:No identity cache file specified!\n",
      "WARNING:root:No property cache specified!\n",
      "WARNING:root:No identity cache file specified!\n",
      "WARNING:root:Following chemical is unidentified:\n",
      " MAR-5\n",
      "WARNING:root:No identity cache file specified!\n",
      "WARNING:root:Following chemical is unidentified:\n",
      " Pluronic F127\n",
      "WARNING:root:No identity cache file specified!\n",
      "WARNING:root:Following chemical is unidentified:\n",
      " S30 / M60\n",
      "WARNING:root:No identity cache file specified!\n",
      "WARNING:root:Following chemical is unidentified:\n",
      " SBA-16\n",
      "WARNING:root:No identity cache file specified!\n",
      "WARNING:root:No property cache specified!\n",
      "WARNING:root:No identity cache file specified!\n",
      "WARNING:root:No property cache specified!\n",
      "WARNING:root:No identity cache file specified!\n",
      "WARNING:root:No property cache specified!\n",
      "WARNING:root:There's a mismatch in the number of percent units found and reported.\n",
      "This entry will not be calculated just now.\n",
      "WARNING:root:No identity cache file specified!\n",
      "WARNING:root:No property cache specified!\n",
      "WARNING:root:No identity cache file specified!\n",
      "WARNING:root:No property cache specified!\n",
      "WARNING:root:No identity cache file specified!\n",
      "WARNING:root:No property cache specified!\n",
      "WARNING:root:No identity cache file specified!\n"
     ]
    },
    {
     "name": "stdout",
     "output_type": "stream",
     "text": [
      "S1566736702000511\n",
      "35\n"
     ]
    },
    {
     "name": "stderr",
     "output_type": "stream",
     "text": [
      "WARNING:root:No property cache specified!\n",
      "WARNING:root:No identity cache file specified!\n",
      "WARNING:root:No property cache specified!\n",
      "WARNING:root:No identity cache file specified!\n",
      "WARNING:root:No property cache specified!\n",
      "WARNING:root:No identity cache file specified!\n",
      "WARNING:root:No property cache specified!\n",
      "WARNING:root:No identity cache file specified!\n",
      "WARNING:root:No property cache specified!\n",
      "WARNING:root:No identity cache file specified!\n"
     ]
    },
    {
     "name": "stdout",
     "output_type": "stream",
     "text": [
      "S1566736702000511\n",
      "36\n"
     ]
    },
    {
     "name": "stderr",
     "output_type": "stream",
     "text": [
      "WARNING:root:No property cache specified!\n",
      "WARNING:root:No identity cache file specified!\n",
      "WARNING:root:No property cache specified!\n",
      "WARNING:root:No identity cache file specified!\n",
      "WARNING:root:No property cache specified!\n",
      "WARNING:root:No identity cache file specified!\n",
      "WARNING:root:No property cache specified!\n",
      "WARNING:root:No identity cache file specified!\n",
      "WARNING:root:No property cache specified!\n",
      "WARNING:root:No identity cache file specified!\n",
      "WARNING:root:No property cache specified!\n"
     ]
    }
   ],
   "source": [
    "all_boms = pd.DataFrame()\n",
    "for c,x in sequences.items():\n",
    "    paper_id = x.clean_synthesis['paper_identifier'].unique()[0]\n",
    "    para_no = x.clean_synthesis['paragraph_number'].unique()[0]\n",
    "\n",
    "    print(paper_id)\n",
    "    print(para_no)\n",
    "\n",
    "    x.extract_chemicals()\n",
    "\n",
    "    working_bom = x.chemical_list.produce_bill_of_mats().bill_of_materials\n",
    "    working_bom['synthesis_number'] = c\n",
    "    working_bom['paper_identifier'] = paper_id\n",
    "    working_bom['paragraph_number'] = para_no\n",
    "\n",
    "    all_boms = all_boms.append(working_bom)"
   ]
  },
  {
   "cell_type": "code",
   "execution_count": 34,
   "metadata": {},
   "outputs": [],
   "source": [
    "all_boms.to_csv('reagent_information.csv')"
   ]
  },
  {
   "attachments": {},
   "cell_type": "markdown",
   "metadata": {},
   "source": [
    "From this, we'll build a `BillOfMaterials`, with chemicals grouped by identity and the total amount of moles provided. This lets us perform a lot of later analysis into reaction stoichiometry and the like."
   ]
  },
  {
   "attachments": {},
   "cell_type": "markdown",
   "metadata": {},
   "source": [
    "## Extracting time and temperature information from the sequence\n",
    "We then perform a similar set of processing for reaction conditions like times and temperatures, grouping into minutes and degrees kelvin respectively.\n",
    "We can then analyse the total synthesis time, and set of temperatures used for later comparison between different protocols."
   ]
  },
  {
   "cell_type": "code",
   "execution_count": 30,
   "metadata": {},
   "outputs": [
    {
     "name": "stderr",
     "output_type": "stream",
     "text": [
      "WARNING:root:Failed for: \"this temperature\"\n",
      "WARNING:root:\t ValueError error raised: could not convert string to float: 'this'\n",
      "WARNING:root:Failed for: \"this temperature\"\n",
      "WARNING:root:\t ValueError error raised: could not convert string to float: 'this'\n"
     ]
    },
    {
     "name": "stdout",
     "output_type": "stream",
     "text": [
      "Time extraction failed for: \"min\", original was \"min\"\n",
      "IndexError list index out of range\n",
      "Time extraction failed for: \"hour\", original was \"h\"\n",
      "IndexError list index out of range\n",
      "Time extraction failed for: \"min\", original was \"min\"\n",
      "IndexError list index out of range\n",
      "Time extraction failed for: \"min\", original was \"min\"\n",
      "IndexError list index out of range\n",
      "Time extraction failed for: \"hour\", original was \"h\"\n",
      "IndexError list index out of range\n",
      "Time extraction failed for: \"min\", original was \"min\"\n",
      "IndexError list index out of range\n",
      "Time extraction failed for: \"hour\", original was \"h\"\n",
      "IndexError list index out of range\n",
      "Time extraction failed for: \"hour\", original was \"h\"\n",
      "IndexError list index out of range\n",
      "Time extraction failed for: \"a\", original was \"for a period\"\n",
      "IndexError list index out of range\n",
      "Time extraction failed for: \"hour\", original was \"h\"\n",
      "IndexError list index out of range\n",
      "Time extraction failed for: \"hour\", original was \"h\"\n",
      "IndexError list index out of range\n",
      "Time extraction failed for: \"a\", original was \"for a period\"\n",
      "IndexError list index out of range\n",
      "Time extraction failed for: \"hour\", original was \"h\"\n",
      "IndexError list index out of range\n",
      "Time extraction failed for: \"hour\", original was \"h\"\n",
      "IndexError list index out of range\n"
     ]
    },
    {
     "name": "stderr",
     "output_type": "stream",
     "text": [
      "WARNING:root:Failed for: \"a temperature\"\n",
      "WARNING:root:\t ValueError error raised: could not convert string to float: 'a'\n",
      "WARNING:root:Failed for: \"∼60 °C\"\n",
      "WARNING:root:\t ValueError error raised: could not convert string to float: '∼60'\n",
      "WARNING:root:Failed for: \"a temperature\"\n",
      "WARNING:root:\t ValueError error raised: could not convert string to float: 'a'\n",
      "WARNING:root:Failed for: \"∼60 °C\"\n",
      "WARNING:root:\t ValueError error raised: could not convert string to float: '∼60'\n"
     ]
    },
    {
     "name": "stdout",
     "output_type": "stream",
     "text": [
      "Time extraction failed for: \"hour\", original was \"h\"\n",
      "IndexError list index out of range\n",
      "Time extraction failed for: \"periods\", original was \"for periods\"\n",
      "IndexError list index out of range\n",
      "Time extraction failed for: \"time\", original was \"of time\"\n",
      "IndexError list index out of range\n",
      "Time extraction failed for: \"hour\", original was \"h\"\n",
      "IndexError list index out of range\n",
      "Time extraction failed for: \"periods\", original was \"for periods\"\n",
      "IndexError list index out of range\n",
      "Time extraction failed for: \"time\", original was \"of time\"\n",
      "IndexError list index out of range\n",
      "Time extraction failed for: \"day\", original was \"D\"\n",
      "IndexError list index out of range\n",
      "Time extraction failed for: \"day\", original was \"D\"\n",
      "IndexError list index out of range\n"
     ]
    },
    {
     "name": "stderr",
     "output_type": "stream",
     "text": [
      "WARNING:root:Failed for: \"temperature\"\n",
      "WARNING:root:\t IndexError error raised: list index out of range\n",
      "WARNING:root:Failed for: \"temperature\"\n",
      "WARNING:root:\t IndexError error raised: list index out of range\n"
     ]
    },
    {
     "name": "stdout",
     "output_type": "stream",
     "text": [
      "Time extraction failed for: \"time\", original was \"time\"\n",
      "IndexError list index out of range\n",
      "Time extraction failed for: \"time\", original was \"time\"\n",
      "IndexError list index out of range\n",
      "Time extraction failed for: \"several minutes\", original was \"for several minutes\"\n",
      "ValueError could not convert string to float: 'several'\n",
      "Time extraction failed for: \"several minutes\", original was \"for several minutes\"\n",
      "ValueError could not convert string to float: 'several'\n",
      "Time extraction failed for: \"a few minutes\", original was \"After a few minutes\"\n",
      "ValueError could not convert string to float: 'few'\n",
      "Time extraction failed for: \"hour\", original was \"h\"\n",
      "IndexError list index out of range\n",
      "Time extraction failed for: \"days\", original was \"days\"\n",
      "IndexError list index out of range\n",
      "Time extraction failed for: \"per half hour\", original was \"per half hour\"\n",
      "ValueError could not convert string to float: 'half'\n",
      "Time extraction failed for: \"a few minutes\", original was \"After a few minutes\"\n",
      "ValueError could not convert string to float: 'few'\n",
      "Time extraction failed for: \"hour\", original was \"h\"\n",
      "IndexError list index out of range\n",
      "Time extraction failed for: \"days\", original was \"days\"\n",
      "IndexError list index out of range\n",
      "Time extraction failed for: \"per half hour\", original was \"per half hour\"\n",
      "ValueError could not convert string to float: 'half'\n",
      "Time extraction failed for: \"time\", original was \"time\"\n",
      "IndexError list index out of range\n",
      "Time extraction failed for: \"time\", original was \"time\"\n",
      "IndexError list index out of range\n",
      "Time extraction failed for: \"time\", original was \"time\"\n",
      "IndexError list index out of range\n",
      "Time extraction failed for: \"time\", original was \"time\"\n",
      "IndexError list index out of range\n"
     ]
    }
   ],
   "source": [
    "all_times = pd.DataFrame()\n",
    "all_temps = pd.DataFrame()\n",
    "for c,x in sequences.items():\n",
    "    x.extract_conditions()\n",
    "\n",
    "    working_conds = x.conditions\n",
    "\n",
    "\n",
    "    working_time = x.conditions.times\n",
    "    working_temp = x.conditions.temps\n",
    "\n",
    "    working_time['synthesis_number'] = c\n",
    "    working_time['paper_identifier'] = x.clean_synthesis['paper_identifier']\n",
    "    working_time['paragraph_number'] = x.clean_synthesis['paragraph_number']\n",
    "\n",
    "    all_times = all_times.append(working_time)\n",
    "\n",
    "    working_temp['synthesis_number'] = c\n",
    "    working_temp['paper_identifier'] = x.clean_synthesis['paper_identifier']\n",
    "    working_temp['paragraph_number'] = x.clean_synthesis['paragraph_number']\n",
    "\n",
    "    all_temps = all_temps.append(working_temp)\n"
   ]
  },
  {
   "cell_type": "code",
   "execution_count": 37,
   "metadata": {
    "ExecuteTime": {
     "end_time": "2022-12-01T16:20:29.622106Z",
     "start_time": "2022-12-01T16:20:29.584076Z"
    }
   },
   "outputs": [],
   "source": [
    "all_times.to_csv('time_information.csv')"
   ]
  },
  {
   "cell_type": "code",
   "execution_count": 38,
   "metadata": {
    "ExecuteTime": {
     "end_time": "2022-12-01T16:20:30.214208Z",
     "start_time": "2022-12-01T16:20:30.207209Z"
    },
    "pycharm": {
     "name": "#%%\n"
    }
   },
   "outputs": [],
   "source": [
    "all_temps.to_csv('temperature_information.csv')"
   ]
  }
 ],
 "metadata": {
  "kernelspec": {
   "display_name": "Python 3",
   "language": "python",
   "name": "python3"
  },
  "language_info": {
   "codemirror_mode": {
    "name": "ipython",
    "version": 3
   },
   "file_extension": ".py",
   "mimetype": "text/x-python",
   "name": "python",
   "nbconvert_exporter": "python",
   "pygments_lexer": "ipython3",
   "version": "3.7.10"
  },
  "toc": {
   "base_numbering": 1,
   "nav_menu": {},
   "number_sections": true,
   "sideBar": true,
   "skip_h1_title": true,
   "title_cell": "Table of Contents",
   "title_sidebar": "Contents",
   "toc_cell": false,
   "toc_position": {},
   "toc_section_display": true,
   "toc_window_display": false
  }
 },
 "nbformat": 4,
 "nbformat_minor": 1
}
