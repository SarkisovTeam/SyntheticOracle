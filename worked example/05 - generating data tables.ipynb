{
 "cells": [
  {
   "attachments": {},
   "cell_type": "markdown",
   "metadata": {
    "collapsed": true,
    "pycharm": {
     "name": "#%% md\n"
    }
   },
   "source": [
    "# Building data tables from a corpus of papers\n",
    "\n",
    "Once a synthesis protocol has been parsed into a basic sequence and stored as a `.json` file, we need to convert ll the parsed information into useable formats for further analysis. \n",
    "In this notebook, we will go through all of the data parsing for a single paper to demonstrate the data structures available."
   ]
  },
  {
   "cell_type": "code",
   "execution_count": 1,
   "metadata": {
    "ExecuteTime": {
     "end_time": "2022-12-01T16:19:19.166794Z",
     "start_time": "2022-12-01T16:19:17.560796Z"
    }
   },
   "outputs": [],
   "source": [
    "import os\n",
    "import sys\n",
    "import matplotlib.pyplot as plt\n",
    "\n",
    "try:\n",
    "    from synoracle.interpret import sequence, ingredients\n",
    "except ModuleNotFoundError:\n",
    "    module_path = os.path.abspath(os.path.join('..'))\n",
    "    if module_path not in sys.path:\n",
    "        sys.path.append(module_path)\n",
    "    from synoracle.interpret import sequence, ingredients"
   ]
  },
  {
   "cell_type": "code",
   "execution_count": 2,
   "metadata": {
    "ExecuteTime": {
     "end_time": "2022-12-01T16:19:25.723254Z",
     "start_time": "2022-12-01T16:19:25.584258Z"
    },
    "pycharm": {
     "name": "#%%\n"
    }
   },
   "outputs": [],
   "source": [
    "from glob import glob\n",
    "from tqdm.notebook import tqdm, trange\n",
    "import numpy as np\n",
    "import pandas as pd\n",
    "pd.options.mode.chained_assignment = None\n",
    "import json\n",
    "def li_iterate(li):\n",
    "    l = iter(li)\n",
    "    for _ in trange(len(li)):\n",
    "        yield next(l)"
   ]
  },
  {
   "attachments": {},
   "cell_type": "markdown",
   "metadata": {},
   "source": [
    "## Importing the sequence data frame into pandas\n",
    "First, we instantiate a `Sequence` object which contains the synthesis steps as a pandas dataframe. It starts as a `raw_synthesis`"
   ]
  },
  {
   "cell_type": "code",
   "execution_count": 3,
   "metadata": {
    "ExecuteTime": {
     "end_time": "2022-12-01T16:19:26.818144Z",
     "start_time": "2022-12-01T16:19:26.712144Z"
    }
   },
   "outputs": [
    {
     "data": {
      "text/html": [
       "<div>\n",
       "<style scoped>\n",
       "    .dataframe tbody tr th:only-of-type {\n",
       "        vertical-align: middle;\n",
       "    }\n",
       "\n",
       "    .dataframe tbody tr th {\n",
       "        vertical-align: top;\n",
       "    }\n",
       "\n",
       "    .dataframe thead th {\n",
       "        text-align: right;\n",
       "    }\n",
       "</style>\n",
       "<table border=\"1\" class=\"dataframe\">\n",
       "  <thead>\n",
       "    <tr style=\"text-align: right;\">\n",
       "      <th></th>\n",
       "      <th>name</th>\n",
       "      <th>text</th>\n",
       "      <th>new_chemicals</th>\n",
       "      <th>temp</th>\n",
       "      <th>time</th>\n",
       "      <th>prepphrase</th>\n",
       "      <th>apparatus</th>\n",
       "      <th>step number</th>\n",
       "    </tr>\n",
       "  </thead>\n",
       "  <tbody>\n",
       "    <tr>\n",
       "      <th>0</th>\n",
       "      <td>Synthesize</td>\n",
       "      <td>The ZIF-8 nanoparticles were synthesized</td>\n",
       "      <td>[]</td>\n",
       "      <td>[]</td>\n",
       "      <td>[]</td>\n",
       "      <td>[]</td>\n",
       "      <td>[]</td>\n",
       "      <td>0</td>\n",
       "    </tr>\n",
       "    <tr>\n",
       "      <th>1</th>\n",
       "      <td>Dissolve</td>\n",
       "      <td>Zn(NO3)2·6H2O ( 3 g , 10 mmol ) in 200 mL of m...</td>\n",
       "      <td>[{'name': 'Zn(NO3)2·6H2O', 'mass': '3 g', 'oth...</td>\n",
       "      <td>[]</td>\n",
       "      <td>[]</td>\n",
       "      <td>[]</td>\n",
       "      <td>[]</td>\n",
       "      <td>1</td>\n",
       "    </tr>\n",
       "    <tr>\n",
       "      <th>2</th>\n",
       "      <td>Add</td>\n",
       "      <td>was rapidly poured into an equal volume methan...</td>\n",
       "      <td>[{'name': 'methanol', 'mass': None, 'other_amo...</td>\n",
       "      <td>[]</td>\n",
       "      <td>[]</td>\n",
       "      <td>[into an equal volume methanol solution of Hmi...</td>\n",
       "      <td>[]</td>\n",
       "      <td>2</td>\n",
       "    </tr>\n",
       "    <tr>\n",
       "      <th>3</th>\n",
       "      <td>Stir</td>\n",
       "      <td>with vigorous stirring at room temperature</td>\n",
       "      <td>[]</td>\n",
       "      <td>[at room temperature]</td>\n",
       "      <td>[]</td>\n",
       "      <td>[]</td>\n",
       "      <td>[]</td>\n",
       "      <td>3</td>\n",
       "    </tr>\n",
       "    <tr>\n",
       "      <th>4</th>\n",
       "      <td>None</td>\n",
       "      <td>following the method reported by Cravillon et ...</td>\n",
       "      <td>[]</td>\n",
       "      <td>[]</td>\n",
       "      <td>[]</td>\n",
       "      <td>[by Cravillon et, al.29]</td>\n",
       "      <td>[]</td>\n",
       "      <td>4</td>\n",
       "    </tr>\n",
       "    <tr>\n",
       "      <th>5</th>\n",
       "      <td>Stir</td>\n",
       "      <td>After stirring for 1 h</td>\n",
       "      <td>[]</td>\n",
       "      <td>[]</td>\n",
       "      <td>[for 1 h]</td>\n",
       "      <td>[]</td>\n",
       "      <td>[]</td>\n",
       "      <td>5</td>\n",
       "    </tr>\n",
       "    <tr>\n",
       "      <th>6</th>\n",
       "      <td>Recover</td>\n",
       "      <td>the resulting ZIF-8 nanoparticles were collect...</td>\n",
       "      <td>[]</td>\n",
       "      <td>[]</td>\n",
       "      <td>[for 8 min]</td>\n",
       "      <td>[by centrifugation, at 6010 g]</td>\n",
       "      <td>[]</td>\n",
       "      <td>6</td>\n",
       "    </tr>\n",
       "    <tr>\n",
       "      <th>7</th>\n",
       "      <td>Wash</td>\n",
       "      <td>washing three times with methanol</td>\n",
       "      <td>[{'name': 'methanol', 'mass': None, 'other_amo...</td>\n",
       "      <td>[]</td>\n",
       "      <td>[]</td>\n",
       "      <td>[with methanol]</td>\n",
       "      <td>[]</td>\n",
       "      <td>7</td>\n",
       "    </tr>\n",
       "    <tr>\n",
       "      <th>8</th>\n",
       "      <td>None</td>\n",
       "      <td>The nanoparticles were lyophilized before use .</td>\n",
       "      <td>[]</td>\n",
       "      <td>[]</td>\n",
       "      <td>[]</td>\n",
       "      <td>[before use]</td>\n",
       "      <td>[]</td>\n",
       "      <td>8</td>\n",
       "    </tr>\n",
       "    <tr>\n",
       "      <th>9</th>\n",
       "      <td>None</td>\n",
       "      <td>The as-synthesized ZIF-8 had a crystal size of...</td>\n",
       "      <td>[]</td>\n",
       "      <td>[]</td>\n",
       "      <td>[]</td>\n",
       "      <td>[of ∼50 nm]</td>\n",
       "      <td>[]</td>\n",
       "      <td>9</td>\n",
       "    </tr>\n",
       "    <tr>\n",
       "      <th>10</th>\n",
       "      <td>Yield</td>\n",
       "      <td>And ZIF-8 with a size of ∼150 nm can be obtained</td>\n",
       "      <td>[]</td>\n",
       "      <td>[]</td>\n",
       "      <td>[]</td>\n",
       "      <td>[with a size of ∼150 nm, of ∼150 nm]</td>\n",
       "      <td>[]</td>\n",
       "      <td>10</td>\n",
       "    </tr>\n",
       "    <tr>\n",
       "      <th>11</th>\n",
       "      <td>None</td>\n",
       "      <td>by doubling the concentration of Zn(NO3)2·6H2O...</td>\n",
       "      <td>[{'name': 'Zn(NO3)2·6H2O', 'mass': None, 'othe...</td>\n",
       "      <td>[]</td>\n",
       "      <td>[]</td>\n",
       "      <td>[of Zn(NO3)2·6H2O and Hmim]</td>\n",
       "      <td>[]</td>\n",
       "      <td>11</td>\n",
       "    </tr>\n",
       "  </tbody>\n",
       "</table>\n",
       "</div>"
      ],
      "text/plain": [
       "          name                                               text  \\\n",
       "0   Synthesize           The ZIF-8 nanoparticles were synthesized   \n",
       "1     Dissolve  Zn(NO3)2·6H2O ( 3 g , 10 mmol ) in 200 mL of m...   \n",
       "2          Add  was rapidly poured into an equal volume methan...   \n",
       "3         Stir         with vigorous stirring at room temperature   \n",
       "4         None  following the method reported by Cravillon et ...   \n",
       "5         Stir                             After stirring for 1 h   \n",
       "6      Recover  the resulting ZIF-8 nanoparticles were collect...   \n",
       "7         Wash                  washing three times with methanol   \n",
       "8         None    The nanoparticles were lyophilized before use .   \n",
       "9         None  The as-synthesized ZIF-8 had a crystal size of...   \n",
       "10       Yield   And ZIF-8 with a size of ∼150 nm can be obtained   \n",
       "11        None  by doubling the concentration of Zn(NO3)2·6H2O...   \n",
       "\n",
       "                                        new_chemicals                   temp  \\\n",
       "0                                                  []                     []   \n",
       "1   [{'name': 'Zn(NO3)2·6H2O', 'mass': '3 g', 'oth...                     []   \n",
       "2   [{'name': 'methanol', 'mass': None, 'other_amo...                     []   \n",
       "3                                                  []  [at room temperature]   \n",
       "4                                                  []                     []   \n",
       "5                                                  []                     []   \n",
       "6                                                  []                     []   \n",
       "7   [{'name': 'methanol', 'mass': None, 'other_amo...                     []   \n",
       "8                                                  []                     []   \n",
       "9                                                  []                     []   \n",
       "10                                                 []                     []   \n",
       "11  [{'name': 'Zn(NO3)2·6H2O', 'mass': None, 'othe...                     []   \n",
       "\n",
       "           time                                         prepphrase apparatus  \\\n",
       "0            []                                                 []        []   \n",
       "1            []                                                 []        []   \n",
       "2            []  [into an equal volume methanol solution of Hmi...        []   \n",
       "3            []                                                 []        []   \n",
       "4            []                           [by Cravillon et, al.29]        []   \n",
       "5     [for 1 h]                                                 []        []   \n",
       "6   [for 8 min]                     [by centrifugation, at 6010 g]        []   \n",
       "7            []                                    [with methanol]        []   \n",
       "8            []                                       [before use]        []   \n",
       "9            []                                        [of ∼50 nm]        []   \n",
       "10           []               [with a size of ∼150 nm, of ∼150 nm]        []   \n",
       "11           []                        [of Zn(NO3)2·6H2O and Hmim]        []   \n",
       "\n",
       "    step number  \n",
       "0             0  \n",
       "1             1  \n",
       "2             2  \n",
       "3             3  \n",
       "4             4  \n",
       "5             5  \n",
       "6             6  \n",
       "7             7  \n",
       "8             8  \n",
       "9             9  \n",
       "10           10  \n",
       "11           11  "
      ]
     },
     "execution_count": 3,
     "metadata": {},
     "output_type": "execute_result"
    }
   ],
   "source": [
    "cq = sequence.Sequence.from_json('./RSC_mcm/c5nj03147h/sequence.12.json')\n",
    "cq.raw_synthesis"
   ]
  },
  {
   "attachments": {},
   "cell_type": "markdown",
   "metadata": {},
   "source": [
    "### Pulling out chemical information\n",
    "The first thing we'll do is extract information about the chemicals involved in the synthesis procedure. \n",
    "We'll start by building a `chemical_list` of the mentioned materials with quanities sorted by type (mass, volume, concentration, moles (other_amount))."
   ]
  },
  {
   "cell_type": "code",
   "execution_count": 4,
   "metadata": {
    "ExecuteTime": {
     "end_time": "2022-12-01T16:19:28.210384Z",
     "start_time": "2022-12-01T16:19:28.183384Z"
    }
   },
   "outputs": [
    {
     "data": {
      "text/html": [
       "<div>\n",
       "<style scoped>\n",
       "    .dataframe tbody tr th:only-of-type {\n",
       "        vertical-align: middle;\n",
       "    }\n",
       "\n",
       "    .dataframe tbody tr th {\n",
       "        vertical-align: top;\n",
       "    }\n",
       "\n",
       "    .dataframe thead th {\n",
       "        text-align: right;\n",
       "    }\n",
       "</style>\n",
       "<table border=\"1\" class=\"dataframe\">\n",
       "  <thead>\n",
       "    <tr style=\"text-align: right;\">\n",
       "      <th></th>\n",
       "      <th>name</th>\n",
       "      <th>mass</th>\n",
       "      <th>other_amount</th>\n",
       "      <th>volume</th>\n",
       "      <th>percent</th>\n",
       "      <th>concentration</th>\n",
       "      <th>aliases</th>\n",
       "      <th>Units used</th>\n",
       "    </tr>\n",
       "  </thead>\n",
       "  <tbody>\n",
       "    <tr>\n",
       "      <th>0</th>\n",
       "      <td>Zn(NO3)2·6H2O</td>\n",
       "      <td>3 g</td>\n",
       "      <td>10 mmol</td>\n",
       "      <td>None</td>\n",
       "      <td>None</td>\n",
       "      <td>None</td>\n",
       "      <td>[Zn(NO3)2·6H2O]</td>\n",
       "      <td>other_amount</td>\n",
       "    </tr>\n",
       "    <tr>\n",
       "      <th>1</th>\n",
       "      <td>methanol</td>\n",
       "      <td>None</td>\n",
       "      <td>None</td>\n",
       "      <td>200 mL</td>\n",
       "      <td>None</td>\n",
       "      <td>None</td>\n",
       "      <td>[methanol]</td>\n",
       "      <td>volume</td>\n",
       "    </tr>\n",
       "    <tr>\n",
       "      <th>2</th>\n",
       "      <td>methanol</td>\n",
       "      <td>None</td>\n",
       "      <td>None</td>\n",
       "      <td>None</td>\n",
       "      <td>None</td>\n",
       "      <td>None</td>\n",
       "      <td>[methanol]</td>\n",
       "      <td>NaN</td>\n",
       "    </tr>\n",
       "    <tr>\n",
       "      <th>3</th>\n",
       "      <td>methanol</td>\n",
       "      <td>None</td>\n",
       "      <td>None</td>\n",
       "      <td>None</td>\n",
       "      <td>None</td>\n",
       "      <td>None</td>\n",
       "      <td>[methanol]</td>\n",
       "      <td>NaN</td>\n",
       "    </tr>\n",
       "    <tr>\n",
       "      <th>4</th>\n",
       "      <td>Zn(NO3)2·6H2O</td>\n",
       "      <td>None</td>\n",
       "      <td>None</td>\n",
       "      <td>None</td>\n",
       "      <td>None</td>\n",
       "      <td>None</td>\n",
       "      <td>[Zn(NO3)2·6H2O]</td>\n",
       "      <td>NaN</td>\n",
       "    </tr>\n",
       "  </tbody>\n",
       "</table>\n",
       "</div>"
      ],
      "text/plain": [
       "            name  mass other_amount  volume percent concentration  \\\n",
       "0  Zn(NO3)2·6H2O   3 g      10 mmol    None    None          None   \n",
       "1       methanol  None         None  200 mL    None          None   \n",
       "2       methanol  None         None    None    None          None   \n",
       "3       methanol  None         None    None    None          None   \n",
       "4  Zn(NO3)2·6H2O  None         None    None    None          None   \n",
       "\n",
       "           aliases    Units used  \n",
       "0  [Zn(NO3)2·6H2O]  other_amount  \n",
       "1       [methanol]        volume  \n",
       "2       [methanol]           NaN  \n",
       "3       [methanol]           NaN  \n",
       "4  [Zn(NO3)2·6H2O]           NaN  "
      ]
     },
     "execution_count": 4,
     "metadata": {},
     "output_type": "execute_result"
    }
   ],
   "source": [
    "cq.extract_chemicals()\n",
    "cq.chemical_list.chemical_list"
   ]
  },
  {
   "attachments": {},
   "cell_type": "markdown",
   "metadata": {},
   "source": [
    "From this, we'll build a `BillOfMaterials`, with chemicals grouped by identity and the total amount of moles provided. This lets us perform a lot of later analysis into reaction stoichiometry and the like."
   ]
  },
  {
   "cell_type": "code",
   "execution_count": 5,
   "metadata": {
    "ExecuteTime": {
     "end_time": "2022-12-01T16:19:44.739714Z",
     "start_time": "2022-12-01T16:19:29.975335Z"
    }
   },
   "outputs": [],
   "source": [
    "ingreds_bom = cq.chemical_list.produce_bill_of_mats()"
   ]
  },
  {
   "cell_type": "code",
   "execution_count": 6,
   "metadata": {
    "ExecuteTime": {
     "end_time": "2022-12-01T16:19:44.754718Z",
     "start_time": "2022-12-01T16:19:44.741715Z"
    }
   },
   "outputs": [
    {
     "data": {
      "text/html": [
       "<div>\n",
       "<style scoped>\n",
       "    .dataframe tbody tr th:only-of-type {\n",
       "        vertical-align: middle;\n",
       "    }\n",
       "\n",
       "    .dataframe tbody tr th {\n",
       "        vertical-align: top;\n",
       "    }\n",
       "\n",
       "    .dataframe thead th {\n",
       "        text-align: right;\n",
       "    }\n",
       "</style>\n",
       "<table border=\"1\" class=\"dataframe\">\n",
       "  <thead>\n",
       "    <tr style=\"text-align: right;\">\n",
       "      <th></th>\n",
       "      <th>name</th>\n",
       "      <th>moles</th>\n",
       "    </tr>\n",
       "    <tr>\n",
       "      <th>pubchem id</th>\n",
       "      <th></th>\n",
       "      <th></th>\n",
       "    </tr>\n",
       "  </thead>\n",
       "  <tbody>\n",
       "    <tr>\n",
       "      <th>887</th>\n",
       "      <td>[methanol]</td>\n",
       "      <td>5.140863</td>\n",
       "    </tr>\n",
       "    <tr>\n",
       "      <th>15865313</th>\n",
       "      <td>[Zn(NO3)2·6H2O]</td>\n",
       "      <td>0.010000</td>\n",
       "    </tr>\n",
       "  </tbody>\n",
       "</table>\n",
       "</div>"
      ],
      "text/plain": [
       "                       name     moles\n",
       "pubchem id                           \n",
       "887              [methanol]  5.140863\n",
       "15865313    [Zn(NO3)2·6H2O]  0.010000"
      ]
     },
     "execution_count": 6,
     "metadata": {},
     "output_type": "execute_result"
    }
   ],
   "source": [
    "ingreds_bom.bill_of_materials"
   ]
  },
  {
   "attachments": {},
   "cell_type": "markdown",
   "metadata": {},
   "source": [
    "## Extracting time and temperature information from the sequence\n",
    "We then perform a similar set of processing for reaction conditions like times and temperatures, grouping into minutes and degrees kelvin respectively.\n",
    "We can then analyse the total synthesis time, and set of temperatures used for later comparison between different protocols."
   ]
  },
  {
   "cell_type": "code",
   "execution_count": 7,
   "metadata": {
    "ExecuteTime": {
     "end_time": "2022-12-01T16:20:29.622106Z",
     "start_time": "2022-12-01T16:20:29.584076Z"
    }
   },
   "outputs": [
    {
     "data": {
      "text/html": [
       "<div>\n",
       "<style scoped>\n",
       "    .dataframe tbody tr th:only-of-type {\n",
       "        vertical-align: middle;\n",
       "    }\n",
       "\n",
       "    .dataframe tbody tr th {\n",
       "        vertical-align: top;\n",
       "    }\n",
       "\n",
       "    .dataframe thead th {\n",
       "        text-align: right;\n",
       "    }\n",
       "</style>\n",
       "<table border=\"1\" class=\"dataframe\">\n",
       "  <thead>\n",
       "    <tr style=\"text-align: right;\">\n",
       "      <th></th>\n",
       "      <th>step number</th>\n",
       "      <th>time</th>\n",
       "      <th>temp</th>\n",
       "      <th>T (K)</th>\n",
       "      <th>Time (min)</th>\n",
       "    </tr>\n",
       "  </thead>\n",
       "  <tbody>\n",
       "    <tr>\n",
       "      <th>0</th>\n",
       "      <td>0</td>\n",
       "      <td>[]</td>\n",
       "      <td>[]</td>\n",
       "      <td>NaN</td>\n",
       "      <td>NaN</td>\n",
       "    </tr>\n",
       "    <tr>\n",
       "      <th>1</th>\n",
       "      <td>1</td>\n",
       "      <td>[]</td>\n",
       "      <td>[]</td>\n",
       "      <td>NaN</td>\n",
       "      <td>NaN</td>\n",
       "    </tr>\n",
       "    <tr>\n",
       "      <th>2</th>\n",
       "      <td>2</td>\n",
       "      <td>[]</td>\n",
       "      <td>[]</td>\n",
       "      <td>NaN</td>\n",
       "      <td>NaN</td>\n",
       "    </tr>\n",
       "    <tr>\n",
       "      <th>3</th>\n",
       "      <td>3</td>\n",
       "      <td>[]</td>\n",
       "      <td>[at room temperature]</td>\n",
       "      <td>[298.15]</td>\n",
       "      <td>NaN</td>\n",
       "    </tr>\n",
       "    <tr>\n",
       "      <th>4</th>\n",
       "      <td>4</td>\n",
       "      <td>[]</td>\n",
       "      <td>[]</td>\n",
       "      <td>NaN</td>\n",
       "      <td>NaN</td>\n",
       "    </tr>\n",
       "    <tr>\n",
       "      <th>5</th>\n",
       "      <td>5</td>\n",
       "      <td>[for 1 h]</td>\n",
       "      <td>[]</td>\n",
       "      <td>NaN</td>\n",
       "      <td>[60.0]</td>\n",
       "    </tr>\n",
       "    <tr>\n",
       "      <th>6</th>\n",
       "      <td>6</td>\n",
       "      <td>[for 8 min]</td>\n",
       "      <td>[]</td>\n",
       "      <td>NaN</td>\n",
       "      <td>[8.0]</td>\n",
       "    </tr>\n",
       "    <tr>\n",
       "      <th>7</th>\n",
       "      <td>7</td>\n",
       "      <td>[]</td>\n",
       "      <td>[]</td>\n",
       "      <td>NaN</td>\n",
       "      <td>NaN</td>\n",
       "    </tr>\n",
       "    <tr>\n",
       "      <th>8</th>\n",
       "      <td>8</td>\n",
       "      <td>[]</td>\n",
       "      <td>[]</td>\n",
       "      <td>NaN</td>\n",
       "      <td>NaN</td>\n",
       "    </tr>\n",
       "    <tr>\n",
       "      <th>9</th>\n",
       "      <td>9</td>\n",
       "      <td>[]</td>\n",
       "      <td>[]</td>\n",
       "      <td>NaN</td>\n",
       "      <td>NaN</td>\n",
       "    </tr>\n",
       "    <tr>\n",
       "      <th>10</th>\n",
       "      <td>10</td>\n",
       "      <td>[]</td>\n",
       "      <td>[]</td>\n",
       "      <td>NaN</td>\n",
       "      <td>NaN</td>\n",
       "    </tr>\n",
       "    <tr>\n",
       "      <th>11</th>\n",
       "      <td>11</td>\n",
       "      <td>[]</td>\n",
       "      <td>[]</td>\n",
       "      <td>NaN</td>\n",
       "      <td>NaN</td>\n",
       "    </tr>\n",
       "  </tbody>\n",
       "</table>\n",
       "</div>"
      ],
      "text/plain": [
       "    step number         time                   temp     T (K) Time (min)\n",
       "0             0           []                     []       NaN        NaN\n",
       "1             1           []                     []       NaN        NaN\n",
       "2             2           []                     []       NaN        NaN\n",
       "3             3           []  [at room temperature]  [298.15]        NaN\n",
       "4             4           []                     []       NaN        NaN\n",
       "5             5    [for 1 h]                     []       NaN     [60.0]\n",
       "6             6  [for 8 min]                     []       NaN      [8.0]\n",
       "7             7           []                     []       NaN        NaN\n",
       "8             8           []                     []       NaN        NaN\n",
       "9             9           []                     []       NaN        NaN\n",
       "10           10           []                     []       NaN        NaN\n",
       "11           11           []                     []       NaN        NaN"
      ]
     },
     "execution_count": 7,
     "metadata": {},
     "output_type": "execute_result"
    }
   ],
   "source": [
    "cq.extract_conditions()\n",
    "cq.conditions.time_temp"
   ]
  },
  {
   "cell_type": "code",
   "execution_count": 8,
   "metadata": {
    "ExecuteTime": {
     "end_time": "2022-12-01T16:20:30.214208Z",
     "start_time": "2022-12-01T16:20:30.207209Z"
    },
    "pycharm": {
     "name": "#%%\n"
    }
   },
   "outputs": [
    {
     "data": {
      "text/plain": [
       "68.0"
      ]
     },
     "execution_count": 8,
     "metadata": {},
     "output_type": "execute_result"
    }
   ],
   "source": [
    "sum(cq.conditions.time_temp['Time (min)'][cq.conditions.time_temp['Time (min)'].notna()].sum())"
   ]
  },
  {
   "cell_type": "code",
   "execution_count": 9,
   "metadata": {
    "ExecuteTime": {
     "end_time": "2022-12-01T16:20:30.885264Z",
     "start_time": "2022-12-01T16:20:30.879298Z"
    }
   },
   "outputs": [
    {
     "data": {
      "text/plain": [
       "{298.15}"
      ]
     },
     "execution_count": 9,
     "metadata": {},
     "output_type": "execute_result"
    }
   ],
   "source": [
    "set(cq.conditions.time_temp['T (K)'][cq.conditions.time_temp['T (K)'].notna()].sum())"
   ]
  },
  {
   "attachments": {},
   "cell_type": "markdown",
   "metadata": {},
   "source": [
    "### Analysing the sequence of actions itself\n",
    "Finally we can investigate the sequence of steps themselves to analyse how complex the synthesis is, and break down the ingredients and conditions by reaction step. \n",
    "We condense the synthesis procedure into \"blocks\", each with their own chemicals and conditions. \n",
    "This gives us the added opportuniy to perform like-for-like analysis on subsets of a reaction."
   ]
  },
  {
   "cell_type": "code",
   "execution_count": 10,
   "metadata": {},
   "outputs": [
    {
     "name": "stdout",
     "output_type": "stream",
     "text": [
      "(1, 3)\n",
      "(5, 5)\n",
      "(6, 7)\n",
      "(10, 10)\n"
     ]
    },
    {
     "data": {
      "text/html": [
       "<div>\n",
       "<style scoped>\n",
       "    .dataframe tbody tr th:only-of-type {\n",
       "        vertical-align: middle;\n",
       "    }\n",
       "\n",
       "    .dataframe tbody tr th {\n",
       "        vertical-align: top;\n",
       "    }\n",
       "\n",
       "    .dataframe thead th {\n",
       "        text-align: right;\n",
       "    }\n",
       "</style>\n",
       "<table border=\"1\" class=\"dataframe\">\n",
       "  <thead>\n",
       "    <tr style=\"text-align: right;\">\n",
       "      <th></th>\n",
       "      <th>new_chemicals</th>\n",
       "      <th>temp</th>\n",
       "      <th>time</th>\n",
       "      <th>Condensed steps</th>\n",
       "    </tr>\n",
       "    <tr>\n",
       "      <th>Step supertype</th>\n",
       "      <th></th>\n",
       "      <th></th>\n",
       "      <th></th>\n",
       "      <th></th>\n",
       "    </tr>\n",
       "  </thead>\n",
       "  <tbody>\n",
       "    <tr>\n",
       "      <th>add</th>\n",
       "      <td>[{'name': 'Zn(NO3)2·6H2O', 'mass': '3 g', 'oth...</td>\n",
       "      <td>[at room temperature]</td>\n",
       "      <td>[]</td>\n",
       "      <td>3</td>\n",
       "    </tr>\n",
       "    <tr>\n",
       "      <th>add</th>\n",
       "      <td>[]</td>\n",
       "      <td>[]</td>\n",
       "      <td>[for 1 h]</td>\n",
       "      <td>1</td>\n",
       "    </tr>\n",
       "    <tr>\n",
       "      <th>remove</th>\n",
       "      <td>[{'name': 'methanol', 'mass': None, 'other_amo...</td>\n",
       "      <td>[]</td>\n",
       "      <td>[for 8 min]</td>\n",
       "      <td>2</td>\n",
       "    </tr>\n",
       "    <tr>\n",
       "      <th>remove</th>\n",
       "      <td>[]</td>\n",
       "      <td>[]</td>\n",
       "      <td>[]</td>\n",
       "      <td>1</td>\n",
       "    </tr>\n",
       "  </tbody>\n",
       "</table>\n",
       "</div>"
      ],
      "text/plain": [
       "                                                    new_chemicals  \\\n",
       "Step supertype                                                      \n",
       "add             [{'name': 'Zn(NO3)2·6H2O', 'mass': '3 g', 'oth...   \n",
       "add                                                            []   \n",
       "remove          [{'name': 'methanol', 'mass': None, 'other_amo...   \n",
       "remove                                                         []   \n",
       "\n",
       "                                 temp         time  Condensed steps  \n",
       "Step supertype                                                       \n",
       "add             [at room temperature]           []                3  \n",
       "add                                []    [for 1 h]                1  \n",
       "remove                             []  [for 8 min]                2  \n",
       "remove                             []           []                1  "
      ]
     },
     "execution_count": 10,
     "metadata": {},
     "output_type": "execute_result"
    }
   ],
   "source": [
    "cq.condense_to_supertypes()\n",
    "cq.condensed_sequence"
   ]
  },
  {
   "cell_type": "code",
   "execution_count": 12,
   "metadata": {},
   "outputs": [
    {
     "data": {
      "text/html": [
       "<div>\n",
       "<style scoped>\n",
       "    .dataframe tbody tr th:only-of-type {\n",
       "        vertical-align: middle;\n",
       "    }\n",
       "\n",
       "    .dataframe tbody tr th {\n",
       "        vertical-align: top;\n",
       "    }\n",
       "\n",
       "    .dataframe thead th {\n",
       "        text-align: right;\n",
       "    }\n",
       "</style>\n",
       "<table border=\"1\" class=\"dataframe\">\n",
       "  <thead>\n",
       "    <tr style=\"text-align: right;\">\n",
       "      <th></th>\n",
       "      <th>name</th>\n",
       "      <th>moles</th>\n",
       "    </tr>\n",
       "    <tr>\n",
       "      <th>pubchem id</th>\n",
       "      <th></th>\n",
       "      <th></th>\n",
       "    </tr>\n",
       "  </thead>\n",
       "  <tbody>\n",
       "    <tr>\n",
       "      <th>887</th>\n",
       "      <td>[methanol]</td>\n",
       "      <td>5.140863</td>\n",
       "    </tr>\n",
       "    <tr>\n",
       "      <th>15865313</th>\n",
       "      <td>[Zn(NO3)2·6H2O]</td>\n",
       "      <td>0.010000</td>\n",
       "    </tr>\n",
       "  </tbody>\n",
       "</table>\n",
       "</div>"
      ],
      "text/plain": [
       "                       name     moles\n",
       "pubchem id                           \n",
       "887              [methanol]  5.140863\n",
       "15865313    [Zn(NO3)2·6H2O]  0.010000"
      ]
     },
     "execution_count": 12,
     "metadata": {},
     "output_type": "execute_result"
    }
   ],
   "source": [
    "\n",
    "cq.extract_chemicals(\n",
    "    partial_sequence =pd.DataFrame(cq.condensed_sequence.reset_index().loc[0]).T\n",
    "    )\n",
    "ingredients_sub_selection = cq.chemical_list.produce_bill_of_mats()\n",
    "\n",
    "ingredients_sub_selection.bill_of_materials"
   ]
  },
  {
   "cell_type": "code",
   "execution_count": 13,
   "metadata": {},
   "outputs": [
    {
     "data": {
      "text/html": [
       "<div>\n",
       "<style scoped>\n",
       "    .dataframe tbody tr th:only-of-type {\n",
       "        vertical-align: middle;\n",
       "    }\n",
       "\n",
       "    .dataframe tbody tr th {\n",
       "        vertical-align: top;\n",
       "    }\n",
       "\n",
       "    .dataframe thead th {\n",
       "        text-align: right;\n",
       "    }\n",
       "</style>\n",
       "<table border=\"1\" class=\"dataframe\">\n",
       "  <thead>\n",
       "    <tr style=\"text-align: right;\">\n",
       "      <th></th>\n",
       "      <th>time</th>\n",
       "      <th>temp</th>\n",
       "      <th>T (K)</th>\n",
       "      <th>Time (min)</th>\n",
       "    </tr>\n",
       "  </thead>\n",
       "  <tbody>\n",
       "    <tr>\n",
       "      <th>2</th>\n",
       "      <td>[for 8 min]</td>\n",
       "      <td>[]</td>\n",
       "      <td>NaN</td>\n",
       "      <td>[8.0]</td>\n",
       "    </tr>\n",
       "  </tbody>\n",
       "</table>\n",
       "</div>"
      ],
      "text/plain": [
       "          time temp T (K) Time (min)\n",
       "2  [for 8 min]   []   NaN      [8.0]"
      ]
     },
     "execution_count": 13,
     "metadata": {},
     "output_type": "execute_result"
    }
   ],
   "source": [
    "cq.extract_conditions(\n",
    "    partial_sequence =pd.DataFrame(cq.condensed_sequence.reset_index().loc[2]).T\n",
    ")\n",
    "cq.conditions.time_temp"
   ]
  },
  {
   "cell_type": "code",
   "execution_count": null,
   "metadata": {},
   "outputs": [],
   "source": []
  }
 ],
 "metadata": {
  "kernelspec": {
   "display_name": "Python (SynOracle)",
   "language": "python",
   "name": "synoracle"
  },
  "language_info": {
   "codemirror_mode": {
    "name": "ipython",
    "version": 3
   },
   "file_extension": ".py",
   "mimetype": "text/x-python",
   "name": "python",
   "nbconvert_exporter": "python",
   "pygments_lexer": "ipython3",
   "version": "3.7.10"
  },
  "toc": {
   "base_numbering": 1,
   "nav_menu": {},
   "number_sections": true,
   "sideBar": true,
   "skip_h1_title": true,
   "title_cell": "Table of Contents",
   "title_sidebar": "Contents",
   "toc_cell": false,
   "toc_position": {},
   "toc_section_display": true,
   "toc_window_display": false
  }
 },
 "nbformat": 4,
 "nbformat_minor": 1
}
